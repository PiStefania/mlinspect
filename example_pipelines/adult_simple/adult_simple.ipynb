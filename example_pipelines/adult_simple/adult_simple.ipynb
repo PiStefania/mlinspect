{
 "cells": [
  {
   "cell_type": "code",
   "execution_count": 1,
   "metadata": {},
   "outputs": [
    {
     "name": "stdout",
     "output_type": "stream",
     "text": [
      "pipeline start\n",
      "pipeline finished\n"
     ]
    }
   ],
   "source": [
    "\"\"\"\n",
    "An example pipeline\n",
    "\"\"\"\n",
    "\n",
    "import os\n",
    "\n",
    "import pandas as pd\n",
    "from sklearn import compose, pipeline, preprocessing, tree\n",
    "\n",
    "from mlinspect.utils import get_project_root\n",
    "\n",
    "print(\"pipeline start\")\n",
    "train_file = os.path.join(\n",
    "    str(get_project_root()),\n",
    "    \"example_pipelines\",\n",
    "    \"adult_complex\",\n",
    "    \"adult_train.csv\",\n",
    ")\n",
    "raw_data = pd.read_csv(train_file, na_values=\"?\", index_col=0)\n",
    "\n",
    "data = raw_data.dropna()\n",
    "\n",
    "labels = preprocessing.label_binarize(\n",
    "    data[\"income-per-year\"], classes=[\">50K\", \"<=50K\"]\n",
    ")\n",
    "\n",
    "feature_transformation = compose.ColumnTransformer(\n",
    "    transformers=[\n",
    "        (\n",
    "            \"categorical\",\n",
    "            preprocessing.OneHotEncoder(handle_unknown=\"ignore\"),\n",
    "            [\"education\", \"workclass\"],\n",
    "        ),\n",
    "        (\"numeric\", preprocessing.StandardScaler(), [\"age\", \"hours-per-week\"]),\n",
    "    ]\n",
    ")\n",
    "\n",
    "\n",
    "income_pipeline = pipeline.Pipeline(\n",
    "    [\n",
    "        (\"features\", feature_transformation),\n",
    "        (\"classifier\", tree.DecisionTreeClassifier()),\n",
    "    ]\n",
    ")\n",
    "\n",
    "income_pipeline.fit(data, labels)\n",
    "\n",
    "\n",
    "print(\"pipeline finished\")"
   ]
  },
  {
   "cell_type": "code",
   "execution_count": null,
   "metadata": {},
   "outputs": [],
   "source": []
  }
 ],
 "metadata": {
  "kernelspec": {
   "display_name": "Python 3",
   "language": "python",
   "name": "python3"
  },
  "language_info": {
   "codemirror_mode": {
    "name": "ipython",
    "version": 3
   },
   "file_extension": ".py",
   "mimetype": "text/x-python",
   "name": "python",
   "nbconvert_exporter": "python",
   "pygments_lexer": "ipython3",
   "version": "3.8.5"
  }
 },
 "nbformat": 4,
 "nbformat_minor": 2
}
