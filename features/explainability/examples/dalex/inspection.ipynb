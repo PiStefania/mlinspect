{
 "cells": [
  {
   "cell_type": "code",
   "execution_count": 1,
   "outputs": [
    {
     "name": "stdout",
     "output_type": "stream",
     "text": [
      "['impute_and_one_hot_encode__smoker_False'\n",
      " 'impute_and_one_hot_encode__smoker_True'\n",
      " 'impute_and_one_hot_encode__county_county2'\n",
      " 'impute_and_one_hot_encode__county_county3'\n",
      " 'impute_and_one_hot_encode__race_race1'\n",
      " 'impute_and_one_hot_encode__race_race2'\n",
      " 'impute_and_one_hot_encode__race_race3' 'numeric__num_children'\n",
      " 'numeric__income']\n"
     ]
    },
    {
     "name": "stderr",
     "output_type": "stream",
     "text": [
      "/opt/venv/lib/python3.10/site-packages/sklearn/preprocessing/_encoders.py:975: FutureWarning: `sparse` was renamed to `sparse_output` in version 1.2 and will be removed in 1.4. `sparse_output` is ignored unless you leave `sparse` to its default value.\n",
      "  warnings.warn(\n",
      "/opt/venv/lib/python3.10/site-packages/sklearn/preprocessing/_encoders.py:975: FutureWarning: `sparse` was renamed to `sparse_output` in version 1.2 and will be removed in 1.4. `sparse_output` is ignored unless you leave `sparse` to its default value.\n",
      "  warnings.warn(\n"
     ]
    }
   ],
   "source": [
    "from mlinspect.monkeypatching._mlinspect_ndarray import MlinspectNdarray\n",
    "import pandas as pd\n",
    "import os\n",
    "from sklearn.compose import ColumnTransformer\n",
    "from sklearn.impute import SimpleImputer\n",
    "from sklearn.model_selection import train_test_split\n",
    "from sklearn.pipeline import Pipeline\n",
    "from mlinspect.utils import get_project_root\n",
    "from sklearn.preprocessing import OneHotEncoder, StandardScaler\n",
    "\n",
    "# prepare data for explainer\n",
    "COUNTIES_OF_INTEREST = ['county2', 'county3']\n",
    "\n",
    "patients = pd.read_csv(os.path.join(str(get_project_root()), \"example_pipelines\", \"healthcare\",\n",
    "                                    \"patients.csv\"), na_values='?')\n",
    "histories = pd.read_csv(os.path.join(str(get_project_root()), \"example_pipelines\", \"healthcare\",\n",
    "                                     \"histories.csv\"), na_values='?')\n",
    "\n",
    "data = patients.merge(histories, on=['ssn'])\n",
    "complications = data.groupby('age_group') \\\n",
    "    .agg(mean_complications=('complications', 'mean'))\n",
    "data = data.merge(complications, on=['age_group'])\n",
    "data['label'] = data['complications'] > 1.2 * data['mean_complications']\n",
    "data = data[['smoker', 'last_name', 'county', 'num_children', 'race', 'income', 'label']]\n",
    "data = data[data['county'].isin(COUNTIES_OF_INTEREST)]\n",
    "train_data, test_data = train_test_split(data)\n",
    "y_train = train_data[\"label\"]\n",
    "y_test = test_data[\"label\"]\n",
    "X_train = train_data.drop(\"label\", axis=1)\n",
    "X_test = test_data.drop(\"label\", axis=1)\n",
    "\n",
    "impute_and_one_hot_encode = Pipeline([\n",
    "    ('impute', SimpleImputer(strategy='most_frequent')),\n",
    "    ('encode', OneHotEncoder(sparse=False, handle_unknown='ignore'))\n",
    "])\n",
    "featurisation = ColumnTransformer(transformers=[\n",
    "    (\"impute_and_one_hot_encode\", impute_and_one_hot_encode, ['smoker', 'county', 'race']),\n",
    "    ('numeric', StandardScaler(), ['num_children', 'income']),\n",
    "], remainder='drop')\n",
    "\n",
    "X_t_train: MlinspectNdarray = featurisation.fit_transform(train_data, y_train)\n",
    "print(featurisation.get_feature_names_out())\n",
    "X_t_test: MlinspectNdarray = featurisation.fit_transform(X_test, y_test)"
   ],
   "metadata": {
    "collapsed": false,
    "ExecuteTime": {
     "end_time": "2024-05-20T22:19:04.353802Z",
     "start_time": "2024-05-20T22:19:03.205464Z"
    }
   }
  },
  {
   "cell_type": "code",
   "execution_count": 2,
   "outputs": [
    {
     "name": "stdout",
     "output_type": "stream",
     "text": [
      "Estimator is supported for explainer inspection.\n",
      "Preparation of a new explainer is initiated\n",
      "\n",
      "  -> data              : numpy.ndarray converted to pandas.DataFrame. Columns are set as string numbers.\n",
      "  -> data              : 217 rows 9 cols\n",
      "  -> target variable   : Parameter 'y' was a pandas.Series. Converted to a numpy.ndarray.\n",
      "  -> target variable   : 217 values\n",
      "  -> model_class       : scikeras.wrappers.KerasClassifier (default)\n",
      "  -> label             : Not specified, model's class short name will be used. (default)\n",
      "  -> predict function  : <bound method SklearnKerasClassifierPatching.patched_predict of KerasClassifier(\n",
      "\tmlinspect_caller_filename=/project/features/explainability/examples/test_pipeline.py\n",
      "\tmlinspect_lineno=86\n",
      "\tmlinspect_optional_code_reference=CodeReference(lineno=86, col_offset=13, end_lineno=92, end_col_offset=1)\n",
      "\tmlinspect_optional_source_code=KerasClassifier(\n",
      "    model=create_model_predict,\n",
      "    epochs=10,\n",
      "    batch_size=1,\n",
      "    verbose=0,\n",
      "    loss=\"binary_crossentropy\",\n",
      ")\n",
      "\tmlinspect_estimator_node_id=-1\n",
      "\tmlinspect_non_data_func_args={'epochs': 10, 'batch_size': 1, 'verbose': 0, 'loss': 'binary_crossentropy'}\n",
      "\tmodel=<function create_model_predict at 0xffff20b31ab0>\n",
      "\tbuild_fn=None\n",
      "\twarm_start=False\n",
      "\trandom_state=None\n",
      "\toptimizer=rmsprop\n",
      "\tloss=binary_crossentropy\n",
      "\tmetrics=None\n",
      "\tbatch_size=1\n",
      "\tvalidation_batch_size=None\n",
      "\tverbose=0\n",
      "\tcallbacks=None\n",
      "\tvalidation_split=0.0\n",
      "\tshuffle=True\n",
      "\trun_eagerly=False\n",
      "\tepochs=10\n",
      "\tclass_weight=None\n",
      ")> will be used\n",
      "  -> predict function  : Accepts pandas.DataFrame and numpy.ndarray.\n",
      "  -> predicted values  : min = 0.0, mean = 0.419, max = 1.0\n",
      "  -> model type        : classification will be used (default)\n",
      "  -> residual function : difference between y and yhat (default)\n",
      "  -> residuals         :  'residual_function' returns an Error when executed:\n",
      "numpy boolean subtract, the `-` operator, is not supported, use the bitwise_xor, the `^` operator, or the logical_xor function instead.\n",
      "  -> model_info        : package scikeras\n",
      "\n",
      "A new explainer has been created!\n",
      "Mean accuracy: 0.863013698630137\n"
     ]
    }
   ],
   "source": [
    "import numpy as np\n",
    "from features.explainability.inspections.explainability_methods_enum import ExplainabilityMethodsEnum\n",
    "from features.explainability.inspections.explainer import Explainer\n",
    "import os\n",
    "os.environ['TF_CPP_MIN_LOG_LEVEL'] = '2'  # Some tensorflow warnings in the pipeline we inspect\n",
    "from mlinspect.utils import get_project_root\n",
    "\n",
    "from mlinspect import PipelineInspector\n",
    "\n",
    "EXAMPLE_PIPELINE = os.path.join(str(get_project_root()), \"features\", \"explainability\", \"examples\", \"test_pipeline.py\")\n",
    "\n",
    "inspector_result = PipelineInspector\\\n",
    "    .on_pipeline_from_py_file(EXAMPLE_PIPELINE) \\\n",
    "    .add_required_inspection(Explainer([ExplainabilityMethodsEnum.DALEX], X_t_test.view(np.ndarray), featurisation.get_feature_names_out(), [\"label\"])) \\\n",
    "    .execute()\n",
    "\n",
    "extracted_dag = inspector_result.dag\n",
    "dag_node_to_inspection_results = inspector_result.dag_node_to_inspection_results\n",
    "check_results = inspector_result.check_to_check_results"
   ],
   "metadata": {
    "collapsed": false,
    "ExecuteTime": {
     "end_time": "2024-05-20T22:19:30.281734Z",
     "start_time": "2024-05-20T22:19:07.064347Z"
    }
   }
  },
  {
   "cell_type": "code",
   "execution_count": 3,
   "metadata": {
    "ExecuteTime": {
     "end_time": "2024-05-20T22:19:30.292299Z",
     "start_time": "2024-05-20T22:19:30.284966Z"
    }
   },
   "outputs": [
    {
     "name": "stdout",
     "output_type": "stream",
     "text": [
      "\n",
      "\u001B[1mOperatorType.ESTIMATOR (Neural Network)\u001B[0m\n",
      "KerasClassifier(\n",
      "    model=create_model_predict,\n",
      "    epochs=10,\n",
      "    batch_size=1,\n",
      "    verbose=0,\n",
      "    loss=\"binary_crossentropy\",\n",
      ")\n",
      "CodeReference(lineno=86, col_offset=13, end_lineno=92, end_col_offset=1)\n",
      "{<ExplainabilityMethodsEnum.DALEX: 'Descriptive Machine Learning Explanations'>: {'explainer': <dalex._explainer.object.Explainer object at 0xffff18f2cca0>, 'results': {'train':         variable  dropout_loss            label\n",
      "0              4      0.073925  KerasClassifier\n",
      "1              6      0.075672  KerasClassifier\n",
      "2   _full_model_      0.076613  KerasClassifier\n",
      "3              5      0.077285  KerasClassifier\n",
      "4              2      0.078226  KerasClassifier\n",
      "5              3      0.078226  KerasClassifier\n",
      "6              7      0.079032  KerasClassifier\n",
      "7              8      0.149731  KerasClassifier\n",
      "8              1      0.171774  KerasClassifier\n",
      "9              0      0.186828  KerasClassifier\n",
      "10    _baseline_      0.485887  KerasClassifier, 'test':    variable_name variable_value      variable  cumulative  contribution  sign  \\\n",
      "0      intercept                    intercept    0.419355      0.419355   1.0   \n",
      "1              4            1.0       4 = 1.0    0.433180      0.013825   1.0   \n",
      "2              5            0.0       5 = 0.0    0.433180      0.000000   0.0   \n",
      "3              3            0.0       3 = 0.0    0.433180      0.000000   0.0   \n",
      "4              2            1.0       2 = 1.0    0.433180      0.000000   0.0   \n",
      "5              6            0.0       6 = 0.0    0.433180      0.000000   0.0   \n",
      "6              7        -0.2485   7 = -0.2485    0.433180      0.000000   0.0   \n",
      "7              8       -0.03519  8 = -0.03519    0.410138     -0.023041  -1.0   \n",
      "8              1            0.0       1 = 0.0    0.410138      0.000000   0.0   \n",
      "9              0            1.0       0 = 1.0    0.000000     -0.410138  -1.0   \n",
      "10                                 prediction    0.000000      0.000000   0.0   \n",
      "\n",
      "    position      label  \n",
      "0         10  first_row  \n",
      "1          9  first_row  \n",
      "2          8  first_row  \n",
      "3          7  first_row  \n",
      "4          6  first_row  \n",
      "5          5  first_row  \n",
      "6          4  first_row  \n",
      "7          3  first_row  \n",
      "8          2  first_row  \n",
      "9          1  first_row  \n",
      "10         0  first_row  }}}\n"
     ]
    }
   ],
   "source": [
    "from mlinspect import OperatorType\n",
    "\n",
    "relevant_node = [node for node in extracted_dag.nodes if node.operator_info.operator in {OperatorType.ESTIMATOR,}][0]\n",
    "print(\"\\n\\033[1m{} ({})\\033[0m\\n{}\\n{}\".format(\n",
    "    relevant_node.operator_info.operator,\n",
    "    relevant_node.details.description,\n",
    "    relevant_node.optional_code_info.source_code,\n",
    "    relevant_node.optional_code_info.code_reference))\n",
    "inspection_result = dag_node_to_inspection_results[relevant_node][Explainer([ExplainabilityMethodsEnum.DALEX], X_t_test.view(np.ndarray), featurisation.get_feature_names_out(),[\"label\"])]\n",
    "print(inspection_result)"
   ]
  },
  {
   "cell_type": "code",
   "execution_count": 4,
   "outputs": [
    {
     "data": {
      "text/plain": "<Axes: >"
     },
     "execution_count": 4,
     "metadata": {},
     "output_type": "execute_result"
    },
    {
     "data": {
      "text/plain": "<Figure size 640x480 with 1 Axes>",
      "image/png": "[encoded data removed]"
     },
     "metadata": {},
     "output_type": "display_data"
    }
   ],
   "source": [
    "inspection_result[ExplainabilityMethodsEnum.DALEX][\"results\"][\"train\"].plot()"
   ],
   "metadata": {
    "collapsed": false,
    "ExecuteTime": {
     "end_time": "2024-05-20T22:19:45.111436Z",
     "start_time": "2024-05-20T22:19:44.987979Z"
    }
   }
  },
  {
   "cell_type": "code",
   "execution_count": 5,
   "outputs": [
    {
     "data": {
      "text/plain": "<Axes: >"
     },
     "execution_count": 5,
     "metadata": {},
     "output_type": "execute_result"
    },
    {
     "data": {
      "text/plain": "<Figure size 640x480 with 1 Axes>",
      "image/png": "[encoded data removed]"
     },
     "metadata": {},
     "output_type": "display_data"
    }
   ],
   "source": [
    "inspection_result[ExplainabilityMethodsEnum.DALEX][\"results\"][\"test\"].plot()"
   ],
   "metadata": {
    "collapsed": false,
    "ExecuteTime": {
     "end_time": "2024-05-20T22:19:49.244668Z",
     "start_time": "2024-05-20T22:19:49.161314Z"
    }
   }
  },
  {
   "cell_type": "code",
   "execution_count": null,
   "outputs": [],
   "source": [],
   "metadata": {
    "collapsed": false
   }
  }
 ],
 "metadata": {
  "kernelspec": {
   "display_name": "venv",
   "language": "python",
   "name": "venv"
  },
  "language_info": {
   "codemirror_mode": {
    "name": "ipython",
    "version": 3
   },
   "file_extension": ".py",
   "mimetype": "text/x-python",
   "name": "python",
   "nbconvert_exporter": "python",
   "pygments_lexer": "ipython3",
   "version": "3.9.16"
  }
 },
 "nbformat": 4,
 "nbformat_minor": 1
}
