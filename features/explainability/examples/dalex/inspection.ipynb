{
 "cells": [
  {
   "cell_type": "code",
   "execution_count": 1,
   "outputs": [
    {
     "name": "stdout",
     "output_type": "stream",
     "text": [
      "['impute_and_one_hot_encode__smoker_False'\n",
      " 'impute_and_one_hot_encode__smoker_True'\n",
      " 'impute_and_one_hot_encode__county_county2'\n",
      " 'impute_and_one_hot_encode__county_county3'\n",
      " 'impute_and_one_hot_encode__race_race1'\n",
      " 'impute_and_one_hot_encode__race_race2'\n",
      " 'impute_and_one_hot_encode__race_race3' 'numeric__num_children'\n",
      " 'numeric__income']\n"
     ]
    },
    {
     "name": "stderr",
     "output_type": "stream",
     "text": [
      "/opt/venv/lib/python3.10/site-packages/sklearn/preprocessing/_encoders.py:975: FutureWarning: `sparse` was renamed to `sparse_output` in version 1.2 and will be removed in 1.4. `sparse_output` is ignored unless you leave `sparse` to its default value.\n",
      "  warnings.warn(\n",
      "/opt/venv/lib/python3.10/site-packages/sklearn/preprocessing/_encoders.py:975: FutureWarning: `sparse` was renamed to `sparse_output` in version 1.2 and will be removed in 1.4. `sparse_output` is ignored unless you leave `sparse` to its default value.\n",
      "  warnings.warn(\n"
     ]
    }
   ],
   "source": [
    "from mlinspect.monkeypatching._mlinspect_ndarray import MlinspectNdarray\n",
    "import pandas as pd\n",
    "import os\n",
    "from sklearn.compose import ColumnTransformer\n",
    "from sklearn.impute import SimpleImputer\n",
    "from sklearn.model_selection import train_test_split\n",
    "from sklearn.pipeline import Pipeline\n",
    "from mlinspect.utils import get_project_root\n",
    "from sklearn.preprocessing import OneHotEncoder, StandardScaler\n",
    "\n",
    "# prepare data for explainer\n",
    "COUNTIES_OF_INTEREST = ['county2', 'county3']\n",
    "\n",
    "patients = pd.read_csv(os.path.join(str(get_project_root()), \"example_pipelines\", \"healthcare\",\n",
    "                                    \"patients.csv\"), na_values='?')\n",
    "histories = pd.read_csv(os.path.join(str(get_project_root()), \"example_pipelines\", \"healthcare\",\n",
    "                                     \"histories.csv\"), na_values='?')\n",
    "\n",
    "data = patients.merge(histories, on=['ssn'])\n",
    "complications = data.groupby('age_group') \\\n",
    "    .agg(mean_complications=('complications', 'mean'))\n",
    "data = data.merge(complications, on=['age_group'])\n",
    "data['label'] = data['complications'] > 1.2 * data['mean_complications']\n",
    "data = data[['smoker', 'last_name', 'county', 'num_children', 'race', 'income', 'label']]\n",
    "data = data[data['county'].isin(COUNTIES_OF_INTEREST)]\n",
    "train_data, test_data = train_test_split(data)\n",
    "y_train = train_data[\"label\"]\n",
    "y_test = test_data[\"label\"]\n",
    "X_train = train_data.drop(\"label\", axis=1)\n",
    "X_test = test_data.drop(\"label\", axis=1)\n",
    "\n",
    "impute_and_one_hot_encode = Pipeline([\n",
    "    ('impute', SimpleImputer(strategy='most_frequent')),\n",
    "    ('encode', OneHotEncoder(sparse=False, handle_unknown='ignore'))\n",
    "])\n",
    "featurisation = ColumnTransformer(transformers=[\n",
    "    (\"impute_and_one_hot_encode\", impute_and_one_hot_encode, ['smoker', 'county', 'race']),\n",
    "    ('numeric', StandardScaler(), ['num_children', 'income']),\n",
    "], remainder='drop')\n",
    "\n",
    "X_t_train: MlinspectNdarray = featurisation.fit_transform(train_data, y_train)\n",
    "print(featurisation.get_feature_names_out())\n",
    "X_t_test: MlinspectNdarray = featurisation.fit_transform(X_test, y_test)"
   ],
   "metadata": {
    "collapsed": false,
    "ExecuteTime": {
     "end_time": "2024-05-03T22:03:12.649695Z",
     "start_time": "2024-05-03T22:03:11.486440Z"
    }
   }
  },
  {
   "cell_type": "code",
   "execution_count": 2,
   "outputs": [
    {
     "name": "stdout",
     "output_type": "stream",
     "text": [
      "Preparation of a new explainer is initiated\n",
      "\n",
      "  -> data              : numpy.ndarray converted to pandas.DataFrame. Columns are set as string numbers.\n",
      "  -> data              : 217 rows 9 cols\n",
      "  -> target variable   : Parameter 'y' was a pandas.Series. Converted to a numpy.ndarray.\n",
      "  -> target variable   : 217 values\n",
      "  -> model_class       : scikeras.wrappers.KerasClassifier (default)\n",
      "  -> label             : Not specified, model's class short name will be used. (default)\n",
      "  -> predict function  : <bound method SklearnKerasClassifierPatching.patched_predict of KerasClassifier(\n",
      "\tmlinspect_caller_filename=/project/features/explainability/examples/test_pipeline.py\n",
      "\tmlinspect_lineno=86\n",
      "\tmlinspect_optional_code_reference=CodeReference(lineno=86, col_offset=13, end_lineno=92, end_col_offset=1)\n",
      "\tmlinspect_optional_source_code=KerasClassifier(\n",
      "    model=create_model_predict,\n",
      "    epochs=10,\n",
      "    batch_size=1,\n",
      "    verbose=0,\n",
      "    loss=\"binary_crossentropy\",\n",
      ")\n",
      "\tmlinspect_estimator_node_id=-1\n",
      "\tmlinspect_non_data_func_args={'epochs': 10, 'batch_size': 1, 'verbose': 0, 'loss': 'binary_crossentropy'}\n",
      "\tmodel=<function create_model_predict at 0xffff3e7aae60>\n",
      "\tbuild_fn=None\n",
      "\twarm_start=False\n",
      "\trandom_state=None\n",
      "\toptimizer=rmsprop\n",
      "\tloss=binary_crossentropy\n",
      "\tmetrics=None\n",
      "\tbatch_size=1\n",
      "\tvalidation_batch_size=None\n",
      "\tverbose=0\n",
      "\tcallbacks=None\n",
      "\tvalidation_split=0.0\n",
      "\tshuffle=True\n",
      "\trun_eagerly=False\n",
      "\tepochs=10\n",
      "\tclass_weight=None\n",
      ")> will be used\n",
      "  -> predict function  : Accepts only pandas.DataFrame, numpy.ndarray causes problems.\n",
      "  -> model type        : classification will be used (default)\n",
      "  -> residual function : difference between y and yhat (default)\n",
      "  -> residuals         :  'residual_function' returns an Error when executed:\n",
      "BaseWrapper.predict() takes 2 positional arguments but 3 were given\n",
      "  -> model_info        : package scikeras\n",
      "\n",
      "A new explainer has been created!\n"
     ]
    },
    {
     "ename": "TypeError",
     "evalue": "BaseWrapper.predict() takes 2 positional arguments but 3 were given",
     "output_type": "error",
     "traceback": [
      "\u001B[0;31m---------------------------------------------------------------------------\u001B[0m",
      "\u001B[0;31mTypeError\u001B[0m                                 Traceback (most recent call last)",
      "Cell \u001B[0;32mIn[2], line 15\u001B[0m\n\u001B[1;32m      8\u001B[0m \u001B[38;5;28;01mfrom\u001B[39;00m \u001B[38;5;21;01mmlinspect\u001B[39;00m \u001B[38;5;28;01mimport\u001B[39;00m PipelineInspector\n\u001B[1;32m     10\u001B[0m EXAMPLE_PIPELINE \u001B[38;5;241m=\u001B[39m os\u001B[38;5;241m.\u001B[39mpath\u001B[38;5;241m.\u001B[39mjoin(\u001B[38;5;28mstr\u001B[39m(get_project_root()), \u001B[38;5;124m\"\u001B[39m\u001B[38;5;124mfeatures\u001B[39m\u001B[38;5;124m\"\u001B[39m, \u001B[38;5;124m\"\u001B[39m\u001B[38;5;124mexplainability\u001B[39m\u001B[38;5;124m\"\u001B[39m, \u001B[38;5;124m\"\u001B[39m\u001B[38;5;124mexamples\u001B[39m\u001B[38;5;124m\"\u001B[39m, \u001B[38;5;124m\"\u001B[39m\u001B[38;5;124mtest_pipeline.py\u001B[39m\u001B[38;5;124m\"\u001B[39m)\n\u001B[1;32m     12\u001B[0m inspector_result \u001B[38;5;241m=\u001B[39m \u001B[43mPipelineInspector\u001B[49m\u001B[43m\\\u001B[49m\n\u001B[1;32m     13\u001B[0m \u001B[43m    \u001B[49m\u001B[38;5;241;43m.\u001B[39;49m\u001B[43mon_pipeline_from_py_file\u001B[49m\u001B[43m(\u001B[49m\u001B[43mEXAMPLE_PIPELINE\u001B[49m\u001B[43m)\u001B[49m\u001B[43m \u001B[49m\u001B[43m\\\u001B[49m\n\u001B[1;32m     14\u001B[0m \u001B[43m    \u001B[49m\u001B[38;5;241;43m.\u001B[39;49m\u001B[43madd_required_inspection\u001B[49m\u001B[43m(\u001B[49m\u001B[43mExplainer\u001B[49m\u001B[43m(\u001B[49m\u001B[43m[\u001B[49m\u001B[43mExplainabilityMethodsEnum\u001B[49m\u001B[38;5;241;43m.\u001B[39;49m\u001B[43mDALEX\u001B[49m\u001B[43m]\u001B[49m\u001B[43m,\u001B[49m\u001B[43m \u001B[49m\u001B[43mX_t_train\u001B[49m\u001B[38;5;241;43m.\u001B[39;49m\u001B[43mview\u001B[49m\u001B[43m(\u001B[49m\u001B[43mnp\u001B[49m\u001B[38;5;241;43m.\u001B[39;49m\u001B[43mndarray\u001B[49m\u001B[43m)\u001B[49m\u001B[43m,\u001B[49m\u001B[43m \u001B[49m\u001B[43mX_t_test\u001B[49m\u001B[38;5;241;43m.\u001B[39;49m\u001B[43mview\u001B[49m\u001B[43m(\u001B[49m\u001B[43mnp\u001B[49m\u001B[38;5;241;43m.\u001B[39;49m\u001B[43mndarray\u001B[49m\u001B[43m)\u001B[49m\u001B[43m,\u001B[49m\u001B[43m \u001B[49m\u001B[43mfeaturisation\u001B[49m\u001B[38;5;241;43m.\u001B[39;49m\u001B[43mget_feature_names_out\u001B[49m\u001B[43m(\u001B[49m\u001B[43m)\u001B[49m\u001B[43m,\u001B[49m\u001B[43m \u001B[49m\u001B[43my_test\u001B[49m\u001B[43m,\u001B[49m\u001B[43m \u001B[49m\u001B[43my_train\u001B[49m\u001B[43m)\u001B[49m\u001B[43m)\u001B[49m\u001B[43m \u001B[49m\u001B[43m\\\u001B[49m\n\u001B[0;32m---> 15\u001B[0m \u001B[43m    \u001B[49m\u001B[38;5;241;43m.\u001B[39;49m\u001B[43mexecute\u001B[49m\u001B[43m(\u001B[49m\u001B[43m)\u001B[49m\n\u001B[1;32m     17\u001B[0m extracted_dag \u001B[38;5;241m=\u001B[39m inspector_result\u001B[38;5;241m.\u001B[39mdag\n\u001B[1;32m     18\u001B[0m dag_node_to_inspection_results \u001B[38;5;241m=\u001B[39m inspector_result\u001B[38;5;241m.\u001B[39mdag_node_to_inspection_results\n",
      "File \u001B[0;32m/project/mlinspect/_pipeline_inspector.py:90\u001B[0m, in \u001B[0;36mPipelineInspectorBuilder.execute\u001B[0;34m(self)\u001B[0m\n\u001B[1;32m     86\u001B[0m \u001B[38;5;28;01mdef\u001B[39;00m \u001B[38;5;21mexecute\u001B[39m(\u001B[38;5;28mself\u001B[39m) \u001B[38;5;241m-\u001B[39m\u001B[38;5;241m>\u001B[39m InspectorResult:\n\u001B[1;32m     87\u001B[0m \u001B[38;5;250m    \u001B[39m\u001B[38;5;124;03m\"\"\"\u001B[39;00m\n\u001B[1;32m     88\u001B[0m \u001B[38;5;124;03m    Instrument and execute the pipeline\u001B[39;00m\n\u001B[1;32m     89\u001B[0m \u001B[38;5;124;03m    \"\"\"\u001B[39;00m\n\u001B[0;32m---> 90\u001B[0m     \u001B[38;5;28;01mreturn\u001B[39;00m \u001B[43msingleton\u001B[49m\u001B[38;5;241;43m.\u001B[39;49m\u001B[43mrun\u001B[49m\u001B[43m(\u001B[49m\n\u001B[1;32m     91\u001B[0m \u001B[43m        \u001B[49m\u001B[43mnotebook_path\u001B[49m\u001B[38;5;241;43m=\u001B[39;49m\u001B[38;5;28;43mself\u001B[39;49m\u001B[38;5;241;43m.\u001B[39;49m\u001B[43mnotebook_path\u001B[49m\u001B[43m,\u001B[49m\n\u001B[1;32m     92\u001B[0m \u001B[43m        \u001B[49m\u001B[43mpython_path\u001B[49m\u001B[38;5;241;43m=\u001B[39;49m\u001B[38;5;28;43mself\u001B[39;49m\u001B[38;5;241;43m.\u001B[39;49m\u001B[43mpython_path\u001B[49m\u001B[43m,\u001B[49m\n\u001B[1;32m     93\u001B[0m \u001B[43m        \u001B[49m\u001B[43mpython_code\u001B[49m\u001B[38;5;241;43m=\u001B[39;49m\u001B[38;5;28;43mself\u001B[39;49m\u001B[38;5;241;43m.\u001B[39;49m\u001B[43mpython_code\u001B[49m\u001B[43m,\u001B[49m\n\u001B[1;32m     94\u001B[0m \u001B[43m        \u001B[49m\u001B[43minspections\u001B[49m\u001B[38;5;241;43m=\u001B[39;49m\u001B[38;5;28;43mself\u001B[39;49m\u001B[38;5;241;43m.\u001B[39;49m\u001B[43minspections\u001B[49m\u001B[43m,\u001B[49m\n\u001B[1;32m     95\u001B[0m \u001B[43m        \u001B[49m\u001B[43mchecks\u001B[49m\u001B[38;5;241;43m=\u001B[39;49m\u001B[38;5;28;43mself\u001B[39;49m\u001B[38;5;241;43m.\u001B[39;49m\u001B[43mchecks\u001B[49m\u001B[43m,\u001B[49m\n\u001B[1;32m     96\u001B[0m \u001B[43m        \u001B[49m\u001B[43mcustom_monkey_patching\u001B[49m\u001B[38;5;241;43m=\u001B[39;49m\u001B[38;5;28;43mself\u001B[39;49m\u001B[38;5;241;43m.\u001B[39;49m\u001B[43mmonkey_patching_modules\u001B[49m\u001B[43m,\u001B[49m\n\u001B[1;32m     97\u001B[0m \u001B[43m    \u001B[49m\u001B[43m)\u001B[49m\n",
      "File \u001B[0;32m/project/mlinspect/instrumentation/_pipeline_executor.py:82\u001B[0m, in \u001B[0;36mPipelineExecutor.run\u001B[0;34m(self, notebook_path, python_path, python_code, inspections, checks, reset_state, track_code_references, custom_monkey_patching)\u001B[0m\n\u001B[1;32m     79\u001B[0m \u001B[38;5;28mself\u001B[39m\u001B[38;5;241m.\u001B[39mtrack_code_references \u001B[38;5;241m=\u001B[39m track_code_references\n\u001B[1;32m     80\u001B[0m \u001B[38;5;28mself\u001B[39m\u001B[38;5;241m.\u001B[39mcustom_monkey_patching \u001B[38;5;241m=\u001B[39m custom_monkey_patching\n\u001B[0;32m---> 82\u001B[0m \u001B[38;5;28;43mself\u001B[39;49m\u001B[38;5;241;43m.\u001B[39;49m\u001B[43mrun_inspections\u001B[49m\u001B[43m(\u001B[49m\u001B[43mnotebook_path\u001B[49m\u001B[43m,\u001B[49m\u001B[43m \u001B[49m\u001B[43mpython_code\u001B[49m\u001B[43m,\u001B[49m\u001B[43m \u001B[49m\u001B[43mpython_path\u001B[49m\u001B[43m)\u001B[49m\n\u001B[1;32m     83\u001B[0m check_to_results \u001B[38;5;241m=\u001B[39m \u001B[38;5;28mdict\u001B[39m(\n\u001B[1;32m     84\u001B[0m     (check, check\u001B[38;5;241m.\u001B[39mevaluate(\u001B[38;5;28mself\u001B[39m\u001B[38;5;241m.\u001B[39minspection_results))\n\u001B[1;32m     85\u001B[0m     \u001B[38;5;28;01mfor\u001B[39;00m check \u001B[38;5;129;01min\u001B[39;00m checks\n\u001B[1;32m     86\u001B[0m )\n\u001B[1;32m     87\u001B[0m \u001B[38;5;28;01mreturn\u001B[39;00m InspectorResult(\n\u001B[1;32m     88\u001B[0m     \u001B[38;5;28mself\u001B[39m\u001B[38;5;241m.\u001B[39minspection_results\u001B[38;5;241m.\u001B[39mdag,\n\u001B[1;32m     89\u001B[0m     \u001B[38;5;28mself\u001B[39m\u001B[38;5;241m.\u001B[39minspection_results\u001B[38;5;241m.\u001B[39mdag_node_to_inspection_results,\n\u001B[1;32m     90\u001B[0m     check_to_results,\n\u001B[1;32m     91\u001B[0m )\n",
      "File \u001B[0;32m/project/mlinspect/instrumentation/_pipeline_executor.py:107\u001B[0m, in \u001B[0;36mPipelineExecutor.run_inspections\u001B[0;34m(self, notebook_path, python_code, python_path)\u001B[0m\n\u001B[1;32m    103\u001B[0m parsed_ast \u001B[38;5;241m=\u001B[39m ast\u001B[38;5;241m.\u001B[39mparse(\u001B[38;5;28mself\u001B[39m\u001B[38;5;241m.\u001B[39msource_code)\n\u001B[1;32m    104\u001B[0m parsed_modified_ast \u001B[38;5;241m=\u001B[39m \u001B[38;5;28mself\u001B[39m\u001B[38;5;241m.\u001B[39minstrument_pipeline(\n\u001B[1;32m    105\u001B[0m     parsed_ast, \u001B[38;5;28mself\u001B[39m\u001B[38;5;241m.\u001B[39mtrack_code_references\n\u001B[1;32m    106\u001B[0m )\n\u001B[0;32m--> 107\u001B[0m \u001B[43mexec\u001B[49m\u001B[43m(\u001B[49m\u001B[43m  \u001B[49m\u001B[38;5;66;43;03m# pylint: disable=exec-used\u001B[39;49;00m\n\u001B[1;32m    108\u001B[0m \u001B[43m    \u001B[49m\u001B[38;5;28;43mcompile\u001B[39;49m\u001B[43m(\u001B[49m\n\u001B[1;32m    109\u001B[0m \u001B[43m        \u001B[49m\u001B[43mparsed_modified_ast\u001B[49m\u001B[43m,\u001B[49m\n\u001B[1;32m    110\u001B[0m \u001B[43m        \u001B[49m\u001B[43mfilename\u001B[49m\u001B[38;5;241;43m=\u001B[39;49m\u001B[38;5;28;43mself\u001B[39;49m\u001B[38;5;241;43m.\u001B[39;49m\u001B[43msource_code_path\u001B[49m\u001B[43m,\u001B[49m\n\u001B[1;32m    111\u001B[0m \u001B[43m        \u001B[49m\u001B[43mmode\u001B[49m\u001B[38;5;241;43m=\u001B[39;49m\u001B[38;5;124;43m\"\u001B[39;49m\u001B[38;5;124;43mexec\u001B[39;49m\u001B[38;5;124;43m\"\u001B[39;49m\u001B[43m,\u001B[49m\n\u001B[1;32m    112\u001B[0m \u001B[43m    \u001B[49m\u001B[43m)\u001B[49m\u001B[43m,\u001B[49m\n\u001B[1;32m    113\u001B[0m \u001B[43m    \u001B[49m\u001B[43mPipelineExecutor\u001B[49m\u001B[38;5;241;43m.\u001B[39;49m\u001B[43mscript_scope\u001B[49m\u001B[43m,\u001B[49m\n\u001B[1;32m    114\u001B[0m \u001B[43m\u001B[49m\u001B[43m)\u001B[49m\n",
      "File \u001B[0;32m/project/features/explainability/examples/test_pipeline.py:95\u001B[0m\n\u001B[1;32m     93\u001B[0m X_t_train: MlinspectNdarray \u001B[38;5;241m=\u001B[39m featurisation\u001B[38;5;241m.\u001B[39mfit_transform(train_data, y_train)\n\u001B[1;32m     94\u001B[0m X_t_test: MlinspectNdarray \u001B[38;5;241m=\u001B[39m featurisation\u001B[38;5;241m.\u001B[39mfit_transform(X_test, y_test)\n\u001B[0;32m---> 95\u001B[0m neural_net\u001B[38;5;241m.\u001B[39mfit(X_t_train, y_train)\n\u001B[1;32m     96\u001B[0m \u001B[38;5;28mprint\u001B[39m(\u001B[38;5;124m\"\u001B[39m\u001B[38;5;124mMean accuracy: \u001B[39m\u001B[38;5;132;01m{}\u001B[39;00m\u001B[38;5;124m\"\u001B[39m\u001B[38;5;241m.\u001B[39mformat(neural_net\u001B[38;5;241m.\u001B[39mscore(X_t_test, y_test)))\n",
      "File \u001B[0;32m/project/mlinspect/monkeypatching/_patch_sklearn.py:2509\u001B[0m, in \u001B[0;36mSklearnKerasClassifierPatching.patched_fit\u001B[0;34m(self, *args, **kwargs)\u001B[0m\n\u001B[1;32m   2499\u001B[0m input_infos \u001B[38;5;241m=\u001B[39m SklearnBackend()\u001B[38;5;241m.\u001B[39mbefore_call(\n\u001B[1;32m   2500\u001B[0m     operator_context, input_dfs\n\u001B[1;32m   2501\u001B[0m )\n\u001B[1;32m   2502\u001B[0m result \u001B[38;5;241m=\u001B[39m original(\n\u001B[1;32m   2503\u001B[0m     \u001B[38;5;28mself\u001B[39m,\n\u001B[1;32m   2504\u001B[0m     train_data_result,\n\u001B[0;32m   (...)\u001B[0m\n\u001B[1;32m   2507\u001B[0m     \u001B[38;5;241m*\u001B[39m\u001B[38;5;241m*\u001B[39mkwargs,\n\u001B[1;32m   2508\u001B[0m )\n\u001B[0;32m-> 2509\u001B[0m estimator_backend_result \u001B[38;5;241m=\u001B[39m \u001B[43mSklearnBackend\u001B[49m\u001B[43m(\u001B[49m\u001B[43m)\u001B[49m\u001B[38;5;241;43m.\u001B[39;49m\u001B[43mafter_call\u001B[49m\u001B[43m(\u001B[49m\n\u001B[1;32m   2510\u001B[0m \u001B[43m    \u001B[49m\u001B[43moperator_context\u001B[49m\u001B[43m,\u001B[49m\n\u001B[1;32m   2511\u001B[0m \u001B[43m    \u001B[49m\u001B[43minput_infos\u001B[49m\u001B[43m,\u001B[49m\n\u001B[1;32m   2512\u001B[0m \u001B[43m    \u001B[49m\u001B[43mresult\u001B[49m\u001B[43m,\u001B[49m\n\u001B[1;32m   2513\u001B[0m \u001B[43m    \u001B[49m\u001B[38;5;28;43mself\u001B[39;49m\u001B[38;5;241;43m.\u001B[39;49m\u001B[43mmlinspect_non_data_func_args\u001B[49m\u001B[43m,\u001B[49m\n\u001B[1;32m   2514\u001B[0m \u001B[43m\u001B[49m\u001B[43m)\u001B[49m\n\u001B[1;32m   2515\u001B[0m \u001B[38;5;28mself\u001B[39m\u001B[38;5;241m.\u001B[39mmlinspect_estimator_node_id \u001B[38;5;241m=\u001B[39m (\n\u001B[1;32m   2516\u001B[0m     singleton\u001B[38;5;241m.\u001B[39mget_next_op_id()\n\u001B[1;32m   2517\u001B[0m )  \u001B[38;5;66;03m# pylint: disable=attribute-defined-outside-init\u001B[39;00m\n\u001B[1;32m   2518\u001B[0m dag_node \u001B[38;5;241m=\u001B[39m DagNode(\n\u001B[1;32m   2519\u001B[0m     \u001B[38;5;28mself\u001B[39m\u001B[38;5;241m.\u001B[39mmlinspect_estimator_node_id,\n\u001B[1;32m   2520\u001B[0m     BasicCodeLocation(\n\u001B[0;32m   (...)\u001B[0m\n\u001B[1;32m   2528\u001B[0m     ),\n\u001B[1;32m   2529\u001B[0m )\n",
      "File \u001B[0;32m/project/mlinspect/backends/_sklearn_backend.py:102\u001B[0m, in \u001B[0;36mSklearnBackend.after_call\u001B[0;34m(self, operator_context, input_infos, return_value, non_data_function_args)\u001B[0m\n\u001B[1;32m     93\u001B[0m     return_value_be \u001B[38;5;241m=\u001B[39m execute_inspection_visits_unary_operator(\n\u001B[1;32m     94\u001B[0m         operator_context,\n\u001B[1;32m     95\u001B[0m         input_infos[\u001B[38;5;241m0\u001B[39m]\u001B[38;5;241m.\u001B[39mresult_data,\n\u001B[0;32m   (...)\u001B[0m\n\u001B[1;32m     99\u001B[0m         non_data_function_args,\n\u001B[1;32m    100\u001B[0m     )\n\u001B[1;32m    101\u001B[0m \u001B[38;5;28;01melif\u001B[39;00m operator_context\u001B[38;5;241m.\u001B[39moperator \u001B[38;5;241m==\u001B[39m OperatorType\u001B[38;5;241m.\u001B[39mESTIMATOR:\n\u001B[0;32m--> 102\u001B[0m     return_value_be \u001B[38;5;241m=\u001B[39m \u001B[43mexecute_inspection_visits_sink_op\u001B[49m\u001B[43m(\u001B[49m\n\u001B[1;32m    103\u001B[0m \u001B[43m        \u001B[49m\u001B[43moperator_context\u001B[49m\u001B[43m,\u001B[49m\n\u001B[1;32m    104\u001B[0m \u001B[43m        \u001B[49m\u001B[43minput_infos\u001B[49m\u001B[43m[\u001B[49m\u001B[38;5;241;43m0\u001B[39;49m\u001B[43m]\u001B[49m\u001B[38;5;241;43m.\u001B[39;49m\u001B[43mresult_data\u001B[49m\u001B[43m,\u001B[49m\n\u001B[1;32m    105\u001B[0m \u001B[43m        \u001B[49m\u001B[43minput_infos\u001B[49m\u001B[43m[\u001B[49m\u001B[38;5;241;43m0\u001B[39;49m\u001B[43m]\u001B[49m\u001B[38;5;241;43m.\u001B[39;49m\u001B[43mresult_annotation\u001B[49m\u001B[43m,\u001B[49m\n\u001B[1;32m    106\u001B[0m \u001B[43m        \u001B[49m\u001B[43minput_infos\u001B[49m\u001B[43m[\u001B[49m\u001B[38;5;241;43m1\u001B[39;49m\u001B[43m]\u001B[49m\u001B[38;5;241;43m.\u001B[39;49m\u001B[43mresult_data\u001B[49m\u001B[43m,\u001B[49m\n\u001B[1;32m    107\u001B[0m \u001B[43m        \u001B[49m\u001B[43minput_infos\u001B[49m\u001B[43m[\u001B[49m\u001B[38;5;241;43m1\u001B[39;49m\u001B[43m]\u001B[49m\u001B[38;5;241;43m.\u001B[39;49m\u001B[43mresult_annotation\u001B[49m\u001B[43m,\u001B[49m\n\u001B[1;32m    108\u001B[0m \u001B[43m        \u001B[49m\u001B[43mnon_data_function_args\u001B[49m\u001B[43m,\u001B[49m\n\u001B[1;32m    109\u001B[0m \u001B[43m        \u001B[49m\u001B[43mreturn_value\u001B[49m\u001B[43m,\u001B[49m\n\u001B[1;32m    110\u001B[0m \u001B[43m    \u001B[49m\u001B[43m)\u001B[49m\n\u001B[1;32m    111\u001B[0m \u001B[38;5;28;01melif\u001B[39;00m operator_context\u001B[38;5;241m.\u001B[39moperator \u001B[38;5;241m==\u001B[39m OperatorType\u001B[38;5;241m.\u001B[39mSCORE:\n\u001B[1;32m    112\u001B[0m     return_value_be \u001B[38;5;241m=\u001B[39m execute_inspection_visits_nary_op(\n\u001B[1;32m    113\u001B[0m         operator_context,\n\u001B[1;32m    114\u001B[0m         input_infos,\n\u001B[1;32m    115\u001B[0m         return_value,\n\u001B[1;32m    116\u001B[0m         non_data_function_args,\n\u001B[1;32m    117\u001B[0m     )\n",
      "File \u001B[0;32m/project/mlinspect/backends/_sklearn_backend.py:169\u001B[0m, in \u001B[0;36mexecute_inspection_visits_sink_op\u001B[0;34m(operator_context, data, data_annotation, target, target_annotation, non_data_function_args, return_value)\u001B[0m\n\u001B[1;32m    158\u001B[0m iterators_for_inspections \u001B[38;5;241m=\u001B[39m iter_input_annotation_output_sink_op(\n\u001B[1;32m    159\u001B[0m     inspection_count,\n\u001B[1;32m    160\u001B[0m     data,\n\u001B[0;32m   (...)\u001B[0m\n\u001B[1;32m    166\u001B[0m     return_value,\n\u001B[1;32m    167\u001B[0m )\n\u001B[1;32m    168\u001B[0m annotation_iterators \u001B[38;5;241m=\u001B[39m execute_visits(iterators_for_inspections)\n\u001B[0;32m--> 169\u001B[0m return_value \u001B[38;5;241m=\u001B[39m \u001B[43mstore_inspection_outputs\u001B[49m\u001B[43m(\u001B[49m\u001B[43mannotation_iterators\u001B[49m\u001B[43m,\u001B[49m\u001B[43m \u001B[49m\u001B[38;5;28;43;01mNone\u001B[39;49;00m\u001B[43m)\u001B[49m\n\u001B[1;32m    170\u001B[0m \u001B[38;5;28;01mreturn\u001B[39;00m return_value\n",
      "File \u001B[0;32m/project/mlinspect/backends/_pandas_backend.py:260\u001B[0m, in \u001B[0;36mstore_inspection_outputs\u001B[0;34m(annotation_iterators, return_value)\u001B[0m\n\u001B[1;32m    253\u001B[0m \u001B[38;5;28;01mdef\u001B[39;00m \u001B[38;5;21mstore_inspection_outputs\u001B[39m(\n\u001B[1;32m    254\u001B[0m     annotation_iterators: Any, return_value: Any\n\u001B[1;32m    255\u001B[0m ) \u001B[38;5;241m-\u001B[39m\u001B[38;5;241m>\u001B[39m BackendResult:\n\u001B[1;32m    256\u001B[0m \u001B[38;5;250m    \u001B[39m\u001B[38;5;124;03m\"\"\"\u001B[39;00m\n\u001B[1;32m    257\u001B[0m \u001B[38;5;124;03m    Stores the inspection annotations for the rows in the dataframe and the\u001B[39;00m\n\u001B[1;32m    258\u001B[0m \u001B[38;5;124;03m    inspection annotations for the DAG operators in a map\u001B[39;00m\n\u001B[1;32m    259\u001B[0m \u001B[38;5;124;03m    \"\"\"\u001B[39;00m\n\u001B[0;32m--> 260\u001B[0m     annotations_df \u001B[38;5;241m=\u001B[39m \u001B[43mbuild_annotation_df_from_iters\u001B[49m\u001B[43m(\u001B[49m\n\u001B[1;32m    261\u001B[0m \u001B[43m        \u001B[49m\u001B[43msingleton\u001B[49m\u001B[38;5;241;43m.\u001B[39;49m\u001B[43minspections\u001B[49m\u001B[43m,\u001B[49m\u001B[43m \u001B[49m\u001B[43mannotation_iterators\u001B[49m\n\u001B[1;32m    262\u001B[0m \u001B[43m    \u001B[49m\u001B[43m)\u001B[49m\n\u001B[1;32m    263\u001B[0m     inspection_outputs \u001B[38;5;241m=\u001B[39m {}\n\u001B[1;32m    264\u001B[0m     \u001B[38;5;28;01mfor\u001B[39;00m inspection \u001B[38;5;129;01min\u001B[39;00m singleton\u001B[38;5;241m.\u001B[39minspections:\n",
      "File \u001B[0;32m/project/mlinspect/backends/_backend_utils.py:50\u001B[0m, in \u001B[0;36mbuild_annotation_df_from_iters\u001B[0;34m(inspections, annotation_iterators)\u001B[0m\n\u001B[1;32m     48\u001B[0m annotation_iterators \u001B[38;5;241m=\u001B[39m itertools\u001B[38;5;241m.\u001B[39mzip_longest(\u001B[38;5;241m*\u001B[39mannotation_iterators)\n\u001B[1;32m     49\u001B[0m inspection_names \u001B[38;5;241m=\u001B[39m [\u001B[38;5;28mstr\u001B[39m(inspection) \u001B[38;5;28;01mfor\u001B[39;00m inspection \u001B[38;5;129;01min\u001B[39;00m inspections]\n\u001B[0;32m---> 50\u001B[0m annotations_df \u001B[38;5;241m=\u001B[39m \u001B[43mDataFrame\u001B[49m\u001B[43m(\u001B[49m\u001B[43mannotation_iterators\u001B[49m\u001B[43m,\u001B[49m\u001B[43m \u001B[49m\u001B[43mcolumns\u001B[49m\u001B[38;5;241;43m=\u001B[39;49m\u001B[43minspection_names\u001B[49m\u001B[43m)\u001B[49m\n\u001B[1;32m     51\u001B[0m \u001B[38;5;28;01mreturn\u001B[39;00m annotations_df\n",
      "File \u001B[0;32m/project/mlinspect/monkeypatching/_patch_pandas.py:130\u001B[0m, in \u001B[0;36mDataFramePatching.patched__init__\u001B[0;34m(self, *args, **kwargs)\u001B[0m\n\u001B[1;32m    119\u001B[0m     dag_node \u001B[38;5;241m=\u001B[39m DagNode(\n\u001B[1;32m    120\u001B[0m         op_id,\n\u001B[1;32m    121\u001B[0m         BasicCodeLocation(caller_filename, lineno),\n\u001B[0;32m   (...)\u001B[0m\n\u001B[1;32m    126\u001B[0m         ),\n\u001B[1;32m    127\u001B[0m     )\n\u001B[1;32m    128\u001B[0m     add_dag_node(dag_node, [], backend_result)\n\u001B[0;32m--> 130\u001B[0m \u001B[43mexecute_patched_func\u001B[49m\u001B[43m(\u001B[49m\n\u001B[1;32m    131\u001B[0m \u001B[43m    \u001B[49m\u001B[43moriginal\u001B[49m\u001B[43m,\u001B[49m\u001B[43m \u001B[49m\u001B[43mexecute_inspections\u001B[49m\u001B[43m,\u001B[49m\u001B[43m \u001B[49m\u001B[38;5;28;43mself\u001B[39;49m\u001B[43m,\u001B[49m\u001B[43m \u001B[49m\u001B[38;5;241;43m*\u001B[39;49m\u001B[43margs\u001B[49m\u001B[43m,\u001B[49m\u001B[43m \u001B[49m\u001B[38;5;241;43m*\u001B[39;49m\u001B[38;5;241;43m*\u001B[39;49m\u001B[43mkwargs\u001B[49m\n\u001B[1;32m    132\u001B[0m \u001B[43m\u001B[49m\u001B[43m)\u001B[49m\n",
      "File \u001B[0;32m/project/mlinspect/monkeypatching/_monkey_patching_utils.py:65\u001B[0m, in \u001B[0;36mexecute_patched_func\u001B[0;34m(original_func, execute_inspections_func, *args, **kwargs)\u001B[0m\n\u001B[1;32m     60\u001B[0m caller_filename \u001B[38;5;241m=\u001B[39m sys\u001B[38;5;241m.\u001B[39m_getframe(\n\u001B[1;32m     61\u001B[0m     \u001B[38;5;241m2\u001B[39m\n\u001B[1;32m     62\u001B[0m )\u001B[38;5;241m.\u001B[39mf_code\u001B[38;5;241m.\u001B[39mco_filename  \u001B[38;5;66;03m# pylint: disable=protected-access\u001B[39;00m\n\u001B[1;32m     64\u001B[0m \u001B[38;5;28;01mif\u001B[39;00m caller_filename \u001B[38;5;241m!=\u001B[39m singleton\u001B[38;5;241m.\u001B[39msource_code_path:\n\u001B[0;32m---> 65\u001B[0m     result \u001B[38;5;241m=\u001B[39m \u001B[43moriginal_func\u001B[49m\u001B[43m(\u001B[49m\u001B[38;5;241;43m*\u001B[39;49m\u001B[43margs\u001B[49m\u001B[43m,\u001B[49m\u001B[43m \u001B[49m\u001B[38;5;241;43m*\u001B[39;49m\u001B[38;5;241;43m*\u001B[39;49m\u001B[43mkwargs\u001B[49m\u001B[43m)\u001B[49m\n\u001B[1;32m     66\u001B[0m \u001B[38;5;28;01melif\u001B[39;00m singleton\u001B[38;5;241m.\u001B[39mtrack_code_references:\n\u001B[1;32m     67\u001B[0m     call_ast_node \u001B[38;5;241m=\u001B[39m ast\u001B[38;5;241m.\u001B[39mCall(\n\u001B[1;32m     68\u001B[0m         lineno\u001B[38;5;241m=\u001B[39msingleton\u001B[38;5;241m.\u001B[39mlineno_next_call_or_subscript,\n\u001B[1;32m     69\u001B[0m         col_offset\u001B[38;5;241m=\u001B[39msingleton\u001B[38;5;241m.\u001B[39mcol_offset_next_call_or_subscript,\n\u001B[1;32m     70\u001B[0m         end_lineno\u001B[38;5;241m=\u001B[39msingleton\u001B[38;5;241m.\u001B[39mend_lineno_next_call_or_subscript,\n\u001B[1;32m     71\u001B[0m         end_col_offset\u001B[38;5;241m=\u001B[39msingleton\u001B[38;5;241m.\u001B[39mend_col_offset_next_call_or_subscript,\n\u001B[1;32m     72\u001B[0m     )\n",
      "File \u001B[0;32m/opt/venv/lib/python3.10/site-packages/pandas/core/frame.py:798\u001B[0m, in \u001B[0;36mDataFrame.__init__\u001B[0;34m(self, data, index, columns, dtype, copy)\u001B[0m\n\u001B[1;32m    796\u001B[0m         data \u001B[38;5;241m=\u001B[39m np\u001B[38;5;241m.\u001B[39masarray(data)\n\u001B[1;32m    797\u001B[0m     \u001B[38;5;28;01melse\u001B[39;00m:\n\u001B[0;32m--> 798\u001B[0m         data \u001B[38;5;241m=\u001B[39m \u001B[38;5;28;43mlist\u001B[39;49m\u001B[43m(\u001B[49m\u001B[43mdata\u001B[49m\u001B[43m)\u001B[49m\n\u001B[1;32m    799\u001B[0m \u001B[38;5;28;01mif\u001B[39;00m \u001B[38;5;28mlen\u001B[39m(data) \u001B[38;5;241m>\u001B[39m \u001B[38;5;241m0\u001B[39m:\n\u001B[1;32m    800\u001B[0m     \u001B[38;5;28;01mif\u001B[39;00m is_dataclass(data[\u001B[38;5;241m0\u001B[39m]):\n",
      "File \u001B[0;32m/project/features/explainability/inspections/explainer.py:187\u001B[0m, in \u001B[0;36mExplainer.visit_operator\u001B[0;34m(self, inspection_input)\u001B[0m\n\u001B[1;32m    182\u001B[0m \u001B[38;5;28;01mimport\u001B[39;00m \u001B[38;5;21;01mdalex\u001B[39;00m \u001B[38;5;28;01mas\u001B[39;00m \u001B[38;5;21;01mdx\u001B[39;00m\n\u001B[1;32m    184\u001B[0m explainer \u001B[38;5;241m=\u001B[39m dx\u001B[38;5;241m.\u001B[39mExplainer(\n\u001B[1;32m    185\u001B[0m     model, \u001B[38;5;28mself\u001B[39m\u001B[38;5;241m.\u001B[39mexplainer_input, \u001B[38;5;28mself\u001B[39m\u001B[38;5;241m.\u001B[39mtrain_labels, predict_function\u001B[38;5;241m=\u001B[39mmodel\u001B[38;5;241m.\u001B[39mpredict\n\u001B[1;32m    186\u001B[0m )\n\u001B[0;32m--> 187\u001B[0m explanation \u001B[38;5;241m=\u001B[39m \u001B[43mexplainer\u001B[49m\u001B[38;5;241;43m.\u001B[39;49m\u001B[43mmodel_parts\u001B[49m\u001B[43m(\u001B[49m\u001B[43m)\u001B[49m\n\u001B[1;32m    188\u001B[0m train_explanation \u001B[38;5;241m=\u001B[39m explanation\u001B[38;5;241m.\u001B[39mresult\n\u001B[1;32m    189\u001B[0m df \u001B[38;5;241m=\u001B[39m pd\u001B[38;5;241m.\u001B[39mDataFrame(\n\u001B[1;32m    190\u001B[0m     [\u001B[38;5;28mself\u001B[39m\u001B[38;5;241m.\u001B[39mtest_input[\u001B[38;5;241m0\u001B[39m]], index\u001B[38;5;241m=\u001B[39m[\u001B[38;5;124m\"\u001B[39m\u001B[38;5;124mfirst_row\u001B[39m\u001B[38;5;124m\"\u001B[39m]\n\u001B[1;32m    191\u001B[0m )\n",
      "File \u001B[0;32m/opt/venv/lib/python3.10/site-packages/dalex/_explainer/object.py:587\u001B[0m, in \u001B[0;36mExplainer.model_parts\u001B[0;34m(self, loss_function, type, N, B, variables, variable_groups, keep_raw_permutations, label, processes, random_state, **kwargs)\u001B[0m\n\u001B[1;32m    574\u001B[0m checks\u001B[38;5;241m.\u001B[39mcheck_y_again(\u001B[38;5;28mself\u001B[39m\u001B[38;5;241m.\u001B[39my)\n\u001B[1;32m    576\u001B[0m _model_parts \u001B[38;5;241m=\u001B[39m VariableImportance(\n\u001B[1;32m    577\u001B[0m     loss_function\u001B[38;5;241m=\u001B[39mloss_function,\n\u001B[1;32m    578\u001B[0m     \u001B[38;5;28mtype\u001B[39m\u001B[38;5;241m=\u001B[39m_type,\n\u001B[0;32m   (...)\u001B[0m\n\u001B[1;32m    585\u001B[0m     keep_raw_permutations\u001B[38;5;241m=\u001B[39mkeep_raw_permutations,\n\u001B[1;32m    586\u001B[0m )\n\u001B[0;32m--> 587\u001B[0m \u001B[43m_model_parts\u001B[49m\u001B[38;5;241;43m.\u001B[39;49m\u001B[43mfit\u001B[49m\u001B[43m(\u001B[49m\u001B[38;5;28;43mself\u001B[39;49m\u001B[43m)\u001B[49m\n\u001B[1;32m    589\u001B[0m \u001B[38;5;28;01mif\u001B[39;00m label:\n\u001B[1;32m    590\u001B[0m     _model_parts\u001B[38;5;241m.\u001B[39mresult[\u001B[38;5;124m'\u001B[39m\u001B[38;5;124mlabel\u001B[39m\u001B[38;5;124m'\u001B[39m] \u001B[38;5;241m=\u001B[39m label\n",
      "File \u001B[0;32m/opt/venv/lib/python3.10/site-packages/dalex/model_explanations/_variable_importance/object.py:123\u001B[0m, in \u001B[0;36mVariableImportance.fit\u001B[0;34m(self, explainer)\u001B[0m\n\u001B[1;32m    121\u001B[0m \u001B[38;5;28mself\u001B[39m\u001B[38;5;241m.\u001B[39mvariable_groups \u001B[38;5;241m=\u001B[39m checks\u001B[38;5;241m.\u001B[39mcheck_variable_groups(\u001B[38;5;28mself\u001B[39m\u001B[38;5;241m.\u001B[39mvariable_groups, explainer)\n\u001B[1;32m    122\u001B[0m \u001B[38;5;28mself\u001B[39m\u001B[38;5;241m.\u001B[39mvariables \u001B[38;5;241m=\u001B[39m checks\u001B[38;5;241m.\u001B[39mcheck_variables(\u001B[38;5;28mself\u001B[39m\u001B[38;5;241m.\u001B[39mvariables, \u001B[38;5;28mself\u001B[39m\u001B[38;5;241m.\u001B[39mvariable_groups, explainer)\n\u001B[0;32m--> 123\u001B[0m \u001B[38;5;28mself\u001B[39m\u001B[38;5;241m.\u001B[39mresult, \u001B[38;5;28mself\u001B[39m\u001B[38;5;241m.\u001B[39mpermutation \u001B[38;5;241m=\u001B[39m \u001B[43mutils\u001B[49m\u001B[38;5;241;43m.\u001B[39;49m\u001B[43mcalculate_variable_importance\u001B[49m\u001B[43m(\u001B[49m\u001B[43mexplainer\u001B[49m\u001B[43m,\u001B[49m\n\u001B[1;32m    124\u001B[0m \u001B[43m                                                                    \u001B[49m\u001B[38;5;28;43mself\u001B[39;49m\u001B[38;5;241;43m.\u001B[39;49m\u001B[43mtype\u001B[49m\u001B[43m,\u001B[49m\n\u001B[1;32m    125\u001B[0m \u001B[43m                                                                    \u001B[49m\u001B[38;5;28;43mself\u001B[39;49m\u001B[38;5;241;43m.\u001B[39;49m\u001B[43mloss_function\u001B[49m\u001B[43m,\u001B[49m\n\u001B[1;32m    126\u001B[0m \u001B[43m                                                                    \u001B[49m\u001B[38;5;28;43mself\u001B[39;49m\u001B[38;5;241;43m.\u001B[39;49m\u001B[43mvariables\u001B[49m\u001B[43m,\u001B[49m\n\u001B[1;32m    127\u001B[0m \u001B[43m                                                                    \u001B[49m\u001B[38;5;28;43mself\u001B[39;49m\u001B[38;5;241;43m.\u001B[39;49m\u001B[43mN\u001B[49m\u001B[43m,\u001B[49m\n\u001B[1;32m    128\u001B[0m \u001B[43m                                                                    \u001B[49m\u001B[38;5;28;43mself\u001B[39;49m\u001B[38;5;241;43m.\u001B[39;49m\u001B[43mB\u001B[49m\u001B[43m,\u001B[49m\n\u001B[1;32m    129\u001B[0m \u001B[43m                                                                    \u001B[49m\u001B[43mexplainer\u001B[49m\u001B[38;5;241;43m.\u001B[39;49m\u001B[43mlabel\u001B[49m\u001B[43m,\u001B[49m\n\u001B[1;32m    130\u001B[0m \u001B[43m                                                                    \u001B[49m\u001B[38;5;28;43mself\u001B[39;49m\u001B[38;5;241;43m.\u001B[39;49m\u001B[43mprocesses\u001B[49m\u001B[43m,\u001B[49m\n\u001B[1;32m    131\u001B[0m \u001B[43m                                                                    \u001B[49m\u001B[38;5;28;43mself\u001B[39;49m\u001B[38;5;241;43m.\u001B[39;49m\u001B[43mkeep_raw_permutations\u001B[49m\u001B[43m,\u001B[49m\n\u001B[1;32m    132\u001B[0m \u001B[43m                                                                    \u001B[49m\u001B[38;5;28;43mself\u001B[39;49m\u001B[38;5;241;43m.\u001B[39;49m\u001B[43mrandom_state\u001B[49m\u001B[43m)\u001B[49m\n",
      "File \u001B[0;32m/opt/venv/lib/python3.10/site-packages/dalex/model_explanations/_variable_importance/utils.py:21\u001B[0m, in \u001B[0;36mcalculate_variable_importance\u001B[0;34m(explainer, type, loss_function, variables, N, B, label, processes, keep_raw_permutations, random_state)\u001B[0m\n\u001B[1;32m     19\u001B[0m     result \u001B[38;5;241m=\u001B[39m [\u001B[38;5;28;01mNone\u001B[39;00m] \u001B[38;5;241m*\u001B[39m B\n\u001B[1;32m     20\u001B[0m     \u001B[38;5;28;01mfor\u001B[39;00m i \u001B[38;5;129;01min\u001B[39;00m \u001B[38;5;28mrange\u001B[39m(B):\n\u001B[0;32m---> 21\u001B[0m         result[i] \u001B[38;5;241m=\u001B[39m \u001B[43mloss_after_permutation\u001B[49m\u001B[43m(\u001B[49m\u001B[43mexplainer\u001B[49m\u001B[38;5;241;43m.\u001B[39;49m\u001B[43mdata\u001B[49m\u001B[43m,\u001B[49m\u001B[43m \u001B[49m\u001B[43mexplainer\u001B[49m\u001B[38;5;241;43m.\u001B[39;49m\u001B[43my\u001B[49m\u001B[43m,\u001B[49m\u001B[43m \u001B[49m\u001B[43mexplainer\u001B[49m\u001B[38;5;241;43m.\u001B[39;49m\u001B[43mmodel\u001B[49m\u001B[43m,\u001B[49m\u001B[43m \u001B[49m\u001B[43mexplainer\u001B[49m\u001B[38;5;241;43m.\u001B[39;49m\u001B[43mpredict_function\u001B[49m\u001B[43m,\u001B[49m\n\u001B[1;32m     22\u001B[0m \u001B[43m                                           \u001B[49m\u001B[43mloss_function\u001B[49m\u001B[43m,\u001B[49m\u001B[43m \u001B[49m\u001B[43mvariables\u001B[49m\u001B[43m,\u001B[49m\u001B[43m \u001B[49m\u001B[43mN\u001B[49m\u001B[43m,\u001B[49m\u001B[43m \u001B[49m\u001B[43mnp\u001B[49m\u001B[38;5;241;43m.\u001B[39;49m\u001B[43mrandom\u001B[49m\u001B[43m)\u001B[49m\n\u001B[1;32m     23\u001B[0m \u001B[38;5;28;01melse\u001B[39;00m:\n\u001B[1;32m     24\u001B[0m     \u001B[38;5;66;03m# Create number generator for each iteration\u001B[39;00m\n\u001B[1;32m     25\u001B[0m     ss \u001B[38;5;241m=\u001B[39m SeedSequence(random_state)\n",
      "File \u001B[0;32m/opt/venv/lib/python3.10/site-packages/dalex/model_explanations/_variable_importance/utils.py:63\u001B[0m, in \u001B[0;36mloss_after_permutation\u001B[0;34m(data, y, model, predict, loss_function, variables, N, rng)\u001B[0m\n\u001B[1;32m     60\u001B[0m     observed \u001B[38;5;241m=\u001B[39m y\n\u001B[1;32m     62\u001B[0m \u001B[38;5;66;03m# loss on the full model or when outcomes are permuted\u001B[39;00m\n\u001B[0;32m---> 63\u001B[0m loss_full \u001B[38;5;241m=\u001B[39m loss_function(observed, \u001B[43mpredict\u001B[49m\u001B[43m(\u001B[49m\u001B[43mmodel\u001B[49m\u001B[43m,\u001B[49m\u001B[43m \u001B[49m\u001B[43msampled_data\u001B[49m\u001B[43m)\u001B[49m)\n\u001B[1;32m     65\u001B[0m sampled_rows2 \u001B[38;5;241m=\u001B[39m rng\u001B[38;5;241m.\u001B[39mchoice(\u001B[38;5;28mrange\u001B[39m(observed\u001B[38;5;241m.\u001B[39mshape[\u001B[38;5;241m0\u001B[39m]), observed\u001B[38;5;241m.\u001B[39mshape[\u001B[38;5;241m0\u001B[39m], replace\u001B[38;5;241m=\u001B[39m\u001B[38;5;28;01mFalse\u001B[39;00m)\n\u001B[1;32m     66\u001B[0m loss_baseline \u001B[38;5;241m=\u001B[39m loss_function(observed[sampled_rows2], predict(model, sampled_data))\n",
      "File \u001B[0;32m/project/mlinspect/monkeypatching/_patch_sklearn.py:2752\u001B[0m, in \u001B[0;36mSklearnKerasClassifierPatching.patched_predict\u001B[0;34m(self, *args, **kwargs)\u001B[0m\n\u001B[1;32m   2749\u001B[0m     \u001B[38;5;28;01mreturn\u001B[39;00m result\n\u001B[1;32m   2751\u001B[0m \u001B[38;5;28;01mif\u001B[39;00m \u001B[38;5;129;01mnot\u001B[39;00m call_info_singleton\u001B[38;5;241m.\u001B[39mparam_search_active:\n\u001B[0;32m-> 2752\u001B[0m     new_result \u001B[38;5;241m=\u001B[39m \u001B[43mexecute_patched_func_indirect_allowed\u001B[49m\u001B[43m(\u001B[49m\n\u001B[1;32m   2753\u001B[0m \u001B[43m        \u001B[49m\u001B[43mexecute_inspections\u001B[49m\n\u001B[1;32m   2754\u001B[0m \u001B[43m    \u001B[49m\u001B[43m)\u001B[49m\n\u001B[1;32m   2755\u001B[0m \u001B[38;5;28;01melse\u001B[39;00m:\n\u001B[1;32m   2756\u001B[0m     original \u001B[38;5;241m=\u001B[39m gorilla\u001B[38;5;241m.\u001B[39mget_original_attribute(\n\u001B[1;32m   2757\u001B[0m         keras_sklearn_external\u001B[38;5;241m.\u001B[39mKerasClassifier, \u001B[38;5;124m\"\u001B[39m\u001B[38;5;124mpredict\u001B[39m\u001B[38;5;124m\"\u001B[39m\n\u001B[1;32m   2758\u001B[0m     )\n",
      "File \u001B[0;32m/project/mlinspect/monkeypatching/_monkey_patching_utils.py:188\u001B[0m, in \u001B[0;36mexecute_patched_func_indirect_allowed\u001B[0;34m(execute_inspections_func)\u001B[0m\n\u001B[1;32m    181\u001B[0m     caller_lineno \u001B[38;5;241m=\u001B[39m singleton\u001B[38;5;241m.\u001B[39mlineno_next_call_or_subscript\n\u001B[1;32m    182\u001B[0m     caller_code_reference \u001B[38;5;241m=\u001B[39m CodeReference(\n\u001B[1;32m    183\u001B[0m         singleton\u001B[38;5;241m.\u001B[39mlineno_next_call_or_subscript,\n\u001B[1;32m    184\u001B[0m         singleton\u001B[38;5;241m.\u001B[39mcol_offset_next_call_or_subscript,\n\u001B[1;32m    185\u001B[0m         singleton\u001B[38;5;241m.\u001B[39mend_lineno_next_call_or_subscript,\n\u001B[1;32m    186\u001B[0m         singleton\u001B[38;5;241m.\u001B[39mend_col_offset_next_call_or_subscript,\n\u001B[1;32m    187\u001B[0m     )\n\u001B[0;32m--> 188\u001B[0m     result \u001B[38;5;241m=\u001B[39m \u001B[43mexecute_inspections_func\u001B[49m\u001B[43m(\u001B[49m\n\u001B[1;32m    189\u001B[0m \u001B[43m        \u001B[49m\u001B[38;5;241;43m-\u001B[39;49m\u001B[38;5;241;43m1\u001B[39;49m\u001B[43m,\u001B[49m\n\u001B[1;32m    190\u001B[0m \u001B[43m        \u001B[49m\u001B[43mcaller_filename\u001B[49m\u001B[43m,\u001B[49m\n\u001B[1;32m    191\u001B[0m \u001B[43m        \u001B[49m\u001B[43mcaller_lineno\u001B[49m\u001B[43m,\u001B[49m\n\u001B[1;32m    192\u001B[0m \u001B[43m        \u001B[49m\u001B[43mcaller_code_reference\u001B[49m\u001B[43m,\u001B[49m\n\u001B[1;32m    193\u001B[0m \u001B[43m        \u001B[49m\u001B[43mcaller_source_code\u001B[49m\u001B[43m,\u001B[49m\n\u001B[1;32m    194\u001B[0m \u001B[43m    \u001B[49m\u001B[43m)\u001B[49m\n\u001B[1;32m    195\u001B[0m \u001B[38;5;28;01melse\u001B[39;00m:\n\u001B[1;32m    196\u001B[0m     caller_lineno \u001B[38;5;241m=\u001B[39m sys\u001B[38;5;241m.\u001B[39m_getframe(\n\u001B[1;32m    197\u001B[0m         \u001B[38;5;241m2\u001B[39m\n\u001B[1;32m    198\u001B[0m     )\u001B[38;5;241m.\u001B[39mf_lineno  \u001B[38;5;66;03m# pylint: disable=protected-access\u001B[39;00m\n",
      "File \u001B[0;32m/project/mlinspect/monkeypatching/_patch_sklearn.py:2688\u001B[0m, in \u001B[0;36mSklearnKerasClassifierPatching.patched_predict.<locals>.execute_inspections\u001B[0;34m(_, caller_filename, lineno, optional_code_reference, optional_source_code)\u001B[0m\n\u001B[1;32m   2676\u001B[0m \u001B[38;5;66;03m# Test data\u001B[39;00m\n\u001B[1;32m   2677\u001B[0m \u001B[38;5;28;01mif\u001B[39;00m (\n\u001B[1;32m   2678\u001B[0m     \u001B[38;5;124m\"\u001B[39m\u001B[38;5;124mscore\u001B[39m\u001B[38;5;124m\"\u001B[39m \u001B[38;5;129;01min\u001B[39;00m optional_source_code\n\u001B[1;32m   2679\u001B[0m     \u001B[38;5;129;01mor\u001B[39;00m \u001B[38;5;124m\"\u001B[39m\u001B[38;5;124mshap_values\u001B[39m\u001B[38;5;124m\"\u001B[39m \u001B[38;5;129;01min\u001B[39;00m optional_source_code\n\u001B[0;32m   (...)\u001B[0m\n\u001B[1;32m   2686\u001B[0m     \u001B[38;5;129;01mor\u001B[39;00m \u001B[38;5;124m\"\u001B[39m\u001B[38;5;124mdalex\u001B[39m\u001B[38;5;124m\"\u001B[39m \u001B[38;5;129;01min\u001B[39;00m optional_source_code\n\u001B[1;32m   2687\u001B[0m ):\n\u001B[0;32m-> 2688\u001B[0m     \u001B[38;5;28;01mreturn\u001B[39;00m \u001B[43moriginal\u001B[49m\u001B[43m(\u001B[49m\u001B[38;5;28;43mself\u001B[39;49m\u001B[43m,\u001B[49m\u001B[43m \u001B[49m\u001B[38;5;241;43m*\u001B[39;49m\u001B[43margs\u001B[49m\u001B[43m,\u001B[49m\u001B[43m \u001B[49m\u001B[38;5;241;43m*\u001B[39;49m\u001B[38;5;241;43m*\u001B[39;49m\u001B[43mkwargs\u001B[49m\u001B[43m)\u001B[49m\n\u001B[1;32m   2689\u001B[0m \u001B[38;5;28;01mif\u001B[39;00m \u001B[38;5;124m\"\u001B[39m\u001B[38;5;124mExplainer\u001B[39m\u001B[38;5;124m\"\u001B[39m \u001B[38;5;129;01min\u001B[39;00m optional_source_code:\n\u001B[1;32m   2690\u001B[0m     data_backend_result, test_data_node, test_data_result \u001B[38;5;241m=\u001B[39m (\n\u001B[1;32m   2691\u001B[0m         add_test_data_dag_node(\n\u001B[1;32m   2692\u001B[0m             call_info_singleton_shap\u001B[38;5;241m.\u001B[39mactual_explainer_input,\n\u001B[0;32m   (...)\u001B[0m\n\u001B[1;32m   2698\u001B[0m         )\n\u001B[1;32m   2699\u001B[0m     )\n",
      "\u001B[0;31mTypeError\u001B[0m: BaseWrapper.predict() takes 2 positional arguments but 3 were given"
     ]
    }
   ],
   "source": [
    "import numpy as np\n",
    "from features.explainability.inspections.explainability_methods_enum import ExplainabilityMethodsEnum\n",
    "from features.explainability.inspections.explainer import Explainer\n",
    "import os\n",
    "os.environ['TF_CPP_MIN_LOG_LEVEL'] = '2'  # Some tensorflow warnings in the pipeline we inspect\n",
    "from mlinspect.utils import get_project_root\n",
    "\n",
    "from mlinspect import PipelineInspector\n",
    "\n",
    "EXAMPLE_PIPELINE = os.path.join(str(get_project_root()), \"features\", \"explainability\", \"examples\", \"test_pipeline.py\")\n",
    "\n",
    "inspector_result = PipelineInspector\\\n",
    "    .on_pipeline_from_py_file(EXAMPLE_PIPELINE) \\\n",
    "    .add_required_inspection(Explainer([ExplainabilityMethodsEnum.DALEX], X_t_train.view(np.ndarray), X_t_test.view(np.ndarray), featurisation.get_feature_names_out(), y_test, y_train)) \\\n",
    "    .execute()\n",
    "\n",
    "extracted_dag = inspector_result.dag\n",
    "dag_node_to_inspection_results = inspector_result.dag_node_to_inspection_results\n",
    "check_results = inspector_result.check_to_check_results"
   ],
   "metadata": {
    "collapsed": false,
    "ExecuteTime": {
     "end_time": "2024-05-03T22:03:19.709698Z",
     "start_time": "2024-05-03T22:03:15.721022Z"
    }
   }
  },
  {
   "cell_type": "code",
   "execution_count": null,
   "metadata": {
    "ExecuteTime": {
     "start_time": "2024-05-03T21:22:18.982454Z"
    }
   },
   "outputs": [],
   "source": [
    "from mlinspect import OperatorType\n",
    "\n",
    "relevant_node = [node for node in extracted_dag.nodes if node.operator_info.operator in {OperatorType.ESTIMATOR,}][0]\n",
    "print(\"\\n\\033[1m{} ({})\\033[0m\\n{}\\n{}\".format(\n",
    "    relevant_node.operator_info.operator,\n",
    "    relevant_node.details.description,\n",
    "    relevant_node.optional_code_info.source_code,\n",
    "    relevant_node.optional_code_info.code_reference))\n",
    "inspection_result = dag_node_to_inspection_results[relevant_node][Explainer([ExplainabilityMethodsEnum.DALEX], X_t_train.view(np.ndarray), X_t_test.view(np.ndarray), featurisation.get_feature_names_out(),y_test, y_train)]\n",
    "print(inspection_result)"
   ]
  },
  {
   "cell_type": "code",
   "execution_count": null,
   "outputs": [],
   "source": [
    "inspection_result[ExplainabilityMethodsEnum.DALEX][\"results\"][\"train\"].plot()"
   ],
   "metadata": {
    "collapsed": false
   }
  }
 ],
 "metadata": {
  "kernelspec": {
   "display_name": "venv",
   "language": "python",
   "name": "venv"
  },
  "language_info": {
   "codemirror_mode": {
    "name": "ipython",
    "version": 3
   },
   "file_extension": ".py",
   "mimetype": "text/x-python",
   "name": "python",
   "nbconvert_exporter": "python",
   "pygments_lexer": "ipython3",
   "version": "3.9.16"
  }
 },
 "nbformat": 4,
 "nbformat_minor": 1
}
