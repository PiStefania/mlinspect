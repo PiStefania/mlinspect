{
 "cells": [
  {
   "cell_type": "code",
   "execution_count": 1,
   "outputs": [
    {
     "name": "stderr",
     "output_type": "stream",
     "text": [
      "/opt/venv/lib/python3.9/site-packages/sklearn/preprocessing/_encoders.py:975: FutureWarning: `sparse` was renamed to `sparse_output` in version 1.2 and will be removed in 1.4. `sparse_output` is ignored unless you leave `sparse` to its default value.\n",
      "  warnings.warn(\n",
      "/opt/venv/lib/python3.9/site-packages/sklearn/preprocessing/_encoders.py:975: FutureWarning: `sparse` was renamed to `sparse_output` in version 1.2 and will be removed in 1.4. `sparse_output` is ignored unless you leave `sparse` to its default value.\n",
      "  warnings.warn(\n"
     ]
    }
   ],
   "source": [
    "from mlinspect.monkeypatching._mlinspect_ndarray import MlinspectNdarray\n",
    "import pandas as pd\n",
    "import os\n",
    "from sklearn.compose import ColumnTransformer\n",
    "from sklearn.impute import SimpleImputer\n",
    "from sklearn.model_selection import train_test_split\n",
    "from sklearn.pipeline import Pipeline\n",
    "from mlinspect.utils import get_project_root\n",
    "from sklearn.preprocessing import OneHotEncoder, StandardScaler\n",
    "\n",
    "# prepare data for explainer\n",
    "COUNTIES_OF_INTEREST = ['county2', 'county3']\n",
    "\n",
    "patients = pd.read_csv(os.path.join(str(get_project_root()), \"example_pipelines\", \"healthcare\",\n",
    "                                    \"patients.csv\"), na_values='?')\n",
    "histories = pd.read_csv(os.path.join(str(get_project_root()), \"example_pipelines\", \"healthcare\",\n",
    "                                     \"histories.csv\"), na_values='?')\n",
    "\n",
    "data = patients.merge(histories, on=['ssn'])\n",
    "complications = data.groupby('age_group') \\\n",
    "    .agg(mean_complications=('complications', 'mean'))\n",
    "data = data.merge(complications, on=['age_group'])\n",
    "data['label'] = data['complications'] > 1.2 * data['mean_complications']\n",
    "data = data[['smoker', 'last_name', 'county', 'num_children', 'race', 'income', 'label']]\n",
    "data = data[data['county'].isin(COUNTIES_OF_INTEREST)]\n",
    "train_data, test_data = train_test_split(data)\n",
    "y_train = train_data[\"label\"]\n",
    "y_test = test_data[\"label\"]\n",
    "X_train = train_data.drop(\"label\", axis=1)\n",
    "X_test = test_data.drop(\"label\", axis=1)\n",
    "\n",
    "impute_and_one_hot_encode = Pipeline([\n",
    "    ('impute', SimpleImputer(strategy='most_frequent')),\n",
    "    ('encode', OneHotEncoder(sparse=False, handle_unknown='ignore'))\n",
    "])\n",
    "featurisation = ColumnTransformer(transformers=[\n",
    "    (\"impute_and_one_hot_encode\", impute_and_one_hot_encode, ['smoker', 'county', 'race']),\n",
    "    ('numeric', StandardScaler(), ['num_children', 'income']),\n",
    "], remainder='drop')\n",
    "\n",
    "X_t_train: MlinspectNdarray = featurisation.fit_transform(train_data, y_train)\n",
    "X_t_test: MlinspectNdarray = featurisation.fit_transform(X_test, y_test)"
   ],
   "metadata": {
    "collapsed": false,
    "ExecuteTime": {
     "end_time": "2024-01-05T00:54:31.346226Z",
     "start_time": "2024-01-05T00:54:30.108829Z"
    }
   }
  },
  {
   "cell_type": "code",
   "execution_count": 2,
   "outputs": [
    {
     "data": {
      "text/plain": "array([[ 1.        ,  0.        ,  1.        , ...,  0.        ,\n         1.00212687, -1.20847893],\n       [ 1.        ,  0.        ,  1.        , ...,  0.        ,\n         1.00212687, -0.57072269],\n       [ 1.        ,  0.        ,  1.        , ...,  0.        ,\n        -1.37450188, -0.57659001],\n       ...,\n       [ 1.        ,  0.        ,  1.        , ...,  0.        ,\n        -1.37450188, -0.36976512],\n       [ 0.        ,  1.        ,  1.        , ...,  0.        ,\n        -1.37450188,  0.37455082],\n       [ 0.        ,  1.        ,  0.        , ...,  0.        ,\n        -0.78034469,  1.10816007]])"
     },
     "execution_count": 2,
     "metadata": {},
     "output_type": "execute_result"
    }
   ],
   "source": [
    "import numpy as np\n",
    "\n",
    "X_t_train.view(np.ndarray)"
   ],
   "metadata": {
    "collapsed": false,
    "ExecuteTime": {
     "end_time": "2024-01-05T00:54:31.352806Z",
     "start_time": "2024-01-05T00:54:31.350082Z"
    }
   }
  },
  {
   "cell_type": "code",
   "execution_count": 3,
   "outputs": [
    {
     "name": "stderr",
     "output_type": "stream",
     "text": [
      "Using 217 background data samples could cause slower run times. Consider using shap.sample(data, K) or shap.kmeans(data, K) to summarize the background as K samples.\n"
     ]
    },
    {
     "data": {
      "text/plain": "  0%|          | 0/1 [00:00<?, ?it/s]",
      "application/vnd.jupyter.widget-view+json": {
       "version_major": 2,
       "version_minor": 0,
       "model_id": "9be322d69e1d4156ad4e3bae44da9858"
      }
     },
     "metadata": {},
     "output_type": "display_data"
    },
    {
     "name": "stdout",
     "output_type": "stream",
     "text": [
      "Mean accuracy: 0.9178082191780822\n",
      "[<shap.explainers._kernel.KernelExplainer object at 0xffff2259d970>, array([[-0.25534585, -0.08086055,  0.01702019, -0.01314442,  0.01240813,\n",
      "         0.01164159, -0.01186372, -0.00545947, -0.13522539]])]\n"
     ]
    }
   ],
   "source": [
    "from features.explainability.checks.shapley_values import ShapleyValuesCheck\n",
    "from features.explainability.inspections.shapley_methods_enum import ShapleyMethodsEnum\n",
    "from features.explainability.inspections.explainer import Explainer\n",
    "import os\n",
    "os.environ['TF_CPP_MIN_LOG_LEVEL'] = '2'  # Some tensorflow warnings in the pipeline we inspect\n",
    "from mlinspect.utils import get_project_root\n",
    "\n",
    "from mlinspect import PipelineInspector\n",
    "\n",
    "EXAMPLE_PIPELINE = os.path.join(str(get_project_root()), \"features\", \"explainability\", \"pipeline_with_inspection.py\")\n",
    "\n",
    "inspector_result = PipelineInspector\\\n",
    "    .on_pipeline_from_py_file(EXAMPLE_PIPELINE) \\\n",
    "    .add_required_inspection(Explainer(ShapleyMethodsEnum.SHAP, X_t_train.view(np.ndarray), X_t_test.view(np.ndarray)[:1])) \\\n",
    "    .add_check(ShapleyValuesCheck(ShapleyMethodsEnum.SHAP, X_t_train.view(np.ndarray), X_t_test.view(np.ndarray)[:1])) \\\n",
    "    .execute()\n",
    "\n",
    "extracted_dag = inspector_result.dag\n",
    "dag_node_to_inspection_results = inspector_result.dag_node_to_inspection_results\n",
    "check_results = inspector_result.check_to_check_results"
   ],
   "metadata": {
    "collapsed": false,
    "ExecuteTime": {
     "end_time": "2024-01-05T00:54:55.770348Z",
     "start_time": "2024-01-05T00:54:31.357122Z"
    }
   }
  },
  {
   "cell_type": "code",
   "execution_count": 5,
   "metadata": {
    "ExecuteTime": {
     "end_time": "2024-01-05T00:55:50.098464Z",
     "start_time": "2024-01-05T00:55:50.093236Z"
    }
   },
   "outputs": [
    {
     "name": "stdout",
     "output_type": "stream",
     "text": [
      "\n",
      "\u001B[1mOperatorType.ESTIMATOR (Neural Network)\u001B[0m\n",
      "KerasClassifier(model=create_model_predict, epochs=10, batch_size=1, verbose=0, loss='binary_crossentropy',)\n",
      "CodeReference(lineno=49, col_offset=13, end_lineno=49, end_col_offset=121)\n",
      "[<shap.explainers._kernel.KernelExplainer object at 0xffff2259d970>, array([[-0.25534585, -0.08086055,  0.01702019, -0.01314442,  0.01240813,\n",
      "         0.01164159, -0.01186372, -0.00545947, -0.13522539]])]\n"
     ]
    }
   ],
   "source": [
    "from mlinspect import OperatorType\n",
    "\n",
    "relevant_node = [node for node in extracted_dag.nodes if node.operator_info.operator in {OperatorType.ESTIMATOR,}][0]\n",
    "print(\"\\n\\033[1m{} ({})\\033[0m\\n{}\\n{}\".format(\n",
    "    relevant_node.operator_info.operator,\n",
    "    relevant_node.details.description,\n",
    "    relevant_node.optional_code_info.source_code,\n",
    "    relevant_node.optional_code_info.code_reference))\n",
    "inspection_result = dag_node_to_inspection_results[relevant_node][Explainer(ShapleyMethodsEnum.SHAP, X_t_train.view(np.ndarray), X_t_test.view(np.ndarray))]\n",
    "print(inspection_result)"
   ]
  },
  {
   "cell_type": "code",
   "execution_count": 9,
   "outputs": [
    {
     "data": {
      "text/plain": "                                          check_name               status  \\\n0  ShapleyValuesCheck((<ShapleyMethodsEnum.SHAP: ...  CheckStatus.SUCCESS   \n\n  description  \n0        None  ",
      "text/html": "<div>\n<style scoped>\n    .dataframe tbody tr th:only-of-type {\n        vertical-align: middle;\n    }\n\n    .dataframe tbody tr th {\n        vertical-align: top;\n    }\n\n    .dataframe thead th {\n        text-align: right;\n    }\n</style>\n<table border=\"1\" class=\"dataframe\">\n  <thead>\n    <tr style=\"text-align: right;\">\n      <th></th>\n      <th>check_name</th>\n      <th>status</th>\n      <th>description</th>\n    </tr>\n  </thead>\n  <tbody>\n    <tr>\n      <th>0</th>\n      <td>ShapleyValuesCheck((&lt;ShapleyMethodsEnum.SHAP: ...</td>\n      <td>CheckStatus.SUCCESS</td>\n      <td>None</td>\n    </tr>\n  </tbody>\n</table>\n</div>"
     },
     "metadata": {},
     "output_type": "display_data"
    },
    {
     "name": "stdout",
     "output_type": "stream",
     "text": [
      "ShapleyValues(check=ShapleyValuesCheck((<ShapleyMethodsEnum.SHAP: 'SHAP'>, 100)), status=<CheckStatus.SUCCESS: 'Success'>, description=None, values=array([[-0.25534585, -0.08086055,  0.01702019, -0.01314442,  0.01240813,\n",
      "         0.01164159, -0.01186372, -0.00545947, -0.13522539]]))\n"
     ]
    }
   ],
   "source": [
    "from IPython.display import display\n",
    "\n",
    "check_result_df = PipelineInspector.check_results_as_data_frame(check_results)\n",
    "display(check_result_df)\n",
    "print(check_results[ShapleyValuesCheck(ShapleyMethodsEnum.SHAP, X_t_train.view(np.ndarray), X_t_test.view(np.ndarray))])"
   ],
   "metadata": {
    "collapsed": false,
    "ExecuteTime": {
     "end_time": "2024-01-05T00:58:59.976153Z",
     "start_time": "2024-01-05T00:58:59.929569Z"
    }
   }
  },
  {
   "cell_type": "code",
   "execution_count": null,
   "outputs": [],
   "source": [],
   "metadata": {
    "collapsed": false
   }
  }
 ],
 "metadata": {
  "kernelspec": {
   "display_name": "venv",
   "language": "python",
   "name": "venv"
  },
  "language_info": {
   "codemirror_mode": {
    "name": "ipython",
    "version": 3
   },
   "file_extension": ".py",
   "mimetype": "text/x-python",
   "name": "python",
   "nbconvert_exporter": "python",
   "pygments_lexer": "ipython3",
   "version": "3.9.16"
  }
 },
 "nbformat": 4,
 "nbformat_minor": 1
}
