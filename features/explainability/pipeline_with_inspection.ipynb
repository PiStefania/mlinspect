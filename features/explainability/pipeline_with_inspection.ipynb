{
 "cells": [
  {
   "cell_type": "code",
   "execution_count": 1,
   "outputs": [
    {
     "name": "stdout",
     "output_type": "stream",
     "text": [
      "['impute_and_one_hot_encode__smoker_False'\n",
      " 'impute_and_one_hot_encode__smoker_True'\n",
      " 'impute_and_one_hot_encode__county_county2'\n",
      " 'impute_and_one_hot_encode__county_county3'\n",
      " 'impute_and_one_hot_encode__race_race1'\n",
      " 'impute_and_one_hot_encode__race_race2'\n",
      " 'impute_and_one_hot_encode__race_race3' 'numeric__num_children'\n",
      " 'numeric__income']\n"
     ]
    },
    {
     "name": "stderr",
     "output_type": "stream",
     "text": [
      "/opt/venv/lib/python3.9/site-packages/sklearn/preprocessing/_encoders.py:975: FutureWarning: `sparse` was renamed to `sparse_output` in version 1.2 and will be removed in 1.4. `sparse_output` is ignored unless you leave `sparse` to its default value.\n",
      "  warnings.warn(\n",
      "/opt/venv/lib/python3.9/site-packages/sklearn/preprocessing/_encoders.py:975: FutureWarning: `sparse` was renamed to `sparse_output` in version 1.2 and will be removed in 1.4. `sparse_output` is ignored unless you leave `sparse` to its default value.\n",
      "  warnings.warn(\n"
     ]
    }
   ],
   "source": [
    "from mlinspect.monkeypatching._mlinspect_ndarray import MlinspectNdarray\n",
    "import pandas as pd\n",
    "import os\n",
    "from sklearn.compose import ColumnTransformer\n",
    "from sklearn.impute import SimpleImputer\n",
    "from sklearn.model_selection import train_test_split\n",
    "from sklearn.pipeline import Pipeline\n",
    "from mlinspect.utils import get_project_root\n",
    "from sklearn.preprocessing import OneHotEncoder, StandardScaler\n",
    "\n",
    "# prepare data for explainer\n",
    "COUNTIES_OF_INTEREST = ['county2', 'county3']\n",
    "\n",
    "patients = pd.read_csv(os.path.join(str(get_project_root()), \"example_pipelines\", \"healthcare\",\n",
    "                                    \"patients.csv\"), na_values='?')\n",
    "histories = pd.read_csv(os.path.join(str(get_project_root()), \"example_pipelines\", \"healthcare\",\n",
    "                                     \"histories.csv\"), na_values='?')\n",
    "\n",
    "data = patients.merge(histories, on=['ssn'])\n",
    "complications = data.groupby('age_group') \\\n",
    "    .agg(mean_complications=('complications', 'mean'))\n",
    "data = data.merge(complications, on=['age_group'])\n",
    "data['label'] = data['complications'] > 1.2 * data['mean_complications']\n",
    "data = data[['smoker', 'last_name', 'county', 'num_children', 'race', 'income', 'label']]\n",
    "data = data[data['county'].isin(COUNTIES_OF_INTEREST)]\n",
    "train_data, test_data = train_test_split(data)\n",
    "y_train = train_data[\"label\"]\n",
    "y_test = test_data[\"label\"]\n",
    "X_train = train_data.drop(\"label\", axis=1)\n",
    "X_test = test_data.drop(\"label\", axis=1)\n",
    "\n",
    "impute_and_one_hot_encode = Pipeline([\n",
    "    ('impute', SimpleImputer(strategy='most_frequent')),\n",
    "    ('encode', OneHotEncoder(sparse=False, handle_unknown='ignore'))\n",
    "])\n",
    "featurisation = ColumnTransformer(transformers=[\n",
    "    (\"impute_and_one_hot_encode\", impute_and_one_hot_encode, ['smoker', 'county', 'race']),\n",
    "    ('numeric', StandardScaler(), ['num_children', 'income']),\n",
    "], remainder='drop')\n",
    "\n",
    "X_t_train: MlinspectNdarray = featurisation.fit_transform(train_data, y_train)\n",
    "print(featurisation.get_feature_names_out())\n",
    "X_t_test: MlinspectNdarray = featurisation.fit_transform(X_test, y_test)"
   ],
   "metadata": {
    "collapsed": false,
    "ExecuteTime": {
     "end_time": "2024-02-16T21:56:01.521258Z",
     "start_time": "2024-02-16T21:56:00.203375Z"
    }
   }
  },
  {
   "cell_type": "code",
   "execution_count": 2,
   "outputs": [
    {
     "data": {
      "text/plain": "array([[ 1.        ,  0.        ,  1.        , ...,  0.        ,\n         0.35891084, -0.71384592],\n       [ 1.        ,  0.        ,  1.        , ...,  0.        ,\n        -1.42468427, -1.1530951 ],\n       [ 0.        ,  1.        ,  1.        , ...,  1.        ,\n        -0.83015256, -0.06368519],\n       ...,\n       [ 1.        ,  0.        ,  1.        , ...,  0.        ,\n         0.95344255,  0.18366568],\n       [ 1.        ,  0.        ,  0.        , ...,  0.        ,\n         1.54797425, -0.87925793],\n       [ 0.        ,  1.        ,  1.        , ...,  0.        ,\n        -0.83015256,  0.65869945]])"
     },
     "execution_count": 2,
     "metadata": {},
     "output_type": "execute_result"
    }
   ],
   "source": [
    "import numpy as np\n",
    "\n",
    "X_t_train.view(np.ndarray)"
   ],
   "metadata": {
    "collapsed": false,
    "ExecuteTime": {
     "end_time": "2024-02-16T21:56:01.530058Z",
     "start_time": "2024-02-16T21:56:01.523932Z"
    }
   }
  },
  {
   "cell_type": "code",
   "execution_count": 3,
   "outputs": [
    {
     "data": {
      "text/plain": "     impute_and_one_hot_encode__smoker_False  \\\n0                                        1.0   \n1                                        1.0   \n2                                        0.0   \n3                                        0.0   \n4                                        1.0   \n..                                       ...   \n212                                      1.0   \n213                                      0.0   \n214                                      1.0   \n215                                      1.0   \n216                                      0.0   \n\n     impute_and_one_hot_encode__smoker_True  \\\n0                                       0.0   \n1                                       0.0   \n2                                       1.0   \n3                                       1.0   \n4                                       0.0   \n..                                      ...   \n212                                     0.0   \n213                                     1.0   \n214                                     0.0   \n215                                     0.0   \n216                                     1.0   \n\n     impute_and_one_hot_encode__county_county2  \\\n0                                          1.0   \n1                                          1.0   \n2                                          1.0   \n3                                          1.0   \n4                                          0.0   \n..                                         ...   \n212                                        1.0   \n213                                        0.0   \n214                                        1.0   \n215                                        0.0   \n216                                        1.0   \n\n     impute_and_one_hot_encode__county_county3  \\\n0                                          0.0   \n1                                          0.0   \n2                                          0.0   \n3                                          0.0   \n4                                          1.0   \n..                                         ...   \n212                                        0.0   \n213                                        1.0   \n214                                        0.0   \n215                                        1.0   \n216                                        0.0   \n\n     impute_and_one_hot_encode__race_race1  \\\n0                                      1.0   \n1                                      1.0   \n2                                      0.0   \n3                                      1.0   \n4                                      1.0   \n..                                     ...   \n212                                    1.0   \n213                                    1.0   \n214                                    1.0   \n215                                    1.0   \n216                                    1.0   \n\n     impute_and_one_hot_encode__race_race2  \\\n0                                      0.0   \n1                                      0.0   \n2                                      0.0   \n3                                      0.0   \n4                                      0.0   \n..                                     ...   \n212                                    0.0   \n213                                    0.0   \n214                                    0.0   \n215                                    0.0   \n216                                    0.0   \n\n     impute_and_one_hot_encode__race_race3  numeric__num_children  \\\n0                                      0.0               0.358911   \n1                                      0.0              -1.424684   \n2                                      1.0              -0.830153   \n3                                      0.0               1.547974   \n4                                      0.0               1.547974   \n..                                     ...                    ...   \n212                                    0.0               1.547974   \n213                                    0.0               0.953443   \n214                                    0.0               0.953443   \n215                                    0.0               1.547974   \n216                                    0.0              -0.830153   \n\n     numeric__income  \n0          -0.713846  \n1          -1.153095  \n2          -0.063685  \n3           0.285537  \n4          -1.094508  \n..               ...  \n212        -1.346620  \n213        -0.106513  \n214         0.183666  \n215        -0.879258  \n216         0.658699  \n\n[217 rows x 9 columns]",
      "text/html": "<div>\n<style scoped>\n    .dataframe tbody tr th:only-of-type {\n        vertical-align: middle;\n    }\n\n    .dataframe tbody tr th {\n        vertical-align: top;\n    }\n\n    .dataframe thead th {\n        text-align: right;\n    }\n</style>\n<table border=\"1\" class=\"dataframe\">\n  <thead>\n    <tr style=\"text-align: right;\">\n      <th></th>\n      <th>impute_and_one_hot_encode__smoker_False</th>\n      <th>impute_and_one_hot_encode__smoker_True</th>\n      <th>impute_and_one_hot_encode__county_county2</th>\n      <th>impute_and_one_hot_encode__county_county3</th>\n      <th>impute_and_one_hot_encode__race_race1</th>\n      <th>impute_and_one_hot_encode__race_race2</th>\n      <th>impute_and_one_hot_encode__race_race3</th>\n      <th>numeric__num_children</th>\n      <th>numeric__income</th>\n    </tr>\n  </thead>\n  <tbody>\n    <tr>\n      <th>0</th>\n      <td>1.0</td>\n      <td>0.0</td>\n      <td>1.0</td>\n      <td>0.0</td>\n      <td>1.0</td>\n      <td>0.0</td>\n      <td>0.0</td>\n      <td>0.358911</td>\n      <td>-0.713846</td>\n    </tr>\n    <tr>\n      <th>1</th>\n      <td>1.0</td>\n      <td>0.0</td>\n      <td>1.0</td>\n      <td>0.0</td>\n      <td>1.0</td>\n      <td>0.0</td>\n      <td>0.0</td>\n      <td>-1.424684</td>\n      <td>-1.153095</td>\n    </tr>\n    <tr>\n      <th>2</th>\n      <td>0.0</td>\n      <td>1.0</td>\n      <td>1.0</td>\n      <td>0.0</td>\n      <td>0.0</td>\n      <td>0.0</td>\n      <td>1.0</td>\n      <td>-0.830153</td>\n      <td>-0.063685</td>\n    </tr>\n    <tr>\n      <th>3</th>\n      <td>0.0</td>\n      <td>1.0</td>\n      <td>1.0</td>\n      <td>0.0</td>\n      <td>1.0</td>\n      <td>0.0</td>\n      <td>0.0</td>\n      <td>1.547974</td>\n      <td>0.285537</td>\n    </tr>\n    <tr>\n      <th>4</th>\n      <td>1.0</td>\n      <td>0.0</td>\n      <td>0.0</td>\n      <td>1.0</td>\n      <td>1.0</td>\n      <td>0.0</td>\n      <td>0.0</td>\n      <td>1.547974</td>\n      <td>-1.094508</td>\n    </tr>\n    <tr>\n      <th>...</th>\n      <td>...</td>\n      <td>...</td>\n      <td>...</td>\n      <td>...</td>\n      <td>...</td>\n      <td>...</td>\n      <td>...</td>\n      <td>...</td>\n      <td>...</td>\n    </tr>\n    <tr>\n      <th>212</th>\n      <td>1.0</td>\n      <td>0.0</td>\n      <td>1.0</td>\n      <td>0.0</td>\n      <td>1.0</td>\n      <td>0.0</td>\n      <td>0.0</td>\n      <td>1.547974</td>\n      <td>-1.346620</td>\n    </tr>\n    <tr>\n      <th>213</th>\n      <td>0.0</td>\n      <td>1.0</td>\n      <td>0.0</td>\n      <td>1.0</td>\n      <td>1.0</td>\n      <td>0.0</td>\n      <td>0.0</td>\n      <td>0.953443</td>\n      <td>-0.106513</td>\n    </tr>\n    <tr>\n      <th>214</th>\n      <td>1.0</td>\n      <td>0.0</td>\n      <td>1.0</td>\n      <td>0.0</td>\n      <td>1.0</td>\n      <td>0.0</td>\n      <td>0.0</td>\n      <td>0.953443</td>\n      <td>0.183666</td>\n    </tr>\n    <tr>\n      <th>215</th>\n      <td>1.0</td>\n      <td>0.0</td>\n      <td>0.0</td>\n      <td>1.0</td>\n      <td>1.0</td>\n      <td>0.0</td>\n      <td>0.0</td>\n      <td>1.547974</td>\n      <td>-0.879258</td>\n    </tr>\n    <tr>\n      <th>216</th>\n      <td>0.0</td>\n      <td>1.0</td>\n      <td>1.0</td>\n      <td>0.0</td>\n      <td>1.0</td>\n      <td>0.0</td>\n      <td>0.0</td>\n      <td>-0.830153</td>\n      <td>0.658699</td>\n    </tr>\n  </tbody>\n</table>\n<p>217 rows × 9 columns</p>\n</div>"
     },
     "execution_count": 3,
     "metadata": {},
     "output_type": "execute_result"
    }
   ],
   "source": [
    "pd.DataFrame(data=X_t_train.view(np.ndarray), columns=featurisation.get_feature_names_out())"
   ],
   "metadata": {
    "collapsed": false,
    "ExecuteTime": {
     "end_time": "2024-02-16T21:56:01.570740Z",
     "start_time": "2024-02-16T21:56:01.534937Z"
    }
   }
  },
  {
   "cell_type": "code",
   "execution_count": 4,
   "outputs": [
    {
     "name": "stdout",
     "output_type": "stream",
     "text": [
      "(True,)\n"
     ]
    }
   ],
   "source": [
    "df = pd.DataFrame([X_t_test[0]], index=[y_test])\n",
    "print(df.index[0])"
   ],
   "metadata": {
    "collapsed": false,
    "ExecuteTime": {
     "end_time": "2024-02-16T21:56:01.576541Z",
     "start_time": "2024-02-16T21:56:01.543863Z"
    }
   }
  },
  {
   "cell_type": "code",
   "execution_count": 5,
   "outputs": [
    {
     "data": {
      "text/plain": "(217, 9)"
     },
     "execution_count": 5,
     "metadata": {},
     "output_type": "execute_result"
    }
   ],
   "source": [
    "X_t_train.shape"
   ],
   "metadata": {
    "collapsed": false,
    "ExecuteTime": {
     "end_time": "2024-02-16T21:56:01.576789Z",
     "start_time": "2024-02-16T21:56:01.549058Z"
    }
   }
  },
  {
   "cell_type": "code",
   "execution_count": 6,
   "outputs": [
    {
     "data": {
      "text/plain": "array([[ 1.        ,  0.        ,  1.        ,  0.        ,  1.        ,\n         0.        ,  0.        ,  0.35891084, -0.71384592],\n       [ 1.        ,  0.        ,  1.        ,  0.        ,  1.        ,\n         0.        ,  0.        , -1.42468427, -1.1530951 ]])"
     },
     "execution_count": 6,
     "metadata": {},
     "output_type": "execute_result"
    }
   ],
   "source": [
    "X_t_train[0:2]"
   ],
   "metadata": {
    "collapsed": false,
    "ExecuteTime": {
     "end_time": "2024-02-16T21:56:01.576896Z",
     "start_time": "2024-02-16T21:56:01.553509Z"
    }
   }
  },
  {
   "cell_type": "code",
   "execution_count": 7,
   "outputs": [
    {
     "data": {
      "text/plain": "515    False\n539    False\n526     True\n338     True\n542    False\n       ...  \n425    False\n549     True\n829    False\n396    False\n9       True\nName: label, Length: 217, dtype: bool"
     },
     "execution_count": 7,
     "metadata": {},
     "output_type": "execute_result"
    }
   ],
   "source": [
    "y_train"
   ],
   "metadata": {
    "collapsed": false,
    "ExecuteTime": {
     "end_time": "2024-02-16T21:56:01.577026Z",
     "start_time": "2024-02-16T21:56:01.556812Z"
    }
   }
  },
  {
   "cell_type": "code",
   "execution_count": null,
   "outputs": [],
   "source": [
    "df = pd.DataFrame(data=X_t_train.view(np.ndarray), columns=featurisation.get_feature_names_out())\n",
    "df.dtypes"
   ],
   "metadata": {
    "collapsed": false
   }
  },
  {
   "cell_type": "code",
   "execution_count": 9,
   "outputs": [
    {
     "ename": "KeyboardInterrupt",
     "evalue": "",
     "output_type": "error",
     "traceback": [
      "\u001B[0;31m---------------------------------------------------------------------------\u001B[0m",
      "\u001B[0;31mKeyboardInterrupt\u001B[0m                         Traceback (most recent call last)",
      "Cell \u001B[0;32mIn[9], line 11\u001B[0m\n\u001B[1;32m      7\u001B[0m \u001B[38;5;28;01mfrom\u001B[39;00m \u001B[38;5;21;01mmlinspect\u001B[39;00m \u001B[38;5;28;01mimport\u001B[39;00m PipelineInspector\n\u001B[1;32m      9\u001B[0m EXAMPLE_PIPELINE \u001B[38;5;241m=\u001B[39m os\u001B[38;5;241m.\u001B[39mpath\u001B[38;5;241m.\u001B[39mjoin(\u001B[38;5;28mstr\u001B[39m(get_project_root()), \u001B[38;5;124m\"\u001B[39m\u001B[38;5;124mfeatures\u001B[39m\u001B[38;5;124m\"\u001B[39m, \u001B[38;5;124m\"\u001B[39m\u001B[38;5;124mexplainability\u001B[39m\u001B[38;5;124m\"\u001B[39m, \u001B[38;5;124m\"\u001B[39m\u001B[38;5;124mpipeline_with_inspection.py\u001B[39m\u001B[38;5;124m\"\u001B[39m)\n\u001B[0;32m---> 11\u001B[0m inspector_result \u001B[38;5;241m=\u001B[39m \u001B[43mPipelineInspector\u001B[49m\u001B[43m\\\u001B[49m\n\u001B[1;32m     12\u001B[0m \u001B[43m    \u001B[49m\u001B[38;5;241;43m.\u001B[39;49m\u001B[43mon_pipeline_from_py_file\u001B[49m\u001B[43m(\u001B[49m\u001B[43mEXAMPLE_PIPELINE\u001B[49m\u001B[43m)\u001B[49m\u001B[43m \u001B[49m\u001B[43m\\\u001B[49m\n\u001B[1;32m     13\u001B[0m \u001B[43m    \u001B[49m\u001B[38;5;241;43m.\u001B[39;49m\u001B[43madd_required_inspection\u001B[49m\u001B[43m(\u001B[49m\u001B[43mExplainer\u001B[49m\u001B[43m(\u001B[49m\u001B[43m[\u001B[49m\u001B[43mExplainabilityMethodsEnum\u001B[49m\u001B[38;5;241;43m.\u001B[39;49m\u001B[43mSHAP\u001B[49m\u001B[43m,\u001B[49m\u001B[43m \u001B[49m\u001B[43mExplainabilityMethodsEnum\u001B[49m\u001B[38;5;241;43m.\u001B[39;49m\u001B[43mLIME\u001B[49m\u001B[43m,\u001B[49m\u001B[43m \u001B[49m\u001B[43mExplainabilityMethodsEnum\u001B[49m\u001B[38;5;241;43m.\u001B[39;49m\u001B[43mPDP\u001B[49m\u001B[43m,\u001B[49m\u001B[43m \u001B[49m\u001B[43mExplainabilityMethodsEnum\u001B[49m\u001B[38;5;241;43m.\u001B[39;49m\u001B[43mICE\u001B[49m\u001B[43m,\u001B[49m\u001B[43m \u001B[49m\u001B[43mExplainabilityMethodsEnum\u001B[49m\u001B[38;5;241;43m.\u001B[39;49m\u001B[43mINTEGRATED_GRADIENTS\u001B[49m\u001B[43m,\u001B[49m\u001B[43m \u001B[49m\u001B[43mExplainabilityMethodsEnum\u001B[49m\u001B[38;5;241;43m.\u001B[39;49m\u001B[43mALE\u001B[49m\u001B[43m,\u001B[49m\u001B[43m \u001B[49m\u001B[43mExplainabilityMethodsEnum\u001B[49m\u001B[38;5;241;43m.\u001B[39;49m\u001B[43mDALE\u001B[49m\u001B[43m,\u001B[49m\u001B[43m \u001B[49m\u001B[43mExplainabilityMethodsEnum\u001B[49m\u001B[38;5;241;43m.\u001B[39;49m\u001B[43mDALEX\u001B[49m\u001B[43m]\u001B[49m\u001B[43m,\u001B[49m\u001B[43m \u001B[49m\u001B[43mX_t_train\u001B[49m\u001B[38;5;241;43m.\u001B[39;49m\u001B[43mview\u001B[49m\u001B[43m(\u001B[49m\u001B[43mnp\u001B[49m\u001B[38;5;241;43m.\u001B[39;49m\u001B[43mndarray\u001B[49m\u001B[43m)\u001B[49m\u001B[43m,\u001B[49m\u001B[43m \u001B[49m\u001B[43mX_t_test\u001B[49m\u001B[38;5;241;43m.\u001B[39;49m\u001B[43mview\u001B[49m\u001B[43m(\u001B[49m\u001B[43mnp\u001B[49m\u001B[38;5;241;43m.\u001B[39;49m\u001B[43mndarray\u001B[49m\u001B[43m)\u001B[49m\u001B[43m,\u001B[49m\u001B[43m \u001B[49m\u001B[43mfeaturisation\u001B[49m\u001B[38;5;241;43m.\u001B[39;49m\u001B[43mget_feature_names_out\u001B[49m\u001B[43m(\u001B[49m\u001B[43m)\u001B[49m\u001B[43m,\u001B[49m\u001B[43m \u001B[49m\u001B[43my_test\u001B[49m\u001B[43m,\u001B[49m\u001B[43m \u001B[49m\u001B[43my_train\u001B[49m\u001B[43m)\u001B[49m\u001B[43m)\u001B[49m\u001B[43m \u001B[49m\u001B[43m\\\u001B[49m\n\u001B[1;32m     14\u001B[0m \u001B[43m    \u001B[49m\u001B[38;5;241;43m.\u001B[39;49m\u001B[43mexecute\u001B[49m\u001B[43m(\u001B[49m\u001B[43m)\u001B[49m\n\u001B[1;32m     16\u001B[0m extracted_dag \u001B[38;5;241m=\u001B[39m inspector_result\u001B[38;5;241m.\u001B[39mdag\n\u001B[1;32m     17\u001B[0m dag_node_to_inspection_results \u001B[38;5;241m=\u001B[39m inspector_result\u001B[38;5;241m.\u001B[39mdag_node_to_inspection_results\n",
      "File \u001B[0;32m/project/mlinspect/_pipeline_inspector.py:84\u001B[0m, in \u001B[0;36mPipelineInspectorBuilder.execute\u001B[0;34m(self)\u001B[0m\n\u001B[1;32m     80\u001B[0m \u001B[38;5;28;01mdef\u001B[39;00m \u001B[38;5;21mexecute\u001B[39m(\u001B[38;5;28mself\u001B[39m) \u001B[38;5;241m-\u001B[39m\u001B[38;5;241m>\u001B[39m InspectorResult:\n\u001B[1;32m     81\u001B[0m \u001B[38;5;250m    \u001B[39m\u001B[38;5;124;03m\"\"\"\u001B[39;00m\n\u001B[1;32m     82\u001B[0m \u001B[38;5;124;03m    Instrument and execute the pipeline\u001B[39;00m\n\u001B[1;32m     83\u001B[0m \u001B[38;5;124;03m    \"\"\"\u001B[39;00m\n\u001B[0;32m---> 84\u001B[0m     \u001B[38;5;28;01mreturn\u001B[39;00m \u001B[43msingleton\u001B[49m\u001B[38;5;241;43m.\u001B[39;49m\u001B[43mrun\u001B[49m\u001B[43m(\u001B[49m\u001B[43mnotebook_path\u001B[49m\u001B[38;5;241;43m=\u001B[39;49m\u001B[38;5;28;43mself\u001B[39;49m\u001B[38;5;241;43m.\u001B[39;49m\u001B[43mnotebook_path\u001B[49m\u001B[43m,\u001B[49m\n\u001B[1;32m     85\u001B[0m \u001B[43m                         \u001B[49m\u001B[43mpython_path\u001B[49m\u001B[38;5;241;43m=\u001B[39;49m\u001B[38;5;28;43mself\u001B[39;49m\u001B[38;5;241;43m.\u001B[39;49m\u001B[43mpython_path\u001B[49m\u001B[43m,\u001B[49m\n\u001B[1;32m     86\u001B[0m \u001B[43m                         \u001B[49m\u001B[43mpython_code\u001B[49m\u001B[38;5;241;43m=\u001B[39;49m\u001B[38;5;28;43mself\u001B[39;49m\u001B[38;5;241;43m.\u001B[39;49m\u001B[43mpython_code\u001B[49m\u001B[43m,\u001B[49m\n\u001B[1;32m     87\u001B[0m \u001B[43m                         \u001B[49m\u001B[43minspections\u001B[49m\u001B[38;5;241;43m=\u001B[39;49m\u001B[38;5;28;43mself\u001B[39;49m\u001B[38;5;241;43m.\u001B[39;49m\u001B[43minspections\u001B[49m\u001B[43m,\u001B[49m\n\u001B[1;32m     88\u001B[0m \u001B[43m                         \u001B[49m\u001B[43mchecks\u001B[49m\u001B[38;5;241;43m=\u001B[39;49m\u001B[38;5;28;43mself\u001B[39;49m\u001B[38;5;241;43m.\u001B[39;49m\u001B[43mchecks\u001B[49m\u001B[43m,\u001B[49m\n\u001B[1;32m     89\u001B[0m \u001B[43m                         \u001B[49m\u001B[43mcustom_monkey_patching\u001B[49m\u001B[38;5;241;43m=\u001B[39;49m\u001B[38;5;28;43mself\u001B[39;49m\u001B[38;5;241;43m.\u001B[39;49m\u001B[43mmonkey_patching_modules\u001B[49m\u001B[43m)\u001B[49m\n",
      "File \u001B[0;32m/project/mlinspect/instrumentation/_pipeline_executor.py:76\u001B[0m, in \u001B[0;36mPipelineExecutor.run\u001B[0;34m(self, notebook_path, python_path, python_code, inspections, checks, reset_state, track_code_references, custom_monkey_patching)\u001B[0m\n\u001B[1;32m     73\u001B[0m \u001B[38;5;28mself\u001B[39m\u001B[38;5;241m.\u001B[39mtrack_code_references \u001B[38;5;241m=\u001B[39m track_code_references\n\u001B[1;32m     74\u001B[0m \u001B[38;5;28mself\u001B[39m\u001B[38;5;241m.\u001B[39mcustom_monkey_patching \u001B[38;5;241m=\u001B[39m custom_monkey_patching\n\u001B[0;32m---> 76\u001B[0m \u001B[38;5;28;43mself\u001B[39;49m\u001B[38;5;241;43m.\u001B[39;49m\u001B[43mrun_inspections\u001B[49m\u001B[43m(\u001B[49m\u001B[43mnotebook_path\u001B[49m\u001B[43m,\u001B[49m\u001B[43m \u001B[49m\u001B[43mpython_code\u001B[49m\u001B[43m,\u001B[49m\u001B[43m \u001B[49m\u001B[43mpython_path\u001B[49m\u001B[43m)\u001B[49m\n\u001B[1;32m     77\u001B[0m check_to_results \u001B[38;5;241m=\u001B[39m \u001B[38;5;28mdict\u001B[39m((check, check\u001B[38;5;241m.\u001B[39mevaluate(\u001B[38;5;28mself\u001B[39m\u001B[38;5;241m.\u001B[39minspection_results)) \u001B[38;5;28;01mfor\u001B[39;00m check \u001B[38;5;129;01min\u001B[39;00m checks)\n\u001B[1;32m     78\u001B[0m \u001B[38;5;28;01mreturn\u001B[39;00m InspectorResult(\u001B[38;5;28mself\u001B[39m\u001B[38;5;241m.\u001B[39minspection_results\u001B[38;5;241m.\u001B[39mdag, \u001B[38;5;28mself\u001B[39m\u001B[38;5;241m.\u001B[39minspection_results\u001B[38;5;241m.\u001B[39mdag_node_to_inspection_results,\n\u001B[1;32m     79\u001B[0m                        check_to_results)\n",
      "File \u001B[0;32m/project/mlinspect/instrumentation/_pipeline_executor.py:89\u001B[0m, in \u001B[0;36mPipelineExecutor.run_inspections\u001B[0;34m(self, notebook_path, python_code, python_path)\u001B[0m\n\u001B[1;32m     87\u001B[0m parsed_ast \u001B[38;5;241m=\u001B[39m ast\u001B[38;5;241m.\u001B[39mparse(\u001B[38;5;28mself\u001B[39m\u001B[38;5;241m.\u001B[39msource_code)\n\u001B[1;32m     88\u001B[0m parsed_modified_ast \u001B[38;5;241m=\u001B[39m \u001B[38;5;28mself\u001B[39m\u001B[38;5;241m.\u001B[39minstrument_pipeline(parsed_ast, \u001B[38;5;28mself\u001B[39m\u001B[38;5;241m.\u001B[39mtrack_code_references)\n\u001B[0;32m---> 89\u001B[0m \u001B[43mexec\u001B[49m\u001B[43m(\u001B[49m\u001B[38;5;28;43mcompile\u001B[39;49m\u001B[43m(\u001B[49m\u001B[43mparsed_modified_ast\u001B[49m\u001B[43m,\u001B[49m\u001B[43m \u001B[49m\u001B[43mfilename\u001B[49m\u001B[38;5;241;43m=\u001B[39;49m\u001B[38;5;28;43mself\u001B[39;49m\u001B[38;5;241;43m.\u001B[39;49m\u001B[43msource_code_path\u001B[49m\u001B[43m,\u001B[49m\u001B[43m \u001B[49m\u001B[43mmode\u001B[49m\u001B[38;5;241;43m=\u001B[39;49m\u001B[38;5;124;43m\"\u001B[39;49m\u001B[38;5;124;43mexec\u001B[39;49m\u001B[38;5;124;43m\"\u001B[39;49m\u001B[43m)\u001B[49m\u001B[43m,\u001B[49m\u001B[43m \u001B[49m\u001B[43mPipelineExecutor\u001B[49m\u001B[38;5;241;43m.\u001B[39;49m\u001B[43mscript_scope\u001B[49m\u001B[43m)\u001B[49m\n",
      "File \u001B[0;32m/project/features/explainability/pipeline_with_inspection.py:52\u001B[0m\n\u001B[1;32m     50\u001B[0m X_t_train: MlinspectNdarray \u001B[38;5;241m=\u001B[39m featurisation\u001B[38;5;241m.\u001B[39mfit_transform(train_data, y_train)\n\u001B[1;32m     51\u001B[0m X_t_test: MlinspectNdarray \u001B[38;5;241m=\u001B[39m featurisation\u001B[38;5;241m.\u001B[39mfit_transform(X_test, y_test)\n\u001B[0;32m---> 52\u001B[0m neural_net\u001B[38;5;241m.\u001B[39mfit(X_t_train, y_train)\n\u001B[1;32m     53\u001B[0m \u001B[38;5;28mprint\u001B[39m(\u001B[38;5;124m\"\u001B[39m\u001B[38;5;124mMean accuracy: \u001B[39m\u001B[38;5;132;01m{}\u001B[39;00m\u001B[38;5;124m\"\u001B[39m\u001B[38;5;241m.\u001B[39mformat(neural_net\u001B[38;5;241m.\u001B[39mscore(X_t_test, y_test)))\n",
      "File \u001B[0;32m/project/mlinspect/monkeypatching/_patch_sklearn.py:1382\u001B[0m, in \u001B[0;36mSklearnKerasClassifierPatching.patched_fit\u001B[0;34m(self, *args, **kwargs)\u001B[0m\n\u001B[1;32m   1380\u001B[0m input_dfs \u001B[38;5;241m=\u001B[39m [data_backend_result\u001B[38;5;241m.\u001B[39mannotated_dfobject, label_backend_result\u001B[38;5;241m.\u001B[39mannotated_dfobject]\n\u001B[1;32m   1381\u001B[0m input_infos \u001B[38;5;241m=\u001B[39m SklearnBackend\u001B[38;5;241m.\u001B[39mbefore_call(operator_context, input_dfs)\n\u001B[0;32m-> 1382\u001B[0m result \u001B[38;5;241m=\u001B[39m \u001B[43moriginal\u001B[49m\u001B[43m(\u001B[49m\u001B[38;5;28;43mself\u001B[39;49m\u001B[43m,\u001B[49m\u001B[43m \u001B[49m\u001B[43mtrain_data_result\u001B[49m\u001B[43m,\u001B[49m\u001B[43m \u001B[49m\u001B[43mtrain_labels_result\u001B[49m\u001B[43m,\u001B[49m\u001B[43m \u001B[49m\u001B[38;5;241;43m*\u001B[39;49m\u001B[43margs\u001B[49m\u001B[43m[\u001B[49m\u001B[38;5;241;43m2\u001B[39;49m\u001B[43m:\u001B[49m\u001B[43m]\u001B[49m\u001B[43m,\u001B[49m\u001B[43m \u001B[49m\u001B[38;5;241;43m*\u001B[39;49m\u001B[38;5;241;43m*\u001B[39;49m\u001B[43mkwargs\u001B[49m\u001B[43m)\u001B[49m\n\u001B[1;32m   1383\u001B[0m estimator_backend_result \u001B[38;5;241m=\u001B[39m SklearnBackend\u001B[38;5;241m.\u001B[39mafter_call(operator_context,\n\u001B[1;32m   1384\u001B[0m                                                      input_infos,\n\u001B[1;32m   1385\u001B[0m                                                      result,\n\u001B[1;32m   1386\u001B[0m                                                      \u001B[38;5;28mself\u001B[39m\u001B[38;5;241m.\u001B[39mmlinspect_non_data_func_args)\n\u001B[1;32m   1387\u001B[0m \u001B[38;5;28mself\u001B[39m\u001B[38;5;241m.\u001B[39mmlinspect_estimator_node_id \u001B[38;5;241m=\u001B[39m singleton\u001B[38;5;241m.\u001B[39mget_next_op_id()  \u001B[38;5;66;03m# pylint: disable=attribute-defined-outside-init\u001B[39;00m\n",
      "File \u001B[0;32m/opt/venv/lib/python3.9/site-packages/scikeras/wrappers.py:1491\u001B[0m, in \u001B[0;36mKerasClassifier.fit\u001B[0;34m(self, X, y, sample_weight, **kwargs)\u001B[0m\n\u001B[1;32m   1489\u001B[0m     sample_weight \u001B[38;5;241m=\u001B[39m \u001B[38;5;241m1\u001B[39m \u001B[38;5;28;01mif\u001B[39;00m sample_weight \u001B[38;5;129;01mis\u001B[39;00m \u001B[38;5;28;01mNone\u001B[39;00m \u001B[38;5;28;01melse\u001B[39;00m sample_weight\n\u001B[1;32m   1490\u001B[0m     sample_weight \u001B[38;5;241m*\u001B[39m\u001B[38;5;241m=\u001B[39m compute_sample_weight(class_weight\u001B[38;5;241m=\u001B[39m\u001B[38;5;28mself\u001B[39m\u001B[38;5;241m.\u001B[39mclass_weight, y\u001B[38;5;241m=\u001B[39my)\n\u001B[0;32m-> 1491\u001B[0m \u001B[38;5;28;43msuper\u001B[39;49m\u001B[43m(\u001B[49m\u001B[43m)\u001B[49m\u001B[38;5;241;43m.\u001B[39;49m\u001B[43mfit\u001B[49m\u001B[43m(\u001B[49m\u001B[43mX\u001B[49m\u001B[38;5;241;43m=\u001B[39;49m\u001B[43mX\u001B[49m\u001B[43m,\u001B[49m\u001B[43m \u001B[49m\u001B[43my\u001B[49m\u001B[38;5;241;43m=\u001B[39;49m\u001B[43my\u001B[49m\u001B[43m,\u001B[49m\u001B[43m \u001B[49m\u001B[43msample_weight\u001B[49m\u001B[38;5;241;43m=\u001B[39;49m\u001B[43msample_weight\u001B[49m\u001B[43m,\u001B[49m\u001B[43m \u001B[49m\u001B[38;5;241;43m*\u001B[39;49m\u001B[38;5;241;43m*\u001B[39;49m\u001B[43mkwargs\u001B[49m\u001B[43m)\u001B[49m\n\u001B[1;32m   1492\u001B[0m \u001B[38;5;28;01mreturn\u001B[39;00m \u001B[38;5;28mself\u001B[39m\n",
      "File \u001B[0;32m/opt/venv/lib/python3.9/site-packages/scikeras/wrappers.py:760\u001B[0m, in \u001B[0;36mBaseWrapper.fit\u001B[0;34m(self, X, y, sample_weight, **kwargs)\u001B[0m\n\u001B[1;32m    755\u001B[0m kwargs[\u001B[38;5;124m\"\u001B[39m\u001B[38;5;124mepochs\u001B[39m\u001B[38;5;124m\"\u001B[39m] \u001B[38;5;241m=\u001B[39m kwargs\u001B[38;5;241m.\u001B[39mget(\n\u001B[1;32m    756\u001B[0m     \u001B[38;5;124m\"\u001B[39m\u001B[38;5;124mepochs\u001B[39m\u001B[38;5;124m\"\u001B[39m, \u001B[38;5;28mgetattr\u001B[39m(\u001B[38;5;28mself\u001B[39m, \u001B[38;5;124m\"\u001B[39m\u001B[38;5;124mfit__epochs\u001B[39m\u001B[38;5;124m\"\u001B[39m, \u001B[38;5;28mself\u001B[39m\u001B[38;5;241m.\u001B[39mepochs)\n\u001B[1;32m    757\u001B[0m )\n\u001B[1;32m    758\u001B[0m kwargs[\u001B[38;5;124m\"\u001B[39m\u001B[38;5;124minitial_epoch\u001B[39m\u001B[38;5;124m\"\u001B[39m] \u001B[38;5;241m=\u001B[39m kwargs\u001B[38;5;241m.\u001B[39mget(\u001B[38;5;124m\"\u001B[39m\u001B[38;5;124minitial_epoch\u001B[39m\u001B[38;5;124m\"\u001B[39m, \u001B[38;5;241m0\u001B[39m)\n\u001B[0;32m--> 760\u001B[0m \u001B[38;5;28;43mself\u001B[39;49m\u001B[38;5;241;43m.\u001B[39;49m\u001B[43m_fit\u001B[49m\u001B[43m(\u001B[49m\n\u001B[1;32m    761\u001B[0m \u001B[43m    \u001B[49m\u001B[43mX\u001B[49m\u001B[38;5;241;43m=\u001B[39;49m\u001B[43mX\u001B[49m\u001B[43m,\u001B[49m\n\u001B[1;32m    762\u001B[0m \u001B[43m    \u001B[49m\u001B[43my\u001B[49m\u001B[38;5;241;43m=\u001B[39;49m\u001B[43my\u001B[49m\u001B[43m,\u001B[49m\n\u001B[1;32m    763\u001B[0m \u001B[43m    \u001B[49m\u001B[43msample_weight\u001B[49m\u001B[38;5;241;43m=\u001B[39;49m\u001B[43msample_weight\u001B[49m\u001B[43m,\u001B[49m\n\u001B[1;32m    764\u001B[0m \u001B[43m    \u001B[49m\u001B[43mwarm_start\u001B[49m\u001B[38;5;241;43m=\u001B[39;49m\u001B[38;5;28;43mself\u001B[39;49m\u001B[38;5;241;43m.\u001B[39;49m\u001B[43mwarm_start\u001B[49m\u001B[43m,\u001B[49m\n\u001B[1;32m    765\u001B[0m \u001B[43m    \u001B[49m\u001B[38;5;241;43m*\u001B[39;49m\u001B[38;5;241;43m*\u001B[39;49m\u001B[43mkwargs\u001B[49m\u001B[43m,\u001B[49m\n\u001B[1;32m    766\u001B[0m \u001B[43m\u001B[49m\u001B[43m)\u001B[49m\n\u001B[1;32m    768\u001B[0m \u001B[38;5;28;01mreturn\u001B[39;00m \u001B[38;5;28mself\u001B[39m\n",
      "File \u001B[0;32m/opt/venv/lib/python3.9/site-packages/scikeras/wrappers.py:928\u001B[0m, in \u001B[0;36mBaseWrapper._fit\u001B[0;34m(self, X, y, sample_weight, warm_start, epochs, initial_epoch, **kwargs)\u001B[0m\n\u001B[1;32m    924\u001B[0m X \u001B[38;5;241m=\u001B[39m \u001B[38;5;28mself\u001B[39m\u001B[38;5;241m.\u001B[39mfeature_encoder_\u001B[38;5;241m.\u001B[39mtransform(X)\n\u001B[1;32m    926\u001B[0m \u001B[38;5;28mself\u001B[39m\u001B[38;5;241m.\u001B[39m_check_model_compatibility(y)\n\u001B[0;32m--> 928\u001B[0m \u001B[38;5;28;43mself\u001B[39;49m\u001B[38;5;241;43m.\u001B[39;49m\u001B[43m_fit_keras_model\u001B[49m\u001B[43m(\u001B[49m\n\u001B[1;32m    929\u001B[0m \u001B[43m    \u001B[49m\u001B[43mX\u001B[49m\u001B[43m,\u001B[49m\n\u001B[1;32m    930\u001B[0m \u001B[43m    \u001B[49m\u001B[43my\u001B[49m\u001B[43m,\u001B[49m\n\u001B[1;32m    931\u001B[0m \u001B[43m    \u001B[49m\u001B[43msample_weight\u001B[49m\u001B[38;5;241;43m=\u001B[39;49m\u001B[43msample_weight\u001B[49m\u001B[43m,\u001B[49m\n\u001B[1;32m    932\u001B[0m \u001B[43m    \u001B[49m\u001B[43mwarm_start\u001B[49m\u001B[38;5;241;43m=\u001B[39;49m\u001B[43mwarm_start\u001B[49m\u001B[43m,\u001B[49m\n\u001B[1;32m    933\u001B[0m \u001B[43m    \u001B[49m\u001B[43mepochs\u001B[49m\u001B[38;5;241;43m=\u001B[39;49m\u001B[43mepochs\u001B[49m\u001B[43m,\u001B[49m\n\u001B[1;32m    934\u001B[0m \u001B[43m    \u001B[49m\u001B[43minitial_epoch\u001B[49m\u001B[38;5;241;43m=\u001B[39;49m\u001B[43minitial_epoch\u001B[49m\u001B[43m,\u001B[49m\n\u001B[1;32m    935\u001B[0m \u001B[43m    \u001B[49m\u001B[38;5;241;43m*\u001B[39;49m\u001B[38;5;241;43m*\u001B[39;49m\u001B[43mkwargs\u001B[49m\u001B[43m,\u001B[49m\n\u001B[1;32m    936\u001B[0m \u001B[43m\u001B[49m\u001B[43m)\u001B[49m\n",
      "File \u001B[0;32m/opt/venv/lib/python3.9/site-packages/scikeras/wrappers.py:524\u001B[0m, in \u001B[0;36mBaseWrapper._fit_keras_model\u001B[0;34m(self, X, y, sample_weight, warm_start, epochs, initial_epoch, **kwargs)\u001B[0m\n\u001B[1;32m    522\u001B[0m         hist \u001B[38;5;241m=\u001B[39m \u001B[38;5;28mself\u001B[39m\u001B[38;5;241m.\u001B[39mmodel_\u001B[38;5;241m.\u001B[39mfit(x\u001B[38;5;241m=\u001B[39mX, y\u001B[38;5;241m=\u001B[39my, \u001B[38;5;241m*\u001B[39m\u001B[38;5;241m*\u001B[39mfit_args)\n\u001B[1;32m    523\u001B[0m \u001B[38;5;28;01melse\u001B[39;00m:\n\u001B[0;32m--> 524\u001B[0m     hist \u001B[38;5;241m=\u001B[39m \u001B[38;5;28;43mself\u001B[39;49m\u001B[38;5;241;43m.\u001B[39;49m\u001B[43mmodel_\u001B[49m\u001B[38;5;241;43m.\u001B[39;49m\u001B[43mfit\u001B[49m\u001B[43m(\u001B[49m\u001B[43mx\u001B[49m\u001B[38;5;241;43m=\u001B[39;49m\u001B[43mX\u001B[49m\u001B[43m,\u001B[49m\u001B[43m \u001B[49m\u001B[43my\u001B[49m\u001B[38;5;241;43m=\u001B[39;49m\u001B[43my\u001B[49m\u001B[43m,\u001B[49m\u001B[43m \u001B[49m\u001B[38;5;241;43m*\u001B[39;49m\u001B[38;5;241;43m*\u001B[39;49m\u001B[43mfit_args\u001B[49m\u001B[43m)\u001B[49m\n\u001B[1;32m    526\u001B[0m \u001B[38;5;28;01mif\u001B[39;00m \u001B[38;5;129;01mnot\u001B[39;00m warm_start \u001B[38;5;129;01mor\u001B[39;00m \u001B[38;5;129;01mnot\u001B[39;00m \u001B[38;5;28mhasattr\u001B[39m(\u001B[38;5;28mself\u001B[39m, \u001B[38;5;124m\"\u001B[39m\u001B[38;5;124mhistory_\u001B[39m\u001B[38;5;124m\"\u001B[39m) \u001B[38;5;129;01mor\u001B[39;00m initial_epoch \u001B[38;5;241m==\u001B[39m \u001B[38;5;241m0\u001B[39m:\n\u001B[1;32m    527\u001B[0m     \u001B[38;5;28mself\u001B[39m\u001B[38;5;241m.\u001B[39mhistory_ \u001B[38;5;241m=\u001B[39m defaultdict(\u001B[38;5;28mlist\u001B[39m)\n",
      "File \u001B[0;32m/opt/venv/lib/python3.9/site-packages/keras/src/utils/traceback_utils.py:65\u001B[0m, in \u001B[0;36mfilter_traceback.<locals>.error_handler\u001B[0;34m(*args, **kwargs)\u001B[0m\n\u001B[1;32m     63\u001B[0m filtered_tb \u001B[38;5;241m=\u001B[39m \u001B[38;5;28;01mNone\u001B[39;00m\n\u001B[1;32m     64\u001B[0m \u001B[38;5;28;01mtry\u001B[39;00m:\n\u001B[0;32m---> 65\u001B[0m     \u001B[38;5;28;01mreturn\u001B[39;00m \u001B[43mfn\u001B[49m\u001B[43m(\u001B[49m\u001B[38;5;241;43m*\u001B[39;49m\u001B[43margs\u001B[49m\u001B[43m,\u001B[49m\u001B[43m \u001B[49m\u001B[38;5;241;43m*\u001B[39;49m\u001B[38;5;241;43m*\u001B[39;49m\u001B[43mkwargs\u001B[49m\u001B[43m)\u001B[49m\n\u001B[1;32m     66\u001B[0m \u001B[38;5;28;01mexcept\u001B[39;00m \u001B[38;5;167;01mException\u001B[39;00m \u001B[38;5;28;01mas\u001B[39;00m e:\n\u001B[1;32m     67\u001B[0m     filtered_tb \u001B[38;5;241m=\u001B[39m _process_traceback_frames(e\u001B[38;5;241m.\u001B[39m__traceback__)\n",
      "File \u001B[0;32m/opt/venv/lib/python3.9/site-packages/keras/src/engine/training.py:1742\u001B[0m, in \u001B[0;36mModel.fit\u001B[0;34m(self, x, y, batch_size, epochs, verbose, callbacks, validation_split, validation_data, shuffle, class_weight, sample_weight, initial_epoch, steps_per_epoch, validation_steps, validation_batch_size, validation_freq, max_queue_size, workers, use_multiprocessing)\u001B[0m\n\u001B[1;32m   1734\u001B[0m \u001B[38;5;28;01mwith\u001B[39;00m tf\u001B[38;5;241m.\u001B[39mprofiler\u001B[38;5;241m.\u001B[39mexperimental\u001B[38;5;241m.\u001B[39mTrace(\n\u001B[1;32m   1735\u001B[0m     \u001B[38;5;124m\"\u001B[39m\u001B[38;5;124mtrain\u001B[39m\u001B[38;5;124m\"\u001B[39m,\n\u001B[1;32m   1736\u001B[0m     epoch_num\u001B[38;5;241m=\u001B[39mepoch,\n\u001B[0;32m   (...)\u001B[0m\n\u001B[1;32m   1739\u001B[0m     _r\u001B[38;5;241m=\u001B[39m\u001B[38;5;241m1\u001B[39m,\n\u001B[1;32m   1740\u001B[0m ):\n\u001B[1;32m   1741\u001B[0m     callbacks\u001B[38;5;241m.\u001B[39mon_train_batch_begin(step)\n\u001B[0;32m-> 1742\u001B[0m     tmp_logs \u001B[38;5;241m=\u001B[39m \u001B[38;5;28;43mself\u001B[39;49m\u001B[38;5;241;43m.\u001B[39;49m\u001B[43mtrain_function\u001B[49m\u001B[43m(\u001B[49m\u001B[43miterator\u001B[49m\u001B[43m)\u001B[49m\n\u001B[1;32m   1743\u001B[0m     \u001B[38;5;28;01mif\u001B[39;00m data_handler\u001B[38;5;241m.\u001B[39mshould_sync:\n\u001B[1;32m   1744\u001B[0m         context\u001B[38;5;241m.\u001B[39masync_wait()\n",
      "File \u001B[0;32m/opt/venv/lib/python3.9/site-packages/tensorflow/python/util/traceback_utils.py:150\u001B[0m, in \u001B[0;36mfilter_traceback.<locals>.error_handler\u001B[0;34m(*args, **kwargs)\u001B[0m\n\u001B[1;32m    148\u001B[0m filtered_tb \u001B[38;5;241m=\u001B[39m \u001B[38;5;28;01mNone\u001B[39;00m\n\u001B[1;32m    149\u001B[0m \u001B[38;5;28;01mtry\u001B[39;00m:\n\u001B[0;32m--> 150\u001B[0m   \u001B[38;5;28;01mreturn\u001B[39;00m \u001B[43mfn\u001B[49m\u001B[43m(\u001B[49m\u001B[38;5;241;43m*\u001B[39;49m\u001B[43margs\u001B[49m\u001B[43m,\u001B[49m\u001B[43m \u001B[49m\u001B[38;5;241;43m*\u001B[39;49m\u001B[38;5;241;43m*\u001B[39;49m\u001B[43mkwargs\u001B[49m\u001B[43m)\u001B[49m\n\u001B[1;32m    151\u001B[0m \u001B[38;5;28;01mexcept\u001B[39;00m \u001B[38;5;167;01mException\u001B[39;00m \u001B[38;5;28;01mas\u001B[39;00m e:\n\u001B[1;32m    152\u001B[0m   filtered_tb \u001B[38;5;241m=\u001B[39m _process_traceback_frames(e\u001B[38;5;241m.\u001B[39m__traceback__)\n",
      "File \u001B[0;32m/opt/venv/lib/python3.9/site-packages/tensorflow/python/eager/polymorphic_function/polymorphic_function.py:825\u001B[0m, in \u001B[0;36mFunction.__call__\u001B[0;34m(self, *args, **kwds)\u001B[0m\n\u001B[1;32m    822\u001B[0m compiler \u001B[38;5;241m=\u001B[39m \u001B[38;5;124m\"\u001B[39m\u001B[38;5;124mxla\u001B[39m\u001B[38;5;124m\"\u001B[39m \u001B[38;5;28;01mif\u001B[39;00m \u001B[38;5;28mself\u001B[39m\u001B[38;5;241m.\u001B[39m_jit_compile \u001B[38;5;28;01melse\u001B[39;00m \u001B[38;5;124m\"\u001B[39m\u001B[38;5;124mnonXla\u001B[39m\u001B[38;5;124m\"\u001B[39m\n\u001B[1;32m    824\u001B[0m \u001B[38;5;28;01mwith\u001B[39;00m OptionalXlaContext(\u001B[38;5;28mself\u001B[39m\u001B[38;5;241m.\u001B[39m_jit_compile):\n\u001B[0;32m--> 825\u001B[0m   result \u001B[38;5;241m=\u001B[39m \u001B[38;5;28;43mself\u001B[39;49m\u001B[38;5;241;43m.\u001B[39;49m\u001B[43m_call\u001B[49m\u001B[43m(\u001B[49m\u001B[38;5;241;43m*\u001B[39;49m\u001B[43margs\u001B[49m\u001B[43m,\u001B[49m\u001B[43m \u001B[49m\u001B[38;5;241;43m*\u001B[39;49m\u001B[38;5;241;43m*\u001B[39;49m\u001B[43mkwds\u001B[49m\u001B[43m)\u001B[49m\n\u001B[1;32m    827\u001B[0m new_tracing_count \u001B[38;5;241m=\u001B[39m \u001B[38;5;28mself\u001B[39m\u001B[38;5;241m.\u001B[39mexperimental_get_tracing_count()\n\u001B[1;32m    828\u001B[0m without_tracing \u001B[38;5;241m=\u001B[39m (tracing_count \u001B[38;5;241m==\u001B[39m new_tracing_count)\n",
      "File \u001B[0;32m/opt/venv/lib/python3.9/site-packages/tensorflow/python/eager/polymorphic_function/polymorphic_function.py:857\u001B[0m, in \u001B[0;36mFunction._call\u001B[0;34m(self, *args, **kwds)\u001B[0m\n\u001B[1;32m    854\u001B[0m   \u001B[38;5;28mself\u001B[39m\u001B[38;5;241m.\u001B[39m_lock\u001B[38;5;241m.\u001B[39mrelease()\n\u001B[1;32m    855\u001B[0m   \u001B[38;5;66;03m# In this case we have created variables on the first call, so we run the\u001B[39;00m\n\u001B[1;32m    856\u001B[0m   \u001B[38;5;66;03m# defunned version which is guaranteed to never create variables.\u001B[39;00m\n\u001B[0;32m--> 857\u001B[0m   \u001B[38;5;28;01mreturn\u001B[39;00m \u001B[38;5;28;43mself\u001B[39;49m\u001B[38;5;241;43m.\u001B[39;49m\u001B[43m_no_variable_creation_fn\u001B[49m\u001B[43m(\u001B[49m\u001B[38;5;241;43m*\u001B[39;49m\u001B[43margs\u001B[49m\u001B[43m,\u001B[49m\u001B[43m \u001B[49m\u001B[38;5;241;43m*\u001B[39;49m\u001B[38;5;241;43m*\u001B[39;49m\u001B[43mkwds\u001B[49m\u001B[43m)\u001B[49m  \u001B[38;5;66;03m# pylint: disable=not-callable\u001B[39;00m\n\u001B[1;32m    858\u001B[0m \u001B[38;5;28;01melif\u001B[39;00m \u001B[38;5;28mself\u001B[39m\u001B[38;5;241m.\u001B[39m_variable_creation_fn \u001B[38;5;129;01mis\u001B[39;00m \u001B[38;5;129;01mnot\u001B[39;00m \u001B[38;5;28;01mNone\u001B[39;00m:\n\u001B[1;32m    859\u001B[0m   \u001B[38;5;66;03m# Release the lock early so that multiple threads can perform the call\u001B[39;00m\n\u001B[1;32m    860\u001B[0m   \u001B[38;5;66;03m# in parallel.\u001B[39;00m\n\u001B[1;32m    861\u001B[0m   \u001B[38;5;28mself\u001B[39m\u001B[38;5;241m.\u001B[39m_lock\u001B[38;5;241m.\u001B[39mrelease()\n",
      "File \u001B[0;32m/opt/venv/lib/python3.9/site-packages/tensorflow/python/eager/polymorphic_function/tracing_compiler.py:148\u001B[0m, in \u001B[0;36mTracingCompiler.__call__\u001B[0;34m(self, *args, **kwargs)\u001B[0m\n\u001B[1;32m    145\u001B[0m \u001B[38;5;28;01mwith\u001B[39;00m \u001B[38;5;28mself\u001B[39m\u001B[38;5;241m.\u001B[39m_lock:\n\u001B[1;32m    146\u001B[0m   (concrete_function,\n\u001B[1;32m    147\u001B[0m    filtered_flat_args) \u001B[38;5;241m=\u001B[39m \u001B[38;5;28mself\u001B[39m\u001B[38;5;241m.\u001B[39m_maybe_define_function(args, kwargs)\n\u001B[0;32m--> 148\u001B[0m \u001B[38;5;28;01mreturn\u001B[39;00m \u001B[43mconcrete_function\u001B[49m\u001B[38;5;241;43m.\u001B[39;49m\u001B[43m_call_flat\u001B[49m\u001B[43m(\u001B[49m\n\u001B[1;32m    149\u001B[0m \u001B[43m    \u001B[49m\u001B[43mfiltered_flat_args\u001B[49m\u001B[43m,\u001B[49m\u001B[43m \u001B[49m\u001B[43mcaptured_inputs\u001B[49m\u001B[38;5;241;43m=\u001B[39;49m\u001B[43mconcrete_function\u001B[49m\u001B[38;5;241;43m.\u001B[39;49m\u001B[43mcaptured_inputs\u001B[49m\u001B[43m)\u001B[49m\n",
      "File \u001B[0;32m/opt/venv/lib/python3.9/site-packages/tensorflow/python/eager/polymorphic_function/monomorphic_function.py:1349\u001B[0m, in \u001B[0;36mConcreteFunction._call_flat\u001B[0;34m(self, args, captured_inputs)\u001B[0m\n\u001B[1;32m   1345\u001B[0m possible_gradient_type \u001B[38;5;241m=\u001B[39m gradients_util\u001B[38;5;241m.\u001B[39mPossibleTapeGradientTypes(args)\n\u001B[1;32m   1346\u001B[0m \u001B[38;5;28;01mif\u001B[39;00m (possible_gradient_type \u001B[38;5;241m==\u001B[39m gradients_util\u001B[38;5;241m.\u001B[39mPOSSIBLE_GRADIENT_TYPES_NONE\n\u001B[1;32m   1347\u001B[0m     \u001B[38;5;129;01mand\u001B[39;00m executing_eagerly):\n\u001B[1;32m   1348\u001B[0m   \u001B[38;5;66;03m# No tape is watching; skip to running the function.\u001B[39;00m\n\u001B[0;32m-> 1349\u001B[0m   \u001B[38;5;28;01mreturn\u001B[39;00m \u001B[38;5;28mself\u001B[39m\u001B[38;5;241m.\u001B[39m_build_call_outputs(\u001B[38;5;28;43mself\u001B[39;49m\u001B[38;5;241;43m.\u001B[39;49m\u001B[43m_inference_function\u001B[49m\u001B[43m(\u001B[49m\u001B[38;5;241;43m*\u001B[39;49m\u001B[43margs\u001B[49m\u001B[43m)\u001B[49m)\n\u001B[1;32m   1350\u001B[0m forward_backward \u001B[38;5;241m=\u001B[39m \u001B[38;5;28mself\u001B[39m\u001B[38;5;241m.\u001B[39m_select_forward_and_backward_functions(\n\u001B[1;32m   1351\u001B[0m     args,\n\u001B[1;32m   1352\u001B[0m     possible_gradient_type,\n\u001B[1;32m   1353\u001B[0m     executing_eagerly)\n\u001B[1;32m   1354\u001B[0m forward_function, args_with_tangents \u001B[38;5;241m=\u001B[39m forward_backward\u001B[38;5;241m.\u001B[39mforward()\n",
      "File \u001B[0;32m/opt/venv/lib/python3.9/site-packages/tensorflow/python/eager/polymorphic_function/atomic_function.py:196\u001B[0m, in \u001B[0;36mAtomicFunction.__call__\u001B[0;34m(self, *args)\u001B[0m\n\u001B[1;32m    194\u001B[0m \u001B[38;5;28;01mwith\u001B[39;00m record\u001B[38;5;241m.\u001B[39mstop_recording():\n\u001B[1;32m    195\u001B[0m   \u001B[38;5;28;01mif\u001B[39;00m \u001B[38;5;28mself\u001B[39m\u001B[38;5;241m.\u001B[39m_bound_context\u001B[38;5;241m.\u001B[39mexecuting_eagerly():\n\u001B[0;32m--> 196\u001B[0m     outputs \u001B[38;5;241m=\u001B[39m \u001B[38;5;28;43mself\u001B[39;49m\u001B[38;5;241;43m.\u001B[39;49m\u001B[43m_bound_context\u001B[49m\u001B[38;5;241;43m.\u001B[39;49m\u001B[43mcall_function\u001B[49m\u001B[43m(\u001B[49m\n\u001B[1;32m    197\u001B[0m \u001B[43m        \u001B[49m\u001B[38;5;28;43mself\u001B[39;49m\u001B[38;5;241;43m.\u001B[39;49m\u001B[43mname\u001B[49m\u001B[43m,\u001B[49m\n\u001B[1;32m    198\u001B[0m \u001B[43m        \u001B[49m\u001B[38;5;28;43mlist\u001B[39;49m\u001B[43m(\u001B[49m\u001B[43margs\u001B[49m\u001B[43m)\u001B[49m\u001B[43m,\u001B[49m\n\u001B[1;32m    199\u001B[0m \u001B[43m        \u001B[49m\u001B[38;5;28;43mlen\u001B[39;49m\u001B[43m(\u001B[49m\u001B[38;5;28;43mself\u001B[39;49m\u001B[38;5;241;43m.\u001B[39;49m\u001B[43mfunction_type\u001B[49m\u001B[38;5;241;43m.\u001B[39;49m\u001B[43mflat_outputs\u001B[49m\u001B[43m)\u001B[49m\u001B[43m,\u001B[49m\n\u001B[1;32m    200\u001B[0m \u001B[43m    \u001B[49m\u001B[43m)\u001B[49m\n\u001B[1;32m    201\u001B[0m   \u001B[38;5;28;01melse\u001B[39;00m:\n\u001B[1;32m    202\u001B[0m     outputs \u001B[38;5;241m=\u001B[39m make_call_op_in_graph(\u001B[38;5;28mself\u001B[39m, \u001B[38;5;28mlist\u001B[39m(args))\n",
      "File \u001B[0;32m/opt/venv/lib/python3.9/site-packages/tensorflow/python/eager/context.py:1457\u001B[0m, in \u001B[0;36mContext.call_function\u001B[0;34m(self, name, tensor_inputs, num_outputs)\u001B[0m\n\u001B[1;32m   1455\u001B[0m cancellation_context \u001B[38;5;241m=\u001B[39m cancellation\u001B[38;5;241m.\u001B[39mcontext()\n\u001B[1;32m   1456\u001B[0m \u001B[38;5;28;01mif\u001B[39;00m cancellation_context \u001B[38;5;129;01mis\u001B[39;00m \u001B[38;5;28;01mNone\u001B[39;00m:\n\u001B[0;32m-> 1457\u001B[0m   outputs \u001B[38;5;241m=\u001B[39m \u001B[43mexecute\u001B[49m\u001B[38;5;241;43m.\u001B[39;49m\u001B[43mexecute\u001B[49m\u001B[43m(\u001B[49m\n\u001B[1;32m   1458\u001B[0m \u001B[43m      \u001B[49m\u001B[43mname\u001B[49m\u001B[38;5;241;43m.\u001B[39;49m\u001B[43mdecode\u001B[49m\u001B[43m(\u001B[49m\u001B[38;5;124;43m\"\u001B[39;49m\u001B[38;5;124;43mutf-8\u001B[39;49m\u001B[38;5;124;43m\"\u001B[39;49m\u001B[43m)\u001B[49m\u001B[43m,\u001B[49m\n\u001B[1;32m   1459\u001B[0m \u001B[43m      \u001B[49m\u001B[43mnum_outputs\u001B[49m\u001B[38;5;241;43m=\u001B[39;49m\u001B[43mnum_outputs\u001B[49m\u001B[43m,\u001B[49m\n\u001B[1;32m   1460\u001B[0m \u001B[43m      \u001B[49m\u001B[43minputs\u001B[49m\u001B[38;5;241;43m=\u001B[39;49m\u001B[43mtensor_inputs\u001B[49m\u001B[43m,\u001B[49m\n\u001B[1;32m   1461\u001B[0m \u001B[43m      \u001B[49m\u001B[43mattrs\u001B[49m\u001B[38;5;241;43m=\u001B[39;49m\u001B[43mattrs\u001B[49m\u001B[43m,\u001B[49m\n\u001B[1;32m   1462\u001B[0m \u001B[43m      \u001B[49m\u001B[43mctx\u001B[49m\u001B[38;5;241;43m=\u001B[39;49m\u001B[38;5;28;43mself\u001B[39;49m\u001B[43m,\u001B[49m\n\u001B[1;32m   1463\u001B[0m \u001B[43m  \u001B[49m\u001B[43m)\u001B[49m\n\u001B[1;32m   1464\u001B[0m \u001B[38;5;28;01melse\u001B[39;00m:\n\u001B[1;32m   1465\u001B[0m   outputs \u001B[38;5;241m=\u001B[39m execute\u001B[38;5;241m.\u001B[39mexecute_with_cancellation(\n\u001B[1;32m   1466\u001B[0m       name\u001B[38;5;241m.\u001B[39mdecode(\u001B[38;5;124m\"\u001B[39m\u001B[38;5;124mutf-8\u001B[39m\u001B[38;5;124m\"\u001B[39m),\n\u001B[1;32m   1467\u001B[0m       num_outputs\u001B[38;5;241m=\u001B[39mnum_outputs,\n\u001B[0;32m   (...)\u001B[0m\n\u001B[1;32m   1471\u001B[0m       cancellation_manager\u001B[38;5;241m=\u001B[39mcancellation_context,\n\u001B[1;32m   1472\u001B[0m   )\n",
      "File \u001B[0;32m/opt/venv/lib/python3.9/site-packages/tensorflow/python/eager/execute.py:53\u001B[0m, in \u001B[0;36mquick_execute\u001B[0;34m(op_name, num_outputs, inputs, attrs, ctx, name)\u001B[0m\n\u001B[1;32m     51\u001B[0m \u001B[38;5;28;01mtry\u001B[39;00m:\n\u001B[1;32m     52\u001B[0m   ctx\u001B[38;5;241m.\u001B[39mensure_initialized()\n\u001B[0;32m---> 53\u001B[0m   tensors \u001B[38;5;241m=\u001B[39m \u001B[43mpywrap_tfe\u001B[49m\u001B[38;5;241;43m.\u001B[39;49m\u001B[43mTFE_Py_Execute\u001B[49m\u001B[43m(\u001B[49m\u001B[43mctx\u001B[49m\u001B[38;5;241;43m.\u001B[39;49m\u001B[43m_handle\u001B[49m\u001B[43m,\u001B[49m\u001B[43m \u001B[49m\u001B[43mdevice_name\u001B[49m\u001B[43m,\u001B[49m\u001B[43m \u001B[49m\u001B[43mop_name\u001B[49m\u001B[43m,\u001B[49m\n\u001B[1;32m     54\u001B[0m \u001B[43m                                      \u001B[49m\u001B[43minputs\u001B[49m\u001B[43m,\u001B[49m\u001B[43m \u001B[49m\u001B[43mattrs\u001B[49m\u001B[43m,\u001B[49m\u001B[43m \u001B[49m\u001B[43mnum_outputs\u001B[49m\u001B[43m)\u001B[49m\n\u001B[1;32m     55\u001B[0m \u001B[38;5;28;01mexcept\u001B[39;00m core\u001B[38;5;241m.\u001B[39m_NotOkStatusException \u001B[38;5;28;01mas\u001B[39;00m e:\n\u001B[1;32m     56\u001B[0m   \u001B[38;5;28;01mif\u001B[39;00m name \u001B[38;5;129;01mis\u001B[39;00m \u001B[38;5;129;01mnot\u001B[39;00m \u001B[38;5;28;01mNone\u001B[39;00m:\n",
      "\u001B[0;31mKeyboardInterrupt\u001B[0m: "
     ]
    }
   ],
   "source": [
    "from features.explainability.inspections.explainability_methods_enum import ExplainabilityMethodsEnum\n",
    "from features.explainability.inspections.explainer import Explainer\n",
    "import os\n",
    "os.environ['TF_CPP_MIN_LOG_LEVEL'] = '2'  # Some tensorflow warnings in the pipeline we inspect\n",
    "from mlinspect.utils import get_project_root\n",
    "\n",
    "from mlinspect import PipelineInspector\n",
    "\n",
    "EXAMPLE_PIPELINE = os.path.join(str(get_project_root()), \"features\", \"explainability\", \"pipeline_with_inspection.py\")\n",
    "\n",
    "inspector_result = PipelineInspector\\\n",
    "    .on_pipeline_from_py_file(EXAMPLE_PIPELINE) \\\n",
    "    .add_required_inspection(Explainer([ExplainabilityMethodsEnum.SHAP, ExplainabilityMethodsEnum.LIME, ExplainabilityMethodsEnum.PDP, ExplainabilityMethodsEnum.ICE, ExplainabilityMethodsEnum.INTEGRATED_GRADIENTS, ExplainabilityMethodsEnum.ALE, ExplainabilityMethodsEnum.DALE, ExplainabilityMethodsEnum.DALEX], X_t_train.view(np.ndarray), X_t_test.view(np.ndarray), featurisation.get_feature_names_out(), y_test, y_train)) \\\n",
    "    .execute()\n",
    "\n",
    "extracted_dag = inspector_result.dag\n",
    "dag_node_to_inspection_results = inspector_result.dag_node_to_inspection_results\n",
    "check_results = inspector_result.check_to_check_results"
   ],
   "metadata": {
    "collapsed": false,
    "ExecuteTime": {
     "end_time": "2024-01-29T21:47:19.722835Z",
     "start_time": "2024-01-29T21:47:16.125057Z"
    }
   }
  },
  {
   "cell_type": "code",
   "execution_count": null,
   "outputs": [],
   "source": [
    "from features.explainability.inspections.explainability_methods_enum import ExplainabilityMethodsEnum\n",
    "from features.explainability.inspections.explainer import Explainer\n",
    "import os\n",
    "os.environ['TF_CPP_MIN_LOG_LEVEL'] = '2'  # Some tensorflow warnings in the pipeline we inspect\n",
    "from mlinspect.utils import get_project_root\n",
    "\n",
    "from mlinspect import PipelineInspector\n",
    "\n",
    "EXAMPLE_PIPELINE = os.path.join(str(get_project_root()), \"features\", \"explainability\", \"pipeline_with_inspection.py\")\n",
    "\n",
    "inspector_result = PipelineInspector\\\n",
    "    .on_pipeline_from_py_file(EXAMPLE_PIPELINE) \\\n",
    "    .add_required_inspection(Explainer([ExplainabilityMethodsEnum.DALEX], X_t_train.view(np.ndarray), X_t_test.view(np.ndarray), featurisation.get_feature_names_out(), y_test, y_train)) \\\n",
    "    .execute()\n",
    "\n",
    "extracted_dag = inspector_result.dag\n",
    "dag_node_to_inspection_results = inspector_result.dag_node_to_inspection_results\n",
    "check_results = inspector_result.check_to_check_results"
   ],
   "metadata": {
    "collapsed": false
   }
  },
  {
   "cell_type": "code",
   "execution_count": 9,
   "metadata": {
    "ExecuteTime": {
     "end_time": "2024-01-29T19:26:36.767958Z",
     "start_time": "2024-01-29T19:26:36.675809Z"
    }
   },
   "outputs": [
    {
     "name": "stdout",
     "output_type": "stream",
     "text": [
      "\n",
      "\u001B[1mOperatorType.ESTIMATOR (Neural Network)\u001B[0m\n",
      "KerasClassifier(model=create_model_predict, epochs=10, batch_size=1, verbose=0, loss='binary_crossentropy',)\n",
      "CodeReference(lineno=49, col_offset=13, end_lineno=49, end_col_offset=121)\n"
     ]
    },
    {
     "ename": "KeyError",
     "evalue": "Explainer(('SHAP', 'LIME', 'PDP', 'ICE', 'INTEGRATED_GRADIENTS', 'ALE', 'DALE', 'DALEX'))",
     "output_type": "error",
     "traceback": [
      "\u001B[0;31m---------------------------------------------------------------------------\u001B[0m",
      "\u001B[0;31mKeyError\u001B[0m                                  Traceback (most recent call last)",
      "Cell \u001B[0;32mIn[9], line 9\u001B[0m\n\u001B[1;32m      3\u001B[0m relevant_node \u001B[38;5;241m=\u001B[39m [node \u001B[38;5;28;01mfor\u001B[39;00m node \u001B[38;5;129;01min\u001B[39;00m extracted_dag\u001B[38;5;241m.\u001B[39mnodes \u001B[38;5;28;01mif\u001B[39;00m node\u001B[38;5;241m.\u001B[39moperator_info\u001B[38;5;241m.\u001B[39moperator \u001B[38;5;129;01min\u001B[39;00m {OperatorType\u001B[38;5;241m.\u001B[39mESTIMATOR,}][\u001B[38;5;241m0\u001B[39m]\n\u001B[1;32m      4\u001B[0m \u001B[38;5;28mprint\u001B[39m(\u001B[38;5;124m\"\u001B[39m\u001B[38;5;130;01m\\n\u001B[39;00m\u001B[38;5;130;01m\\033\u001B[39;00m\u001B[38;5;124m[1m\u001B[39m\u001B[38;5;132;01m{}\u001B[39;00m\u001B[38;5;124m (\u001B[39m\u001B[38;5;132;01m{}\u001B[39;00m\u001B[38;5;124m)\u001B[39m\u001B[38;5;130;01m\\033\u001B[39;00m\u001B[38;5;124m[0m\u001B[39m\u001B[38;5;130;01m\\n\u001B[39;00m\u001B[38;5;132;01m{}\u001B[39;00m\u001B[38;5;130;01m\\n\u001B[39;00m\u001B[38;5;132;01m{}\u001B[39;00m\u001B[38;5;124m\"\u001B[39m\u001B[38;5;241m.\u001B[39mformat(\n\u001B[1;32m      5\u001B[0m     relevant_node\u001B[38;5;241m.\u001B[39moperator_info\u001B[38;5;241m.\u001B[39moperator,\n\u001B[1;32m      6\u001B[0m     relevant_node\u001B[38;5;241m.\u001B[39mdetails\u001B[38;5;241m.\u001B[39mdescription,\n\u001B[1;32m      7\u001B[0m     relevant_node\u001B[38;5;241m.\u001B[39moptional_code_info\u001B[38;5;241m.\u001B[39msource_code,\n\u001B[1;32m      8\u001B[0m     relevant_node\u001B[38;5;241m.\u001B[39moptional_code_info\u001B[38;5;241m.\u001B[39mcode_reference))\n\u001B[0;32m----> 9\u001B[0m inspection_result \u001B[38;5;241m=\u001B[39m \u001B[43mdag_node_to_inspection_results\u001B[49m\u001B[43m[\u001B[49m\u001B[43mrelevant_node\u001B[49m\u001B[43m]\u001B[49m\u001B[43m[\u001B[49m\u001B[43mExplainer\u001B[49m\u001B[43m(\u001B[49m\u001B[43m[\u001B[49m\u001B[43mExplainabilityMethodsEnum\u001B[49m\u001B[38;5;241;43m.\u001B[39;49m\u001B[43mSHAP\u001B[49m\u001B[43m,\u001B[49m\u001B[43m \u001B[49m\u001B[43mExplainabilityMethodsEnum\u001B[49m\u001B[38;5;241;43m.\u001B[39;49m\u001B[43mLIME\u001B[49m\u001B[43m,\u001B[49m\u001B[43m \u001B[49m\u001B[43mExplainabilityMethodsEnum\u001B[49m\u001B[38;5;241;43m.\u001B[39;49m\u001B[43mPDP\u001B[49m\u001B[43m,\u001B[49m\u001B[43m \u001B[49m\u001B[43mExplainabilityMethodsEnum\u001B[49m\u001B[38;5;241;43m.\u001B[39;49m\u001B[43mICE\u001B[49m\u001B[43m,\u001B[49m\u001B[43m \u001B[49m\u001B[43mExplainabilityMethodsEnum\u001B[49m\u001B[38;5;241;43m.\u001B[39;49m\u001B[43mINTEGRATED_GRADIENTS\u001B[49m\u001B[43m,\u001B[49m\u001B[43m \u001B[49m\u001B[43mExplainabilityMethodsEnum\u001B[49m\u001B[38;5;241;43m.\u001B[39;49m\u001B[43mALE\u001B[49m\u001B[43m,\u001B[49m\u001B[43m \u001B[49m\u001B[43mExplainabilityMethodsEnum\u001B[49m\u001B[38;5;241;43m.\u001B[39;49m\u001B[43mDALE\u001B[49m\u001B[43m,\u001B[49m\u001B[43m \u001B[49m\u001B[43mExplainabilityMethodsEnum\u001B[49m\u001B[38;5;241;43m.\u001B[39;49m\u001B[43mDALEX\u001B[49m\u001B[43m]\u001B[49m\u001B[43m,\u001B[49m\u001B[43m \u001B[49m\u001B[43mX_t_train\u001B[49m\u001B[38;5;241;43m.\u001B[39;49m\u001B[43mview\u001B[49m\u001B[43m(\u001B[49m\u001B[43mnp\u001B[49m\u001B[38;5;241;43m.\u001B[39;49m\u001B[43mndarray\u001B[49m\u001B[43m)\u001B[49m\u001B[43m,\u001B[49m\u001B[43m \u001B[49m\u001B[43mX_t_test\u001B[49m\u001B[38;5;241;43m.\u001B[39;49m\u001B[43mview\u001B[49m\u001B[43m(\u001B[49m\u001B[43mnp\u001B[49m\u001B[38;5;241;43m.\u001B[39;49m\u001B[43mndarray\u001B[49m\u001B[43m)\u001B[49m\u001B[43m,\u001B[49m\u001B[43m \u001B[49m\u001B[43mfeaturisation\u001B[49m\u001B[38;5;241;43m.\u001B[39;49m\u001B[43mget_feature_names_out\u001B[49m\u001B[43m(\u001B[49m\u001B[43m)\u001B[49m\u001B[43m,\u001B[49m\u001B[43my_test\u001B[49m\u001B[43m,\u001B[49m\u001B[43m \u001B[49m\u001B[43my_train\u001B[49m\u001B[43m)\u001B[49m\u001B[43m]\u001B[49m\n\u001B[1;32m     10\u001B[0m \u001B[38;5;28mprint\u001B[39m(inspection_result)\n",
      "\u001B[0;31mKeyError\u001B[0m: Explainer(('SHAP', 'LIME', 'PDP', 'ICE', 'INTEGRATED_GRADIENTS', 'ALE', 'DALE', 'DALEX'))"
     ]
    }
   ],
   "source": [
    "from mlinspect import OperatorType\n",
    "\n",
    "relevant_node = [node for node in extracted_dag.nodes if node.operator_info.operator in {OperatorType.ESTIMATOR,}][0]\n",
    "print(\"\\n\\033[1m{} ({})\\033[0m\\n{}\\n{}\".format(\n",
    "    relevant_node.operator_info.operator,\n",
    "    relevant_node.details.description,\n",
    "    relevant_node.optional_code_info.source_code,\n",
    "    relevant_node.optional_code_info.code_reference))\n",
    "inspection_result = dag_node_to_inspection_results[relevant_node][Explainer([ExplainabilityMethodsEnum.SHAP, ExplainabilityMethodsEnum.LIME, ExplainabilityMethodsEnum.PDP, ExplainabilityMethodsEnum.ICE, ExplainabilityMethodsEnum.INTEGRATED_GRADIENTS, ExplainabilityMethodsEnum.ALE, ExplainabilityMethodsEnum.DALE, ExplainabilityMethodsEnum.DALEX], X_t_train.view(np.ndarray), X_t_test.view(np.ndarray), featurisation.get_feature_names_out(),y_test, y_train)]\n",
    "print(inspection_result)"
   ]
  },
  {
   "cell_type": "code",
   "execution_count": 9,
   "outputs": [
    {
     "name": "stdout",
     "output_type": "stream",
     "text": [
      "\n",
      "\u001B[1mOperatorType.ESTIMATOR (Neural Network)\u001B[0m\n",
      "KerasClassifier(model=create_model_predict, epochs=10, batch_size=1, verbose=0, loss='binary_crossentropy',)\n",
      "CodeReference(lineno=49, col_offset=13, end_lineno=49, end_col_offset=121)\n",
      "{<ExplainabilityMethodsEnum.DALE: 'Differential Accumulated Local Effects'>: {'explainer': <features.explainability.dale.dale.DALE object at 0xffff20e57220>, 'results': (array([[ 0.1216374 , -0.08017011, -0.08017011, ...,  0.1216374 ,\n",
      "        -0.0785939 , -0.08017011],\n",
      "       [-0.08017011,  0.1216374 ,  0.1216374 , ...,  0.1216374 ,\n",
      "         0.02970027,  0.1216374 ],\n",
      "       [-0.08017011,  0.1216374 ,  0.1216374 , ...,  0.1216374 ,\n",
      "         0.02970027,  0.1216374 ],\n",
      "       ...,\n",
      "       [-0.08017011,  0.1216374 , -0.08017011, ...,  0.1216374 ,\n",
      "        -0.0785939 ,  0.07777841],\n",
      "       [ 0.1216374 , -0.08017011, -0.08017011, ..., -0.08017011,\n",
      "        -0.08017011,  0.1216374 ],\n",
      "       [-0.08017011,  0.1216374 ,  0.1216374 , ...,  0.1216374 ,\n",
      "         0.02970027,  0.1216374 ]]), array([[0.00000000e+00, 6.85671850e-05, 6.85671850e-05, ...,\n",
      "        0.00000000e+00, 6.81298571e-05, 6.85671850e-05],\n",
      "       [6.85671850e-05, 0.00000000e+00, 0.00000000e+00, ...,\n",
      "        0.00000000e+00, 3.78607275e-05, 0.00000000e+00],\n",
      "       [6.85671850e-05, 0.00000000e+00, 0.00000000e+00, ...,\n",
      "        0.00000000e+00, 3.78607275e-05, 0.00000000e+00],\n",
      "       ...,\n",
      "       [6.85671850e-05, 0.00000000e+00, 6.85671850e-05, ...,\n",
      "        0.00000000e+00, 6.81298571e-05, 1.82930822e-05],\n",
      "       [0.00000000e+00, 6.85671850e-05, 6.85671850e-05, ...,\n",
      "        6.85671850e-05, 6.85671850e-05, 0.00000000e+00],\n",
      "       [6.85671850e-05, 0.00000000e+00, 0.00000000e+00, ...,\n",
      "        0.00000000e+00, 3.78607275e-05, 0.00000000e+00]]), array([[0.        , 0.00217877, 0.00217877, ..., 0.        , 0.00215953,\n",
      "        0.00217877],\n",
      "       [0.00217877, 0.        , 0.        , ..., 0.        , 0.00112631,\n",
      "        0.        ],\n",
      "       [0.00217877, 0.        , 0.        , ..., 0.        , 0.00112631,\n",
      "        0.        ],\n",
      "       ...,\n",
      "       [0.00217877, 0.        , 0.00217877, ..., 0.        , 0.00215953,\n",
      "        0.00053532],\n",
      "       [0.        , 0.00217877, 0.00217877, ..., 0.00217877, 0.00217877,\n",
      "        0.        ],\n",
      "       [0.00217877, 0.        , 0.        , ..., 0.        , 0.00112631,\n",
      "        0.        ]]))}}\n"
     ]
    }
   ],
   "source": [
    "from mlinspect import OperatorType\n",
    "\n",
    "relevant_node = [node for node in extracted_dag.nodes if node.operator_info.operator in {OperatorType.ESTIMATOR,}][0]\n",
    "print(\"\\n\\033[1m{} ({})\\033[0m\\n{}\\n{}\".format(\n",
    "    relevant_node.operator_info.operator,\n",
    "    relevant_node.details.description,\n",
    "    relevant_node.optional_code_info.source_code,\n",
    "    relevant_node.optional_code_info.code_reference))\n",
    "inspection_result = dag_node_to_inspection_results[relevant_node][Explainer([ExplainabilityMethodsEnum.DALEX,], X_t_train.view(np.ndarray), X_t_test.view(np.ndarray), featurisation.get_feature_names_out(),y_test, y_train)]\n",
    "print(inspection_result)"
   ],
   "metadata": {
    "collapsed": false,
    "ExecuteTime": {
     "end_time": "2024-01-29T20:29:25.012071Z",
     "start_time": "2024-01-29T20:29:25.008093Z"
    }
   }
  },
  {
   "cell_type": "code",
   "execution_count": null,
   "outputs": [],
   "source": [
    "inspection_result[ExplainabilityMethodsEnum.LIME][\"results\"].show_in_notebook()"
   ],
   "metadata": {
    "collapsed": false
   }
  },
  {
   "cell_type": "code",
   "execution_count": null,
   "outputs": [],
   "source": [
    "inspection_result[ExplainabilityMethodsEnum.PDP][\"results\"].plot()"
   ],
   "metadata": {
    "collapsed": false
   }
  },
  {
   "cell_type": "code",
   "execution_count": null,
   "outputs": [],
   "source": [
    "inspection_result[ExplainabilityMethodsEnum.ICE][\"results\"].plot()"
   ],
   "metadata": {
    "collapsed": false
   }
  },
  {
   "cell_type": "code",
   "execution_count": 9,
   "outputs": [
    {
     "data": {
      "text/plain": "[array([[ 0.58602172, -0.        ,  0.        , -0.00244259,  0.06884654,\n          0.        ,  0.        ,  0.07110923, -0.24794298],\n        [ 0.28144685, -0.        ,  0.06489754, -0.        ,  0.        ,\n          0.18989129,  0.        , -0.05386274,  0.1662618 ],\n        [ 0.4392305 , -0.        , -0.        , -0.11221118,  0.        ,\n          0.34177711,  0.        , -0.26132837,  0.2215555 ],\n        [ 0.        , -0.45768301,  0.00913482, -0.        ,  0.15659924,\n          0.        ,  0.        , -0.21276138,  0.26572797],\n        [ 0.63043527, -0.        ,  0.        , -0.00611766,  0.07594116,\n          0.        ,  0.        ,  0.01241132, -0.35129184],\n        [ 0.30324198, -0.        ,  0.        ,  0.00838489,  0.        ,\n          0.20008168,  0.        ,  0.00521487,  0.11601001],\n        [ 0.34455755, -0.        ,  0.27145664,  0.        , -0.03561468,\n          0.        ,  0.        , -0.11411897,  0.10638017],\n        [ 0.50596127, -0.        ,  0.01913431, -0.        ,  0.        ,\n          0.3775109 ,  0.        , -0.28610965, -0.0146575 ],\n        [ 0.        , -0.23715943,  0.02924704, -0.        ,  0.01597406,\n          0.        ,  0.        , -0.05574707, -0.07280442],\n        [ 0.        , -0.19115594,  0.00102109, -0.        ,  0.0152999 ,\n          0.        ,  0.        ,  0.02945644, -0.17495165],\n        [ 0.        , -0.1351629 , -0.00409718, -0.        ,  0.00570027,\n          0.        ,  0.        ,  0.04223226, -0.23326092],\n        [ 0.        , -0.34256373,  0.00460822, -0.        ,  0.        ,\n          0.        ,  0.06067491,  0.05787303, -0.00909409],\n        [ 0.        , -0.10137011, -0.        , -0.01234159, -0.        ,\n          0.        ,  0.02030553, -0.02927117, -0.20309851],\n        [ 0.        , -0.106377  , -0.        , -0.02275933,  0.00564597,\n          0.        ,  0.        ,  0.01922487, -0.22113699],\n        [ 0.42638314, -0.        ,  0.        , -0.08583595,  0.16727992,\n          0.        ,  0.        , -0.13503991,  0.26291063],\n        [ 0.        , -0.30779286,  0.        , -0.0299676 , -0.00996522,\n          0.        ,  0.        ,  0.07291219,  0.04045546],\n        [ 0.        , -0.21658628, -0.        , -0.02919214, -0.        ,\n          0.09157499,  0.        , -0.05858   , -0.0869515 ],\n        [ 0.        , -0.13358671,  0.00422732, -0.        ,  0.01078402,\n          0.        ,  0.        , -0.01309394, -0.19692223],\n        [ 0.39875218, -0.        ,  0.0152985 , -0.        ,  0.        ,\n          0.29925977,  0.        , -0.22210795,  0.15310721],\n        [ 0.        , -0.41880403,  0.05284643, -0.        ,  0.03750135,\n          0.        ,  0.        , -0.06462406,  0.12557182],\n        [ 0.        , -0.6309531 ,  0.        ,  0.07203354, -0.        ,\n          0.30629935,  0.        , -0.06887895,  0.3926888 ],\n        [ 0.53638498, -0.        ,  0.        ,  0.05926411,  0.05038349,\n          0.        ,  0.        ,  0.06875262, -0.30372382],\n        [ 0.31406507, -0.        ,  0.        ,  0.00349668,  0.        ,\n          0.20664364,  0.        ,  0.00592123,  0.09646858],\n        [ 0.        , -0.62994163,  0.16737828,  0.        , -0.0743103 ,\n          0.        ,  0.        , -0.0355596 ,  0.57129407],\n        [ 0.46639123, -0.        ,  0.        , -0.1068791 ,  0.19563733,\n          0.        ,  0.        , -0.25332728,  0.32698304],\n        [ 0.58014905, -0.        ,  0.17874937, -0.        ,  0.05064816,\n          0.        ,  0.        , -0.03929687, -0.26074372],\n        [ 0.48041229, -0.        ,  0.08124731, -0.        ,  0.        ,\n          0.32540075,  0.        , -0.13105362, -0.1470138 ],\n        [ 0.36241862, -0.        ,  0.06698742, -0.        ,  0.11006111,\n          0.        ,  0.        , -0.03501673,  0.14076439],\n        [ 0.        , -0.0994197 ,  0.00259864, -0.        ,  0.00571552,\n          0.        ,  0.        , -0.02237015, -0.21447383],\n        [ 0.        , -0.3160069 , -0.        , -0.10959445,  0.        ,\n          0.        , -0.00352782,  0.1460926 ,  0.28528226],\n        [ 0.36629702, -0.        ,  0.28973473,  0.        , -0.04097261,\n          0.        ,  0.        , -0.11981329,  0.05899201],\n        [ 0.65103926, -0.        ,  0.        , -0.02036367,  0.09291092,\n          0.        ,  0.        , -0.13005875, -0.24470334],\n        [ 0.33676623, -0.        ,  0.        ,  0.16951932, -0.        ,\n          0.14235784,  0.        , -0.08646822,  0.00364606],\n        [ 0.34449109, -0.        ,  0.        ,  0.00714667,  0.12139745,\n          0.        ,  0.        , -0.02130131,  0.17345435],\n        [ 0.        , -0.13470743, -0.0041173 , -0.        ,  0.00560639,\n          0.        ,  0.        ,  0.04218111, -0.23356032],\n        [ 0.        , -0.42882956, -0.00523159, -0.        ,  0.        ,\n          0.        ,  0.0700381 ,  0.14526052,  0.08756745],\n        [ 0.        , -0.61486156,  0.19059722,  0.        , -0.        ,\n          0.28062755,  0.        , -0.03108655,  0.29055492],\n        [ 0.42926339, -0.        ,  0.02951002, -0.        ,  0.15948288,\n          0.        ,  0.        , -0.13732008,  0.15790908],\n        [ 0.        , -0.11312747, -0.        , -0.02303682,  0.00784699,\n          0.        ,  0.        ,  0.00318778, -0.20567309],\n        [ 0.44047761, -0.        ,  0.        , -0.0306021 ,  0.        ,\n          0.29529944,  0.        , -0.04765913, -0.04455067],\n        [ 0.28411645, -0.        ,  0.        ,  0.16282809, -0.        ,\n          0.11618637,  0.        , -0.09646984,  0.14042278],\n        [ 0.        , -0.32691396, -0.        , -0.04061224,  0.01087201,\n          0.        ,  0.        ,  0.00863938,  0.10614936],\n        [ 0.58287803, -0.        ,  0.18403755, -0.        ,  0.04498194,\n          0.        ,  0.        ,  0.05563304, -0.37504892],\n        [ 0.49717514, -0.        ,  0.14137055, -0.        ,  0.        ,\n          0.30721147,  0.        ,  0.00997465, -0.36305333],\n        [ 0.78549198, -0.        , -0.        , -0.23833124,  0.        ,\n          0.        ,  0.06023066, -0.30713386, -0.12454872],\n        [ 0.49175188, -0.        ,  0.13119787, -0.        ,  0.        ,\n          0.30792087,  0.        , -0.10093169, -0.23111494],\n        [ 0.52204765, -0.        ,  0.        , -0.12328058,  0.        ,\n          0.39848686,  0.        , -0.19650052, -0.01068561],\n        [ 0.        , -0.39710497,  0.        , -0.05836253, -0.00908758,\n          0.        ,  0.        ,  0.04384574,  0.26008886],\n        [ 0.56458348, -0.        , -0.        , -0.14375322,  0.25007436,\n          0.        ,  0.        , -0.33133805,  0.22235476],\n        [ 0.        , -0.12442206, -0.00280277, -0.        ,  0.00597929,\n          0.        ,  0.        ,  0.03840221, -0.24635047],\n        [ 0.36310533, -0.        ,  0.05268475, -0.        ,  0.1239144 ,\n          0.        ,  0.        , -0.08827686,  0.19513318],\n        [ 0.58200756, -0.        , -0.        , -0.14587843,  0.25533332,\n          0.        ,  0.        , -0.33956399,  0.1983475 ],\n        [ 0.        , -0.25358757, -0.        , -0.03336414,  0.00878556,\n          0.        ,  0.        ,  0.00729812, -0.01595648],\n        [ 0.        , -0.21504755, -0.        , -0.06687502,  0.        ,\n          0.        ,  0.00320301, -0.10523543,  0.10805953],\n        [ 0.        , -0.1697939 , -0.00444124, -0.        ,  0.00780174,\n          0.        ,  0.        ,  0.05239061, -0.20664084],\n        [ 0.        , -0.43874015,  0.00690665, -0.        ,  0.        ,\n          0.        ,  0.08396776,  0.13089193,  0.077404  ],\n        [ 0.26707679, -0.        ,  0.16030585,  0.        ,  0.        ,\n          0.13111084,  0.        , -0.01528613,  0.08959955],\n        [ 0.59834024, -0.        ,  0.        , -0.05311606,  0.        ,\n          0.        ,  0.23790952,  0.16169333, -0.41874454],\n        [ 0.61282127, -0.        ,  0.        , -0.00371457,  0.07114415,\n          0.        ,  0.        ,  0.07394216, -0.66103731],\n        [ 0.        , -0.60237014,  0.04350223, -0.        ,  0.0009664 ,\n          0.        ,  0.        ,  0.05549411,  0.43768035],\n        [ 0.39385599, -0.        ,  0.27141529,  0.        , -0.        ,\n          0.1755529 ,  0.        , -0.07397355, -0.22492543],\n        [ 0.50709677, -0.        , -0.        , -0.12960281,  0.22594353,\n          0.        ,  0.        , -0.29877988,  0.29841829],\n        [ 0.53881622, -0.        , -0.        , -0.16187999,  0.        ,\n          0.        ,  0.0474354 , -0.19844026,  0.37888844],\n        [ 0.        , -0.32819723, -0.        , -0.09927216,  0.        ,\n          0.        ,  0.00788722,  0.09902893,  0.22318794],\n        [ 0.30106962, -0.        ,  0.16308132,  0.        ,  0.06315424,\n          0.        ,  0.        , -0.03809625,  0.12346571],\n        [ 0.34169394, -0.        ,  0.        ,  0.02716095,  0.10839434,\n          0.        ,  0.        ,  0.0033389 ,  0.14127922],\n        [ 0.48623952, -0.        ,  0.        ,  0.03576618,  0.04530889,\n          0.        ,  0.        ,  0.03929463, -0.05185194],\n        [ 0.        , -0.55770987,  0.03702625, -0.        , -0.        ,\n          0.2557939 ,  0.        ,  0.01029708,  0.10968519],\n        [ 0.        , -0.10723758, -0.        , -0.02143763,  0.00811208,\n          0.        ,  0.        , -0.01261868, -0.19283454],\n        [ 0.3024146 , -0.        ,  0.15917833,  0.        ,  0.06874353,\n          0.        ,  0.        , -0.0342607 ,  0.11825335],\n        [ 0.        , -0.65371236,  0.0646294 , -0.        ,  0.09849078,\n          0.        ,  0.        , -0.05288755,  0.41812253],\n        [ 0.        , -0.32850941, -0.        , -0.07947277,  0.        ,\n          0.        ,  0.04049418,  0.13643094,  0.19266729],\n        [ 0.47705106, -0.        , -0.        , -0.11872322,  0.20873836,\n          0.        ,  0.        , -0.27471242,  0.32907447]])]"
     },
     "execution_count": 9,
     "metadata": {},
     "output_type": "execute_result"
    }
   ],
   "source": [
    "inspection_result[ExplainabilityMethodsEnum.INTEGRATED_GRADIENTS][\"results\"].attributions"
   ],
   "metadata": {
    "collapsed": false,
    "ExecuteTime": {
     "end_time": "2024-01-29T19:37:35.635007Z",
     "start_time": "2024-01-29T19:37:35.629029Z"
    }
   }
  },
  {
   "cell_type": "code",
   "execution_count": 10,
   "outputs": [
    {
     "data": {
      "text/plain": "Explanation(meta={\n  'name': 'ALE',\n  'type': ['blackbox'],\n  'explanations': ['global'],\n  'params': {\n              'check_feature_resolution': True,\n              'low_resolution_threshold': 10,\n              'extrapolate_constant': True,\n              'extrapolate_constant_perc': 10.0,\n              'extrapolate_constant_min': 0.1,\n              'min_bin_points': 4}\n            ,\n  'version': '0.9.4'}\n, data={\n  'ale_values': [array([[-0.10355331,  0.10355331],\n       [ 0.10355331, -0.10355331]]), array([[ 0.14958886, -0.14958886],\n       [-0.14958886,  0.14958886]]), array([[-0.01952479,  0.01952479],\n       [ 0.01952479, -0.01952479]]), array([[-0.01977502,  0.01977502],\n       [ 0.01977502, -0.01977502]]), array([[ 0.00359291, -0.00359291],\n       [-0.00359291,  0.00359291]]), array([[-0.02655177,  0.02655177],\n       [ 0.02655177, -0.02655177]]), array([[ 0.00672761, -0.00672761],\n       [-0.00672761,  0.00672761]]), array([[ 0.00500257, -0.00500257],\n       [ 0.01633159, -0.01633159],\n       [ 0.01620087, -0.01620087],\n       [ 0.00410839, -0.00410839],\n       [-0.02033592,  0.02033591],\n       [-0.06668474,  0.06668474]]), array([[ 0.13706287, -0.13706296],\n       [ 0.13658172, -0.13658182],\n       [ 0.1298981 , -0.1298982 ],\n       [ 0.12689028, -0.1268904 ],\n       [ 0.12417569, -0.12417581],\n       [ 0.11757995, -0.11758007],\n       [ 0.11268826, -0.11268835],\n       [ 0.10591586, -0.10591596],\n       [ 0.0967767 , -0.09677679],\n       [ 0.09544128, -0.09544135],\n       [ 0.08865607, -0.08865613],\n       [ 0.08924012, -0.08924016],\n       [ 0.08627327, -0.08627332],\n       [ 0.08334316, -0.08334319],\n       [ 0.08357681, -0.08357685],\n       [ 0.07797047, -0.0779705 ],\n       [ 0.0773472 , -0.0773472 ],\n       [ 0.07142512, -0.07142512],\n       [ 0.05502229, -0.05502229],\n       [ 0.04808326, -0.04808326],\n       [ 0.04215939, -0.04215939],\n       [ 0.04065019, -0.04065019],\n       [ 0.03685929, -0.03685926],\n       [ 0.0192693 , -0.01926928],\n       [ 0.01696763, -0.0169676 ],\n       [ 0.01147794, -0.01147791],\n       [ 0.00761449, -0.00761447],\n       [-0.00386789,  0.00386793],\n       [-0.00842991,  0.00842996],\n       [-0.01347458,  0.01347464],\n       [-0.04628571,  0.04628578],\n       [-0.05758802,  0.05758808],\n       [-0.06997408,  0.06997414],\n       [-0.11939155,  0.11939161],\n       [-0.13959987,  0.13959995],\n       [-0.14408394,  0.14408402],\n       [-0.149087  ,  0.14908708],\n       [-0.17350568,  0.17350575],\n       [-0.19344027,  0.19344035],\n       [-0.19535952,  0.19535959],\n       [-0.1981751 ,  0.19817517],\n       [-0.20854381,  0.20854389],\n       [-0.20947981,  0.20947989],\n       [-0.21090831,  0.21090839]])],\n  'constant_value': 0.5,\n  'ale0': [array([ 0.10355331, -0.10355331]), array([-0.14958886,  0.14958886]), array([ 0.01952479, -0.01952479]), array([ 0.01977502, -0.01977502]), array([-0.00359291,  0.00359291]), array([ 0.02655177, -0.02655177]), array([-0.00672761,  0.00672761]), array([-0.00500257,  0.00500257]), array([-0.13706287,  0.13706296])],\n  'feature_values': [array([0., 1.]), array([0., 1.]), array([0., 1.]), array([0., 1.]), array([0., 1.]), array([0., 1.]), array([0., 1.]), array([-1.44894866, -0.86014368, -0.2713387 ,  0.31746628,  0.90627126,\n        1.49507624]), array([-1.37143661, -1.32971201, -1.26748257, -1.20181054, -1.14400027,\n       -1.06734955, -1.03746566, -0.97540913, -0.92861553, -0.83505206,\n       -0.7963606 , -0.76323541, -0.7107967 , -0.67266981, -0.61822295,\n       -0.55353489, -0.5363348 , -0.48656577, -0.40641109, -0.34602152,\n       -0.28200508, -0.25503814, -0.2123509 , -0.03949011,  0.007424  ,\n        0.03602233,  0.119143  ,  0.19557705,  0.215763  ,  0.26171862,\n        0.34018615,  0.39712015,  0.44686643,  0.56550617,  0.60929756,\n        0.74872547,  0.96816512,  1.19511429,  1.46646926,  1.64463639,\n        1.8986307 ,  2.16924561,  2.39688226,  2.64602504])],\n  'feature_names': array(['impute_and_one_hot_encode__smoker_False',\n       'impute_and_one_hot_encode__smoker_True',\n       'impute_and_one_hot_encode__county_county2',\n       'impute_and_one_hot_encode__county_county3',\n       'impute_and_one_hot_encode__race_race1',\n       'impute_and_one_hot_encode__race_race2',\n       'impute_and_one_hot_encode__race_race3', 'numeric__num_children',\n       'numeric__income'], dtype=object),\n  'target_names': array(['label'], dtype='<U5'),\n  'feature_deciles': [array([0., 0., 0., 0., 0., 1., 1., 1., 1., 1., 1.]), array([0., 0., 0., 0., 0., 0., 1., 1., 1., 1., 1.]), array([0., 0., 0., 0., 0., 1., 1., 1., 1., 1., 1.]), array([0., 0., 0., 0., 0., 0., 1., 1., 1., 1., 1.]), array([0., 0., 0., 0., 0., 1., 1., 1., 1., 1., 1.]), array([0., 0., 0., 0., 0., 0., 0., 1., 1., 1., 1.]), array([0., 0., 0., 0., 0., 0., 0., 0., 0., 1., 1.]), array([-1.44894866, -1.44894866, -0.86014368, -0.86014368, -0.2713387 ,\n       -0.2713387 ,  0.31746628,  0.90627126,  0.90627126,  1.49507624,\n        1.49507624]), array([-1.37143661, -1.12223845, -0.87841247, -0.67505279, -0.47949503,\n       -0.22545393,  0.08575159,  0.3533761 ,  0.65431964,  1.58701832,\n        2.64602504])]}\n)"
     },
     "execution_count": 10,
     "metadata": {},
     "output_type": "execute_result"
    }
   ],
   "source": [
    "inspection_result[ExplainabilityMethodsEnum.ALE][\"results\"]"
   ],
   "metadata": {
    "collapsed": false,
    "ExecuteTime": {
     "end_time": "2024-01-29T20:06:04.384077Z",
     "start_time": "2024-01-29T20:06:04.333882Z"
    }
   }
  },
  {
   "cell_type": "code",
   "execution_count": null,
   "outputs": [],
   "source": [
    "inspection_result[ExplainabilityMethodsEnum.DALE][\"explainer\"].plot()"
   ],
   "metadata": {
    "collapsed": false
   }
  },
  {
   "cell_type": "code",
   "execution_count": null,
   "outputs": [],
   "source": [
    "inspection_result[ExplainabilityMethodsEnum.DALEX][\"results\"][\"train\"].plot()"
   ],
   "metadata": {
    "collapsed": false
   }
  },
  {
   "cell_type": "code",
   "execution_count": null,
   "outputs": [],
   "source": [
    "inspection_result[ExplainabilityMethodsEnum.DALEX][\"results\"][\"test\"].plot()"
   ],
   "metadata": {
    "collapsed": false
   }
  }
 ],
 "metadata": {
  "kernelspec": {
   "display_name": "venv",
   "language": "python",
   "name": "venv"
  },
  "language_info": {
   "codemirror_mode": {
    "name": "ipython",
    "version": 3
   },
   "file_extension": ".py",
   "mimetype": "text/x-python",
   "name": "python",
   "nbconvert_exporter": "python",
   "pygments_lexer": "ipython3",
   "version": "3.9.16"
  }
 },
 "nbformat": 4,
 "nbformat_minor": 1
}
