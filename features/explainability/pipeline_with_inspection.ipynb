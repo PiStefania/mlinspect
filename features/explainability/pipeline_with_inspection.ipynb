{
 "cells": [
  {
   "cell_type": "code",
   "execution_count": 1,
   "outputs": [
    {
     "name": "stderr",
     "output_type": "stream",
     "text": [
      "/opt/venv/lib/python3.9/site-packages/sklearn/preprocessing/_encoders.py:975: FutureWarning: `sparse` was renamed to `sparse_output` in version 1.2 and will be removed in 1.4. `sparse_output` is ignored unless you leave `sparse` to its default value.\n",
      "  warnings.warn(\n",
      "/opt/venv/lib/python3.9/site-packages/sklearn/preprocessing/_encoders.py:975: FutureWarning: `sparse` was renamed to `sparse_output` in version 1.2 and will be removed in 1.4. `sparse_output` is ignored unless you leave `sparse` to its default value.\n",
      "  warnings.warn(\n"
     ]
    }
   ],
   "source": [
    "from mlinspect.monkeypatching._mlinspect_ndarray import MlinspectNdarray\n",
    "import pandas as pd\n",
    "import os\n",
    "from sklearn.compose import ColumnTransformer\n",
    "from sklearn.impute import SimpleImputer\n",
    "from sklearn.model_selection import train_test_split\n",
    "from sklearn.pipeline import Pipeline\n",
    "from mlinspect.utils import get_project_root\n",
    "from sklearn.preprocessing import OneHotEncoder, StandardScaler\n",
    "\n",
    "# prepare data for explainer\n",
    "COUNTIES_OF_INTEREST = ['county2', 'county3']\n",
    "\n",
    "patients = pd.read_csv(os.path.join(str(get_project_root()), \"example_pipelines\", \"healthcare\",\n",
    "                                    \"patients.csv\"), na_values='?')\n",
    "histories = pd.read_csv(os.path.join(str(get_project_root()), \"example_pipelines\", \"healthcare\",\n",
    "                                     \"histories.csv\"), na_values='?')\n",
    "\n",
    "data = patients.merge(histories, on=['ssn'])\n",
    "complications = data.groupby('age_group') \\\n",
    "    .agg(mean_complications=('complications', 'mean'))\n",
    "data = data.merge(complications, on=['age_group'])\n",
    "data['label'] = data['complications'] > 1.2 * data['mean_complications']\n",
    "data = data[['smoker', 'last_name', 'county', 'num_children', 'race', 'income', 'label']]\n",
    "data = data[data['county'].isin(COUNTIES_OF_INTEREST)]\n",
    "train_data, test_data = train_test_split(data)\n",
    "y_train = train_data[\"label\"]\n",
    "y_test = test_data[\"label\"]\n",
    "X_train = train_data.drop(\"label\", axis=1)\n",
    "X_test = test_data.drop(\"label\", axis=1)\n",
    "\n",
    "impute_and_one_hot_encode = Pipeline([\n",
    "    ('impute', SimpleImputer(strategy='most_frequent')),\n",
    "    ('encode', OneHotEncoder(sparse=False, handle_unknown='ignore'))\n",
    "])\n",
    "featurisation = ColumnTransformer(transformers=[\n",
    "    (\"impute_and_one_hot_encode\", impute_and_one_hot_encode, ['smoker', 'county', 'race']),\n",
    "    ('numeric', StandardScaler(), ['num_children', 'income']),\n",
    "], remainder='drop')\n",
    "\n",
    "X_t_train: MlinspectNdarray = featurisation.fit_transform(train_data, y_train)\n",
    "X_t_test: MlinspectNdarray = featurisation.fit_transform(X_test, y_test)"
   ],
   "metadata": {
    "collapsed": false,
    "ExecuteTime": {
     "end_time": "2024-01-14T17:42:37.309976Z",
     "start_time": "2024-01-14T17:42:35.895467Z"
    }
   }
  },
  {
   "cell_type": "code",
   "execution_count": 2,
   "outputs": [
    {
     "data": {
      "text/plain": "array([[ 1.        ,  0.        ,  0.        , ...,  0.        ,\n        -0.85896456, -0.67878089],\n       [ 0.        ,  1.        ,  1.        , ...,  0.        ,\n        -0.85896456,  1.58939849],\n       [ 0.        ,  1.        ,  0.        , ...,  1.        ,\n        -0.85896456, -0.79217875],\n       ...,\n       [ 1.        ,  0.        ,  1.        , ...,  0.        ,\n        -1.4506957 ,  0.17507158],\n       [ 1.        ,  0.        ,  1.        , ...,  0.        ,\n        -1.4506957 ,  0.41983706],\n       [ 1.        ,  0.        ,  1.        , ...,  0.        ,\n         1.50796   ,  0.57241166]])"
     },
     "execution_count": 2,
     "metadata": {},
     "output_type": "execute_result"
    }
   ],
   "source": [
    "import numpy as np\n",
    "\n",
    "X_t_train.view(np.ndarray)"
   ],
   "metadata": {
    "collapsed": false,
    "ExecuteTime": {
     "end_time": "2024-01-14T17:42:37.313884Z",
     "start_time": "2024-01-14T17:42:37.309742Z"
    }
   }
  },
  {
   "cell_type": "code",
   "execution_count": 3,
   "outputs": [
    {
     "name": "stderr",
     "output_type": "stream",
     "text": [
      "Using 217 background data samples could cause slower run times. Consider using shap.sample(data, K) or shap.kmeans(data, K) to summarize the background as K samples.\n"
     ]
    },
    {
     "data": {
      "text/plain": "  0%|          | 0/1 [00:00<?, ?it/s]",
      "application/vnd.jupyter.widget-view+json": {
       "version_major": 2,
       "version_minor": 0,
       "model_id": "b7b31dd1737a4ce8810ec26698758436"
      }
     },
     "metadata": {},
     "output_type": "display_data"
    },
    {
     "ename": "TypeError",
     "evalue": "'NoneType' object does not support item assignment",
     "output_type": "error",
     "traceback": [
      "\u001B[0;31m---------------------------------------------------------------------------\u001B[0m",
      "\u001B[0;31mTypeError\u001B[0m                                 Traceback (most recent call last)",
      "Cell \u001B[0;32mIn[3], line 11\u001B[0m\n\u001B[1;32m      7\u001B[0m \u001B[38;5;28;01mfrom\u001B[39;00m \u001B[38;5;21;01mmlinspect\u001B[39;00m \u001B[38;5;28;01mimport\u001B[39;00m PipelineInspector\n\u001B[1;32m      9\u001B[0m EXAMPLE_PIPELINE \u001B[38;5;241m=\u001B[39m os\u001B[38;5;241m.\u001B[39mpath\u001B[38;5;241m.\u001B[39mjoin(\u001B[38;5;28mstr\u001B[39m(get_project_root()), \u001B[38;5;124m\"\u001B[39m\u001B[38;5;124mfeatures\u001B[39m\u001B[38;5;124m\"\u001B[39m, \u001B[38;5;124m\"\u001B[39m\u001B[38;5;124mexplainability\u001B[39m\u001B[38;5;124m\"\u001B[39m, \u001B[38;5;124m\"\u001B[39m\u001B[38;5;124mpipeline_with_inspection.py\u001B[39m\u001B[38;5;124m\"\u001B[39m)\n\u001B[0;32m---> 11\u001B[0m inspector_result \u001B[38;5;241m=\u001B[39m \u001B[43mPipelineInspector\u001B[49m\u001B[43m\\\u001B[49m\n\u001B[1;32m     12\u001B[0m \u001B[43m    \u001B[49m\u001B[38;5;241;43m.\u001B[39;49m\u001B[43mon_pipeline_from_py_file\u001B[49m\u001B[43m(\u001B[49m\u001B[43mEXAMPLE_PIPELINE\u001B[49m\u001B[43m)\u001B[49m\u001B[43m \u001B[49m\u001B[43m\\\u001B[49m\n\u001B[1;32m     13\u001B[0m \u001B[43m    \u001B[49m\u001B[38;5;241;43m.\u001B[39;49m\u001B[43madd_required_inspection\u001B[49m\u001B[43m(\u001B[49m\u001B[43mExplainer\u001B[49m\u001B[43m(\u001B[49m\u001B[43m[\u001B[49m\u001B[43mExplainabilityMethodsEnum\u001B[49m\u001B[38;5;241;43m.\u001B[39;49m\u001B[43mSHAP\u001B[49m\u001B[43m]\u001B[49m\u001B[43m,\u001B[49m\u001B[43m \u001B[49m\u001B[43mX_t_train\u001B[49m\u001B[38;5;241;43m.\u001B[39;49m\u001B[43mview\u001B[49m\u001B[43m(\u001B[49m\u001B[43mnp\u001B[49m\u001B[38;5;241;43m.\u001B[39;49m\u001B[43mndarray\u001B[49m\u001B[43m)\u001B[49m\u001B[43m,\u001B[49m\u001B[43m \u001B[49m\u001B[43mX_t_test\u001B[49m\u001B[38;5;241;43m.\u001B[39;49m\u001B[43mview\u001B[49m\u001B[43m(\u001B[49m\u001B[43mnp\u001B[49m\u001B[38;5;241;43m.\u001B[39;49m\u001B[43mndarray\u001B[49m\u001B[43m)\u001B[49m\u001B[43m[\u001B[49m\u001B[43m:\u001B[49m\u001B[38;5;241;43m1\u001B[39;49m\u001B[43m]\u001B[49m\u001B[43m)\u001B[49m\u001B[43m)\u001B[49m\u001B[43m \u001B[49m\u001B[43m\\\u001B[49m\n\u001B[1;32m     14\u001B[0m \u001B[43m    \u001B[49m\u001B[38;5;241;43m.\u001B[39;49m\u001B[43mexecute\u001B[49m\u001B[43m(\u001B[49m\u001B[43m)\u001B[49m\n\u001B[1;32m     16\u001B[0m extracted_dag \u001B[38;5;241m=\u001B[39m inspector_result\u001B[38;5;241m.\u001B[39mdag\n\u001B[1;32m     17\u001B[0m dag_node_to_inspection_results \u001B[38;5;241m=\u001B[39m inspector_result\u001B[38;5;241m.\u001B[39mdag_node_to_inspection_results\n",
      "File \u001B[0;32m/project/mlinspect/_pipeline_inspector.py:84\u001B[0m, in \u001B[0;36mPipelineInspectorBuilder.execute\u001B[0;34m(self)\u001B[0m\n\u001B[1;32m     80\u001B[0m \u001B[38;5;28;01mdef\u001B[39;00m \u001B[38;5;21mexecute\u001B[39m(\u001B[38;5;28mself\u001B[39m) \u001B[38;5;241m-\u001B[39m\u001B[38;5;241m>\u001B[39m InspectorResult:\n\u001B[1;32m     81\u001B[0m \u001B[38;5;250m    \u001B[39m\u001B[38;5;124;03m\"\"\"\u001B[39;00m\n\u001B[1;32m     82\u001B[0m \u001B[38;5;124;03m    Instrument and execute the pipeline\u001B[39;00m\n\u001B[1;32m     83\u001B[0m \u001B[38;5;124;03m    \"\"\"\u001B[39;00m\n\u001B[0;32m---> 84\u001B[0m     \u001B[38;5;28;01mreturn\u001B[39;00m \u001B[43msingleton\u001B[49m\u001B[38;5;241;43m.\u001B[39;49m\u001B[43mrun\u001B[49m\u001B[43m(\u001B[49m\u001B[43mnotebook_path\u001B[49m\u001B[38;5;241;43m=\u001B[39;49m\u001B[38;5;28;43mself\u001B[39;49m\u001B[38;5;241;43m.\u001B[39;49m\u001B[43mnotebook_path\u001B[49m\u001B[43m,\u001B[49m\n\u001B[1;32m     85\u001B[0m \u001B[43m                         \u001B[49m\u001B[43mpython_path\u001B[49m\u001B[38;5;241;43m=\u001B[39;49m\u001B[38;5;28;43mself\u001B[39;49m\u001B[38;5;241;43m.\u001B[39;49m\u001B[43mpython_path\u001B[49m\u001B[43m,\u001B[49m\n\u001B[1;32m     86\u001B[0m \u001B[43m                         \u001B[49m\u001B[43mpython_code\u001B[49m\u001B[38;5;241;43m=\u001B[39;49m\u001B[38;5;28;43mself\u001B[39;49m\u001B[38;5;241;43m.\u001B[39;49m\u001B[43mpython_code\u001B[49m\u001B[43m,\u001B[49m\n\u001B[1;32m     87\u001B[0m \u001B[43m                         \u001B[49m\u001B[43minspections\u001B[49m\u001B[38;5;241;43m=\u001B[39;49m\u001B[38;5;28;43mself\u001B[39;49m\u001B[38;5;241;43m.\u001B[39;49m\u001B[43minspections\u001B[49m\u001B[43m,\u001B[49m\n\u001B[1;32m     88\u001B[0m \u001B[43m                         \u001B[49m\u001B[43mchecks\u001B[49m\u001B[38;5;241;43m=\u001B[39;49m\u001B[38;5;28;43mself\u001B[39;49m\u001B[38;5;241;43m.\u001B[39;49m\u001B[43mchecks\u001B[49m\u001B[43m,\u001B[49m\n\u001B[1;32m     89\u001B[0m \u001B[43m                         \u001B[49m\u001B[43mcustom_monkey_patching\u001B[49m\u001B[38;5;241;43m=\u001B[39;49m\u001B[38;5;28;43mself\u001B[39;49m\u001B[38;5;241;43m.\u001B[39;49m\u001B[43mmonkey_patching_modules\u001B[49m\u001B[43m)\u001B[49m\n",
      "File \u001B[0;32m/project/mlinspect/instrumentation/_pipeline_executor.py:76\u001B[0m, in \u001B[0;36mPipelineExecutor.run\u001B[0;34m(self, notebook_path, python_path, python_code, inspections, checks, reset_state, track_code_references, custom_monkey_patching)\u001B[0m\n\u001B[1;32m     73\u001B[0m \u001B[38;5;28mself\u001B[39m\u001B[38;5;241m.\u001B[39mtrack_code_references \u001B[38;5;241m=\u001B[39m track_code_references\n\u001B[1;32m     74\u001B[0m \u001B[38;5;28mself\u001B[39m\u001B[38;5;241m.\u001B[39mcustom_monkey_patching \u001B[38;5;241m=\u001B[39m custom_monkey_patching\n\u001B[0;32m---> 76\u001B[0m \u001B[38;5;28;43mself\u001B[39;49m\u001B[38;5;241;43m.\u001B[39;49m\u001B[43mrun_inspections\u001B[49m\u001B[43m(\u001B[49m\u001B[43mnotebook_path\u001B[49m\u001B[43m,\u001B[49m\u001B[43m \u001B[49m\u001B[43mpython_code\u001B[49m\u001B[43m,\u001B[49m\u001B[43m \u001B[49m\u001B[43mpython_path\u001B[49m\u001B[43m)\u001B[49m\n\u001B[1;32m     77\u001B[0m check_to_results \u001B[38;5;241m=\u001B[39m \u001B[38;5;28mdict\u001B[39m((check, check\u001B[38;5;241m.\u001B[39mevaluate(\u001B[38;5;28mself\u001B[39m\u001B[38;5;241m.\u001B[39minspection_results)) \u001B[38;5;28;01mfor\u001B[39;00m check \u001B[38;5;129;01min\u001B[39;00m checks)\n\u001B[1;32m     78\u001B[0m \u001B[38;5;28;01mreturn\u001B[39;00m InspectorResult(\u001B[38;5;28mself\u001B[39m\u001B[38;5;241m.\u001B[39minspection_results\u001B[38;5;241m.\u001B[39mdag, \u001B[38;5;28mself\u001B[39m\u001B[38;5;241m.\u001B[39minspection_results\u001B[38;5;241m.\u001B[39mdag_node_to_inspection_results,\n\u001B[1;32m     79\u001B[0m                        check_to_results)\n",
      "File \u001B[0;32m/project/mlinspect/instrumentation/_pipeline_executor.py:89\u001B[0m, in \u001B[0;36mPipelineExecutor.run_inspections\u001B[0;34m(self, notebook_path, python_code, python_path)\u001B[0m\n\u001B[1;32m     87\u001B[0m parsed_ast \u001B[38;5;241m=\u001B[39m ast\u001B[38;5;241m.\u001B[39mparse(\u001B[38;5;28mself\u001B[39m\u001B[38;5;241m.\u001B[39msource_code)\n\u001B[1;32m     88\u001B[0m parsed_modified_ast \u001B[38;5;241m=\u001B[39m \u001B[38;5;28mself\u001B[39m\u001B[38;5;241m.\u001B[39minstrument_pipeline(parsed_ast, \u001B[38;5;28mself\u001B[39m\u001B[38;5;241m.\u001B[39mtrack_code_references)\n\u001B[0;32m---> 89\u001B[0m \u001B[43mexec\u001B[49m\u001B[43m(\u001B[49m\u001B[38;5;28;43mcompile\u001B[39;49m\u001B[43m(\u001B[49m\u001B[43mparsed_modified_ast\u001B[49m\u001B[43m,\u001B[49m\u001B[43m \u001B[49m\u001B[43mfilename\u001B[49m\u001B[38;5;241;43m=\u001B[39;49m\u001B[38;5;28;43mself\u001B[39;49m\u001B[38;5;241;43m.\u001B[39;49m\u001B[43msource_code_path\u001B[49m\u001B[43m,\u001B[49m\u001B[43m \u001B[49m\u001B[43mmode\u001B[49m\u001B[38;5;241;43m=\u001B[39;49m\u001B[38;5;124;43m\"\u001B[39;49m\u001B[38;5;124;43mexec\u001B[39;49m\u001B[38;5;124;43m\"\u001B[39;49m\u001B[43m)\u001B[49m\u001B[43m,\u001B[49m\u001B[43m \u001B[49m\u001B[43mPipelineExecutor\u001B[49m\u001B[38;5;241;43m.\u001B[39;49m\u001B[43mscript_scope\u001B[49m\u001B[43m)\u001B[49m\n",
      "File \u001B[0;32m/project/features/explainability/pipeline_with_inspection.py:52\u001B[0m\n\u001B[1;32m     50\u001B[0m X_t_train: MlinspectNdarray \u001B[38;5;241m=\u001B[39m featurisation\u001B[38;5;241m.\u001B[39mfit_transform(train_data, y_train)\n\u001B[1;32m     51\u001B[0m X_t_test: MlinspectNdarray \u001B[38;5;241m=\u001B[39m featurisation\u001B[38;5;241m.\u001B[39mfit_transform(X_test, y_test)\n\u001B[0;32m---> 52\u001B[0m neural_net\u001B[38;5;241m.\u001B[39mfit(X_t_train, y_train)\n\u001B[1;32m     53\u001B[0m \u001B[38;5;28mprint\u001B[39m(\u001B[38;5;124m\"\u001B[39m\u001B[38;5;124mMean accuracy: \u001B[39m\u001B[38;5;132;01m{}\u001B[39;00m\u001B[38;5;124m\"\u001B[39m\u001B[38;5;241m.\u001B[39mformat(neural_net\u001B[38;5;241m.\u001B[39mscore(X_t_test, y_test)))\n",
      "File \u001B[0;32m/project/mlinspect/monkeypatching/_patch_sklearn.py:1383\u001B[0m, in \u001B[0;36mSklearnKerasClassifierPatching.patched_fit\u001B[0;34m(self, *args, **kwargs)\u001B[0m\n\u001B[1;32m   1381\u001B[0m input_infos \u001B[38;5;241m=\u001B[39m SklearnBackend\u001B[38;5;241m.\u001B[39mbefore_call(operator_context, input_dfs)\n\u001B[1;32m   1382\u001B[0m result \u001B[38;5;241m=\u001B[39m original(\u001B[38;5;28mself\u001B[39m, train_data_result, train_labels_result, \u001B[38;5;241m*\u001B[39margs[\u001B[38;5;241m2\u001B[39m:], \u001B[38;5;241m*\u001B[39m\u001B[38;5;241m*\u001B[39mkwargs)\n\u001B[0;32m-> 1383\u001B[0m estimator_backend_result \u001B[38;5;241m=\u001B[39m \u001B[43mSklearnBackend\u001B[49m\u001B[38;5;241;43m.\u001B[39;49m\u001B[43mafter_call\u001B[49m\u001B[43m(\u001B[49m\u001B[43moperator_context\u001B[49m\u001B[43m,\u001B[49m\n\u001B[1;32m   1384\u001B[0m \u001B[43m                                                     \u001B[49m\u001B[43minput_infos\u001B[49m\u001B[43m,\u001B[49m\n\u001B[1;32m   1385\u001B[0m \u001B[43m                                                     \u001B[49m\u001B[43mresult\u001B[49m\u001B[43m,\u001B[49m\n\u001B[1;32m   1386\u001B[0m \u001B[43m                                                     \u001B[49m\u001B[38;5;28;43mself\u001B[39;49m\u001B[38;5;241;43m.\u001B[39;49m\u001B[43mmlinspect_non_data_func_args\u001B[49m\u001B[43m)\u001B[49m\n\u001B[1;32m   1387\u001B[0m \u001B[38;5;28mself\u001B[39m\u001B[38;5;241m.\u001B[39mmlinspect_estimator_node_id \u001B[38;5;241m=\u001B[39m singleton\u001B[38;5;241m.\u001B[39mget_next_op_id()  \u001B[38;5;66;03m# pylint: disable=attribute-defined-outside-init\u001B[39;00m\n\u001B[1;32m   1388\u001B[0m dag_node \u001B[38;5;241m=\u001B[39m DagNode(\u001B[38;5;28mself\u001B[39m\u001B[38;5;241m.\u001B[39mmlinspect_estimator_node_id,\n\u001B[1;32m   1389\u001B[0m                    BasicCodeLocation(\u001B[38;5;28mself\u001B[39m\u001B[38;5;241m.\u001B[39mmlinspect_caller_filename, \u001B[38;5;28mself\u001B[39m\u001B[38;5;241m.\u001B[39mmlinspect_lineno),\n\u001B[1;32m   1390\u001B[0m                    operator_context,\n\u001B[1;32m   1391\u001B[0m                    DagNodeDetails(\u001B[38;5;124m\"\u001B[39m\u001B[38;5;124mNeural Network\u001B[39m\u001B[38;5;124m\"\u001B[39m, []),\n\u001B[1;32m   1392\u001B[0m                    get_optional_code_info_or_none(\u001B[38;5;28mself\u001B[39m\u001B[38;5;241m.\u001B[39mmlinspect_optional_code_reference,\n\u001B[1;32m   1393\u001B[0m                                                   \u001B[38;5;28mself\u001B[39m\u001B[38;5;241m.\u001B[39mmlinspect_optional_source_code))\n",
      "File \u001B[0;32m/project/mlinspect/backends/_sklearn_backend.py:66\u001B[0m, in \u001B[0;36mSklearnBackend.after_call\u001B[0;34m(operator_context, input_infos, return_value, non_data_function_args)\u001B[0m\n\u001B[1;32m     62\u001B[0m     return_value \u001B[38;5;241m=\u001B[39m execute_inspection_visits_unary_operator(operator_context, input_infos[\u001B[38;5;241m0\u001B[39m]\u001B[38;5;241m.\u001B[39mresult_data,\n\u001B[1;32m     63\u001B[0m                                                             input_infos[\u001B[38;5;241m0\u001B[39m]\u001B[38;5;241m.\u001B[39mresult_annotation, return_value,\n\u001B[1;32m     64\u001B[0m                                                             \u001B[38;5;28;01mFalse\u001B[39;00m, non_data_function_args)\n\u001B[1;32m     65\u001B[0m \u001B[38;5;28;01melif\u001B[39;00m operator_context\u001B[38;5;241m.\u001B[39moperator \u001B[38;5;241m==\u001B[39m OperatorType\u001B[38;5;241m.\u001B[39mESTIMATOR:\n\u001B[0;32m---> 66\u001B[0m     return_value \u001B[38;5;241m=\u001B[39m \u001B[43mexecute_inspection_visits_nary_op\u001B[49m\u001B[43m(\u001B[49m\u001B[43moperator_context\u001B[49m\u001B[43m,\u001B[49m\n\u001B[1;32m     67\u001B[0m \u001B[43m                                                     \u001B[49m\u001B[43minput_infos\u001B[49m\u001B[43m,\u001B[49m\n\u001B[1;32m     68\u001B[0m \u001B[43m                                                     \u001B[49m\u001B[43mreturn_value\u001B[49m\u001B[43m,\u001B[49m\n\u001B[1;32m     69\u001B[0m \u001B[43m                                                     \u001B[49m\u001B[43mnon_data_function_args\u001B[49m\u001B[43m)\u001B[49m\n\u001B[1;32m     70\u001B[0m \u001B[38;5;28;01melif\u001B[39;00m operator_context\u001B[38;5;241m.\u001B[39moperator \u001B[38;5;241m==\u001B[39m OperatorType\u001B[38;5;241m.\u001B[39mSCORE:\n\u001B[1;32m     71\u001B[0m     return_value \u001B[38;5;241m=\u001B[39m execute_inspection_visits_nary_op(operator_context,\n\u001B[1;32m     72\u001B[0m                                                      input_infos,\n\u001B[1;32m     73\u001B[0m                                                      return_value,\n\u001B[1;32m     74\u001B[0m                                                      non_data_function_args)\n",
      "File \u001B[0;32m/project/mlinspect/backends/_sklearn_backend.py:121\u001B[0m, in \u001B[0;36mexecute_inspection_visits_nary_op\u001B[0;34m(operator_context, annotated_dfs, return_value_df, non_data_function_args)\u001B[0m\n\u001B[1;32m    115\u001B[0m iterators_for_inspections \u001B[38;5;241m=\u001B[39m iter_input_annotation_output_nary_op(inspection_count,\n\u001B[1;32m    116\u001B[0m                                                                  annotated_dfs,\n\u001B[1;32m    117\u001B[0m                                                                  return_value_df,\n\u001B[1;32m    118\u001B[0m                                                                  operator_context,\n\u001B[1;32m    119\u001B[0m                                                                  non_data_function_args)\n\u001B[1;32m    120\u001B[0m annotation_iterators \u001B[38;5;241m=\u001B[39m execute_visits(iterators_for_inspections)\n\u001B[0;32m--> 121\u001B[0m return_value \u001B[38;5;241m=\u001B[39m \u001B[43mstore_inspection_outputs\u001B[49m\u001B[43m(\u001B[49m\u001B[43mannotation_iterators\u001B[49m\u001B[43m,\u001B[49m\u001B[43m \u001B[49m\u001B[43mreturn_value_df\u001B[49m\u001B[43m)\u001B[49m\n\u001B[1;32m    122\u001B[0m \u001B[38;5;28;01mreturn\u001B[39;00m return_value\n",
      "File \u001B[0;32m/project/mlinspect/backends/_pandas_backend.py:171\u001B[0m, in \u001B[0;36mstore_inspection_outputs\u001B[0;34m(annotation_iterators, return_value)\u001B[0m\n\u001B[1;32m    166\u001B[0m \u001B[38;5;28;01mdef\u001B[39;00m \u001B[38;5;21mstore_inspection_outputs\u001B[39m(annotation_iterators, return_value) \u001B[38;5;241m-\u001B[39m\u001B[38;5;241m>\u001B[39m BackendResult:\n\u001B[1;32m    167\u001B[0m \u001B[38;5;250m    \u001B[39m\u001B[38;5;124;03m\"\"\"\u001B[39;00m\n\u001B[1;32m    168\u001B[0m \u001B[38;5;124;03m    Stores the inspection annotations for the rows in the dataframe and the\u001B[39;00m\n\u001B[1;32m    169\u001B[0m \u001B[38;5;124;03m    inspection annotations for the DAG operators in a map\u001B[39;00m\n\u001B[1;32m    170\u001B[0m \u001B[38;5;124;03m    \"\"\"\u001B[39;00m\n\u001B[0;32m--> 171\u001B[0m     annotations_df \u001B[38;5;241m=\u001B[39m \u001B[43mbuild_annotation_df_from_iters\u001B[49m\u001B[43m(\u001B[49m\u001B[43msingleton\u001B[49m\u001B[38;5;241;43m.\u001B[39;49m\u001B[43minspections\u001B[49m\u001B[43m,\u001B[49m\u001B[43m \u001B[49m\u001B[43mannotation_iterators\u001B[49m\u001B[43m)\u001B[49m\n\u001B[1;32m    172\u001B[0m     inspection_outputs \u001B[38;5;241m=\u001B[39m {}\n\u001B[1;32m    173\u001B[0m     \u001B[38;5;28;01mfor\u001B[39;00m inspection \u001B[38;5;129;01min\u001B[39;00m singleton\u001B[38;5;241m.\u001B[39minspections:\n",
      "File \u001B[0;32m/project/mlinspect/backends/_backend_utils.py:36\u001B[0m, in \u001B[0;36mbuild_annotation_df_from_iters\u001B[0;34m(inspections, annotation_iterators)\u001B[0m\n\u001B[1;32m     34\u001B[0m annotation_iterators \u001B[38;5;241m=\u001B[39m itertools\u001B[38;5;241m.\u001B[39mzip_longest(\u001B[38;5;241m*\u001B[39mannotation_iterators)\n\u001B[1;32m     35\u001B[0m inspection_names \u001B[38;5;241m=\u001B[39m [\u001B[38;5;28mstr\u001B[39m(inspection) \u001B[38;5;28;01mfor\u001B[39;00m inspection \u001B[38;5;129;01min\u001B[39;00m inspections]\n\u001B[0;32m---> 36\u001B[0m annotations_df \u001B[38;5;241m=\u001B[39m \u001B[43mDataFrame\u001B[49m\u001B[43m(\u001B[49m\u001B[43mannotation_iterators\u001B[49m\u001B[43m,\u001B[49m\u001B[43m \u001B[49m\u001B[43mcolumns\u001B[49m\u001B[38;5;241;43m=\u001B[39;49m\u001B[43minspection_names\u001B[49m\u001B[43m)\u001B[49m\n\u001B[1;32m     37\u001B[0m \u001B[38;5;28;01mreturn\u001B[39;00m annotations_df\n",
      "File \u001B[0;32m/project/mlinspect/monkeypatching/_patch_pandas.py:83\u001B[0m, in \u001B[0;36mDataFramePatching.patched__init__\u001B[0;34m(self, *args, **kwargs)\u001B[0m\n\u001B[1;32m     76\u001B[0m     dag_node \u001B[38;5;241m=\u001B[39m DagNode(op_id,\n\u001B[1;32m     77\u001B[0m                        BasicCodeLocation(caller_filename, lineno),\n\u001B[1;32m     78\u001B[0m                        operator_context,\n\u001B[1;32m     79\u001B[0m                        DagNodeDetails(\u001B[38;5;28;01mNone\u001B[39;00m, columns),\n\u001B[1;32m     80\u001B[0m                        get_optional_code_info_or_none(optional_code_reference, optional_source_code))\n\u001B[1;32m     81\u001B[0m     add_dag_node(dag_node, [], backend_result)\n\u001B[0;32m---> 83\u001B[0m \u001B[43mexecute_patched_func\u001B[49m\u001B[43m(\u001B[49m\u001B[43moriginal\u001B[49m\u001B[43m,\u001B[49m\u001B[43m \u001B[49m\u001B[43mexecute_inspections\u001B[49m\u001B[43m,\u001B[49m\u001B[43m \u001B[49m\u001B[38;5;28;43mself\u001B[39;49m\u001B[43m,\u001B[49m\u001B[43m \u001B[49m\u001B[38;5;241;43m*\u001B[39;49m\u001B[43margs\u001B[49m\u001B[43m,\u001B[49m\u001B[43m \u001B[49m\u001B[38;5;241;43m*\u001B[39;49m\u001B[38;5;241;43m*\u001B[39;49m\u001B[43mkwargs\u001B[49m\u001B[43m)\u001B[49m\n",
      "File \u001B[0;32m/project/mlinspect/monkeypatching/_monkey_patching_utils.py:45\u001B[0m, in \u001B[0;36mexecute_patched_func\u001B[0;34m(original_func, execute_inspections_func, *args, **kwargs)\u001B[0m\n\u001B[1;32m     42\u001B[0m caller_filename \u001B[38;5;241m=\u001B[39m sys\u001B[38;5;241m.\u001B[39m_getframe(\u001B[38;5;241m2\u001B[39m)\u001B[38;5;241m.\u001B[39mf_code\u001B[38;5;241m.\u001B[39mco_filename  \u001B[38;5;66;03m# pylint: disable=protected-access\u001B[39;00m\n\u001B[1;32m     44\u001B[0m \u001B[38;5;28;01mif\u001B[39;00m caller_filename \u001B[38;5;241m!=\u001B[39m singleton\u001B[38;5;241m.\u001B[39msource_code_path:\n\u001B[0;32m---> 45\u001B[0m     result \u001B[38;5;241m=\u001B[39m \u001B[43moriginal_func\u001B[49m\u001B[43m(\u001B[49m\u001B[38;5;241;43m*\u001B[39;49m\u001B[43margs\u001B[49m\u001B[43m,\u001B[49m\u001B[43m \u001B[49m\u001B[38;5;241;43m*\u001B[39;49m\u001B[38;5;241;43m*\u001B[39;49m\u001B[43mkwargs\u001B[49m\u001B[43m)\u001B[49m\n\u001B[1;32m     46\u001B[0m \u001B[38;5;28;01melif\u001B[39;00m singleton\u001B[38;5;241m.\u001B[39mtrack_code_references:\n\u001B[1;32m     47\u001B[0m     call_ast_node \u001B[38;5;241m=\u001B[39m ast\u001B[38;5;241m.\u001B[39mCall(lineno\u001B[38;5;241m=\u001B[39msingleton\u001B[38;5;241m.\u001B[39mlineno_next_call_or_subscript,\n\u001B[1;32m     48\u001B[0m                              col_offset\u001B[38;5;241m=\u001B[39msingleton\u001B[38;5;241m.\u001B[39mcol_offset_next_call_or_subscript,\n\u001B[1;32m     49\u001B[0m                              end_lineno\u001B[38;5;241m=\u001B[39msingleton\u001B[38;5;241m.\u001B[39mend_lineno_next_call_or_subscript,\n\u001B[1;32m     50\u001B[0m                              end_col_offset\u001B[38;5;241m=\u001B[39msingleton\u001B[38;5;241m.\u001B[39mend_col_offset_next_call_or_subscript)\n",
      "File \u001B[0;32m/opt/venv/lib/python3.9/site-packages/pandas/core/frame.py:798\u001B[0m, in \u001B[0;36mDataFrame.__init__\u001B[0;34m(self, data, index, columns, dtype, copy)\u001B[0m\n\u001B[1;32m    796\u001B[0m         data \u001B[38;5;241m=\u001B[39m np\u001B[38;5;241m.\u001B[39masarray(data)\n\u001B[1;32m    797\u001B[0m     \u001B[38;5;28;01melse\u001B[39;00m:\n\u001B[0;32m--> 798\u001B[0m         data \u001B[38;5;241m=\u001B[39m \u001B[38;5;28;43mlist\u001B[39;49m\u001B[43m(\u001B[49m\u001B[43mdata\u001B[49m\u001B[43m)\u001B[49m\n\u001B[1;32m    799\u001B[0m \u001B[38;5;28;01mif\u001B[39;00m \u001B[38;5;28mlen\u001B[39m(data) \u001B[38;5;241m>\u001B[39m \u001B[38;5;241m0\u001B[39m:\n\u001B[1;32m    800\u001B[0m     \u001B[38;5;28;01mif\u001B[39;00m is_dataclass(data[\u001B[38;5;241m0\u001B[39m]):\n",
      "File \u001B[0;32m/project/features/explainability/inspections/explainer.py:36\u001B[0m, in \u001B[0;36mExplainer.visit_operator\u001B[0;34m(self, inspection_input)\u001B[0m\n\u001B[1;32m     34\u001B[0m         model: KerasClassifier \u001B[38;5;241m=\u001B[39m row\u001B[38;5;241m.\u001B[39moutput[\u001B[38;5;241m0\u001B[39m]\n\u001B[1;32m     35\u001B[0m         \u001B[38;5;28mself\u001B[39m\u001B[38;5;241m.\u001B[39m_explainer \u001B[38;5;241m=\u001B[39m shap\u001B[38;5;241m.\u001B[39mKernelExplainer(model\u001B[38;5;241m.\u001B[39mpredict, \u001B[38;5;28mself\u001B[39m\u001B[38;5;241m.\u001B[39mexplainer_input)\n\u001B[0;32m---> 36\u001B[0m         \u001B[38;5;28;43mself\u001B[39;49m\u001B[38;5;241;43m.\u001B[39;49m\u001B[43m_results\u001B[49m\u001B[43m[\u001B[49m\u001B[43mExplainabilityMethodsEnum\u001B[49m\u001B[38;5;241;43m.\u001B[39;49m\u001B[43mSHAP\u001B[49m\u001B[43m]\u001B[49m \u001B[38;5;241m=\u001B[39m \u001B[38;5;28mself\u001B[39m\u001B[38;5;241m.\u001B[39m_explainer\u001B[38;5;241m.\u001B[39mshap_values(\u001B[38;5;28mself\u001B[39m\u001B[38;5;241m.\u001B[39mtest_input, nsamples\u001B[38;5;241m=\u001B[39m\u001B[38;5;28mself\u001B[39m\u001B[38;5;241m.\u001B[39mnsamples)\n\u001B[1;32m     37\u001B[0m \u001B[38;5;28;01melif\u001B[39;00m ExplainabilityMethodsEnum\u001B[38;5;241m.\u001B[39mLIME \u001B[38;5;129;01min\u001B[39;00m \u001B[38;5;28mself\u001B[39m\u001B[38;5;241m.\u001B[39mmethods:\n\u001B[1;32m     38\u001B[0m     \u001B[38;5;28;01mimport\u001B[39;00m \u001B[38;5;21;01mlime\u001B[39;00m\n",
      "\u001B[0;31mTypeError\u001B[0m: 'NoneType' object does not support item assignment"
     ]
    }
   ],
   "source": [
    "from features.explainability.inspections.explainability_methods_enum import ExplainabilityMethodsEnum\n",
    "from features.explainability.inspections.explainer import Explainer\n",
    "import os\n",
    "os.environ['TF_CPP_MIN_LOG_LEVEL'] = '2'  # Some tensorflow warnings in the pipeline we inspect\n",
    "from mlinspect.utils import get_project_root\n",
    "\n",
    "from mlinspect import PipelineInspector\n",
    "\n",
    "EXAMPLE_PIPELINE = os.path.join(str(get_project_root()), \"features\", \"explainability\", \"pipeline_with_inspection.py\")\n",
    "\n",
    "inspector_result = PipelineInspector\\\n",
    "    .on_pipeline_from_py_file(EXAMPLE_PIPELINE) \\\n",
    "    .add_required_inspection(Explainer([ExplainabilityMethodsEnum.SHAP], X_t_train.view(np.ndarray), X_t_test.view(np.ndarray)[:1])) \\\n",
    "    .execute()\n",
    "\n",
    "extracted_dag = inspector_result.dag\n",
    "dag_node_to_inspection_results = inspector_result.dag_node_to_inspection_results\n",
    "check_results = inspector_result.check_to_check_results"
   ],
   "metadata": {
    "collapsed": false,
    "ExecuteTime": {
     "end_time": "2024-01-14T17:42:51.885521Z",
     "start_time": "2024-01-14T17:42:37.317848Z"
    }
   }
  },
  {
   "cell_type": "code",
   "execution_count": 5,
   "metadata": {
    "ExecuteTime": {
     "end_time": "2024-01-05T00:55:50.098464Z",
     "start_time": "2024-01-05T00:55:50.093236Z"
    }
   },
   "outputs": [
    {
     "name": "stdout",
     "output_type": "stream",
     "text": [
      "\n",
      "\u001B[1mOperatorType.ESTIMATOR (Neural Network)\u001B[0m\n",
      "KerasClassifier(model=create_model_predict, epochs=10, batch_size=1, verbose=0, loss='binary_crossentropy',)\n",
      "CodeReference(lineno=49, col_offset=13, end_lineno=49, end_col_offset=121)\n",
      "[<shap.explainers._kernel.KernelExplainer object at 0xffff2259d970>, array([[-0.25534585, -0.08086055,  0.01702019, -0.01314442,  0.01240813,\n",
      "         0.01164159, -0.01186372, -0.00545947, -0.13522539]])]\n"
     ]
    }
   ],
   "source": [
    "from mlinspect import OperatorType\n",
    "\n",
    "relevant_node = [node for node in extracted_dag.nodes if node.operator_info.operator in {OperatorType.ESTIMATOR,}][0]\n",
    "print(\"\\n\\033[1m{} ({})\\033[0m\\n{}\\n{}\".format(\n",
    "    relevant_node.operator_info.operator,\n",
    "    relevant_node.details.description,\n",
    "    relevant_node.optional_code_info.source_code,\n",
    "    relevant_node.optional_code_info.code_reference))\n",
    "inspection_result = dag_node_to_inspection_results[relevant_node][Explainer([ExplainabilityMethodsEnum.SHAP], X_t_train.view(np.ndarray), X_t_test.view(np.ndarray))]\n",
    "print(inspection_result)"
   ]
  },
  {
   "cell_type": "code",
   "execution_count": null,
   "outputs": [],
   "source": [],
   "metadata": {
    "collapsed": false
   }
  }
 ],
 "metadata": {
  "kernelspec": {
   "display_name": "venv",
   "language": "python",
   "name": "venv"
  },
  "language_info": {
   "codemirror_mode": {
    "name": "ipython",
    "version": 3
   },
   "file_extension": ".py",
   "mimetype": "text/x-python",
   "name": "python",
   "nbconvert_exporter": "python",
   "pygments_lexer": "ipython3",
   "version": "3.9.16"
  }
 },
 "nbformat": 4,
 "nbformat_minor": 1
}
